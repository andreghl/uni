{
 "cells": [
  {
   "cell_type": "markdown",
   "metadata": {},
   "source": [
    "\n",
    "\n",
    "**By Lotte van Gool, Claudia Diego, and André-Ignace Ghonda Lukoki**\n"
   ]
  },
  {
   "cell_type": "markdown",
   "metadata": {},
   "source": [
    "The linear model of last week was:\n",
    "\n",
    "$$\n",
    "\\tag{1}\n",
    "y_{t} = \\alpha_{0} + \\alpha_{1} W_{t} + \\epsilon_{t} \\quad t = 1, \\dots, n\n",
    "$$"
   ]
  },
  {
   "cell_type": "code",
   "execution_count": 1,
   "metadata": {},
   "outputs": [
    {
     "data": {
      "text/plain": [
       "5×2 Matrix{Float64}:\n",
       " 1.0  13.0\n",
       " 1.0   9.0\n",
       " 1.0  17.0\n",
       " 1.0  19.0\n",
       " 1.0  20.0"
      ]
     },
     "execution_count": 1,
     "metadata": {},
     "output_type": "execute_result"
    }
   ],
   "source": [
    "using LinearAlgebra, GLM, Distributions, Plots, Statistics, Random\n",
    "\n",
    "# Dependent variable\n",
    "y = [1649; 1435; 1864; 1892; 1913]\n",
    "\n",
    "# Independent variables\n",
    "\n",
    "W = [13; 9; 17; 19; 20]\n",
    "i = ones(5)\n",
    "\n",
    "# Matrix\n",
    "\n",
    "X = [i W]\n"
   ]
  },
  {
   "cell_type": "markdown",
   "metadata": {},
   "source": [
    "### Team 4 presents (Team 1 lead/back up/feedback)"
   ]
  },
  {
   "cell_type": "code",
   "execution_count": 2,
   "metadata": {},
   "outputs": [
    {
     "data": {
      "text/plain": [
       "2-element Vector{Float64}:\n",
       " 1056.6250000000036\n",
       "   44.485576923076906"
      ]
     },
     "execution_count": 2,
     "metadata": {},
     "output_type": "execute_result"
    }
   ],
   "source": [
    "# Exercise 1\n",
    "\n",
    "beta = inv(X'X)X'y"
   ]
  },
  {
   "cell_type": "code",
   "execution_count": 3,
   "metadata": {},
   "outputs": [
    {
     "data": {
      "text/plain": [
       "5-element Vector{Float64}:\n",
       "  14.06249999999659\n",
       " -21.99519230769579\n",
       "  51.12019230768897\n",
       "  -9.850961538464844\n",
       " -33.33653846154175"
      ]
     },
     "execution_count": 3,
     "metadata": {},
     "output_type": "execute_result"
    }
   ],
   "source": [
    "# Exercise 2\n",
    "\n",
    "e = y .- (X*beta)\n"
   ]
  },
  {
   "cell_type": "code",
   "execution_count": 4,
   "metadata": {},
   "outputs": [
    {
     "data": {
      "text/plain": [
       "-3.3651303965598346e-12"
      ]
     },
     "execution_count": 4,
     "metadata": {},
     "output_type": "execute_result"
    }
   ],
   "source": [
    "# Exercise 2 \n",
    "\n",
    "error = inv(i'i)i'e"
   ]
  },
  {
   "cell_type": "code",
   "execution_count": 5,
   "metadata": {},
   "outputs": [
    {
     "data": {
      "text/plain": [
       "4503.182692307692"
      ]
     },
     "execution_count": 5,
     "metadata": {},
     "output_type": "execute_result"
    }
   ],
   "source": [
    "# Exercise 2\n",
    "\n",
    "SSR = e'e"
   ]
  },
  {
   "cell_type": "code",
   "execution_count": 6,
   "metadata": {},
   "outputs": [
    {
     "data": {
      "text/plain": [
       "1750.6000000000001"
      ]
     },
     "execution_count": 6,
     "metadata": {},
     "output_type": "execute_result"
    }
   ],
   "source": [
    "# Exercise 3\n",
    "\n",
    "mean = inv(i'i)i'y\n"
   ]
  },
  {
   "cell_type": "code",
   "execution_count": 7,
   "metadata": {},
   "outputs": [
    {
     "data": {
      "text/plain": [
       "169153.2"
      ]
     },
     "execution_count": 7,
     "metadata": {},
     "output_type": "execute_result"
    }
   ],
   "source": [
    "# Exercise 3\n",
    "\n",
    "TSS = (y .- mean)'*(y .- mean)"
   ]
  },
  {
   "cell_type": "code",
   "execution_count": 8,
   "metadata": {},
   "outputs": [
    {
     "data": {
      "text/plain": [
       "164650.01730769232"
      ]
     },
     "execution_count": 8,
     "metadata": {},
     "output_type": "execute_result"
    }
   ],
   "source": [
    "# Exercise 3\n",
    "\n",
    "ESS = TSS - SSR"
   ]
  },
  {
   "cell_type": "code",
   "execution_count": 9,
   "metadata": {},
   "outputs": [
    {
     "data": {
      "text/plain": [
       "0.9733780815715712"
      ]
     },
     "execution_count": 9,
     "metadata": {},
     "output_type": "execute_result"
    }
   ],
   "source": [
    "# Exercise 4\n",
    "\n",
    "RSquared = 1 - (SSR/TSS)"
   ]
  },
  {
   "cell_type": "code",
   "execution_count": 10,
   "metadata": {},
   "outputs": [
    {
     "data": {
      "text/plain": [
       "0.964504108762095"
      ]
     },
     "execution_count": 10,
     "metadata": {},
     "output_type": "execute_result"
    }
   ],
   "source": [
    "# Exercise 4\n",
    "\n",
    "adjRSquared = 1 - (SSR/(5 - 2))/(TSS/(5 - 1))"
   ]
  },
  {
   "cell_type": "code",
   "execution_count": 11,
   "metadata": {},
   "outputs": [
    {
     "data": {
      "text/plain": [
       "5-element Vector{Int64}:\n",
       " 169\n",
       "  81\n",
       " 289\n",
       " 361\n",
       " 400"
      ]
     },
     "execution_count": 11,
     "metadata": {},
     "output_type": "execute_result"
    }
   ],
   "source": [
    "# Exercise 5\n",
    "\n",
    "W2 = W .^ 2"
   ]
  },
  {
   "cell_type": "code",
   "execution_count": 12,
   "metadata": {},
   "outputs": [
    {
     "data": {
      "text/plain": [
       "5×3 Matrix{Float64}:\n",
       " 1.0  13.0  169.0\n",
       " 1.0   9.0   81.0\n",
       " 1.0  17.0  289.0\n",
       " 1.0  19.0  361.0\n",
       " 1.0  20.0  400.0"
      ]
     },
     "execution_count": 12,
     "metadata": {},
     "output_type": "execute_result"
    }
   ],
   "source": [
    "# Exercise 5\n",
    "\n",
    "X = [i W W2]"
   ]
  },
  {
   "cell_type": "code",
   "execution_count": 13,
   "metadata": {},
   "outputs": [
    {
     "data": {
      "text/plain": [
       "3-element Vector{Float64}:\n",
       " 630.5842229058035\n",
       " 108.51562260786886\n",
       "  -2.203184367648646"
      ]
     },
     "execution_count": 13,
     "metadata": {},
     "output_type": "execute_result"
    }
   ],
   "source": [
    "# Exercise 6\n",
    "\n",
    "beta = inv(X'X)X'y"
   ]
  },
  {
   "cell_type": "markdown",
   "metadata": {},
   "source": [
    "The 3 coefficient is negative, thus the relationship has an inverted U shape."
   ]
  },
  {
   "cell_type": "code",
   "execution_count": 14,
   "metadata": {},
   "outputs": [
    {
     "data": {
      "text/plain": [
       "5-element Vector{Float64}:\n",
       " -19.94915867547752\n",
       "   6.233107402917085\n",
       "  25.370475010884547\n",
       "  -5.031495734150667\n",
       "  -6.622928003722336"
      ]
     },
     "execution_count": 14,
     "metadata": {},
     "output_type": "execute_result"
    }
   ],
   "source": [
    "# Exercise 7\n",
    "\n",
    "e = y .- (X*beta)\n"
   ]
  },
  {
   "cell_type": "code",
   "execution_count": 15,
   "metadata": {},
   "outputs": [
    {
     "data": {
      "text/plain": [
       "1149.660686698863"
      ]
     },
     "execution_count": 15,
     "metadata": {},
     "output_type": "execute_result"
    }
   ],
   "source": [
    "# Exercise 7\n",
    "\n",
    "SSR = e'e"
   ]
  },
  {
   "cell_type": "code",
   "execution_count": 16,
   "metadata": {},
   "outputs": [
    {
     "data": {
      "text/plain": [
       "0.9932034351895273"
      ]
     },
     "execution_count": 16,
     "metadata": {},
     "output_type": "execute_result"
    }
   ],
   "source": [
    "# Exercise 7\n",
    "\n",
    "RSquared = 1 - (SSR/TSS)"
   ]
  },
  {
   "cell_type": "code",
   "execution_count": 17,
   "metadata": {},
   "outputs": [
    {
     "data": {
      "text/plain": [
       "0.9864068703790545"
      ]
     },
     "execution_count": 17,
     "metadata": {},
     "output_type": "execute_result"
    }
   ],
   "source": [
    "# Exercise 7\n",
    "\n",
    "adjRSquared = 1 - (SSR/(5 - 3))/(TSS/(5 - 1))"
   ]
  },
  {
   "cell_type": "markdown",
   "metadata": {},
   "source": [
    "The addition of the quadratic term improves the model in terms of Goodness-of-Fit."
   ]
  },
  {
   "cell_type": "markdown",
   "metadata": {},
   "source": [
    "### Team 1 presents (Team 2 lead/back up/feedback)"
   ]
  },
  {
   "cell_type": "code",
   "execution_count": 18,
   "metadata": {},
   "outputs": [
    {
     "data": {
      "text/plain": [
       "100-element Vector{Float64}:\n",
       " 1.0\n",
       " 1.0\n",
       " 1.0\n",
       " 1.0\n",
       " 1.0\n",
       " 1.0\n",
       " 1.0\n",
       " 1.0\n",
       " 1.0\n",
       " 1.0\n",
       " 1.0\n",
       " 1.0\n",
       " 1.0\n",
       " ⋮\n",
       " 1.0\n",
       " 1.0\n",
       " 1.0\n",
       " 1.0\n",
       " 1.0\n",
       " 1.0\n",
       " 1.0\n",
       " 1.0\n",
       " 1.0\n",
       " 1.0\n",
       " 1.0\n",
       " 1.0"
      ]
     },
     "execution_count": 18,
     "metadata": {},
     "output_type": "execute_result"
    }
   ],
   "source": [
    "# Exercise 1\n",
    "\n",
    "Random.seed!(666) # Should be number of the beast\n",
    "\n",
    "i = ones(100)\n"
   ]
  },
  {
   "cell_type": "code",
   "execution_count": 19,
   "metadata": {},
   "outputs": [
    {
     "data": {
      "text/plain": [
       "100-element Vector{Float64}:\n",
       " -0.5014041861197582\n",
       "  5.9176119591415866\n",
       "  0.47253417919603463\n",
       "  5.2388074512403255\n",
       "  0.31678609934174423\n",
       "  2.4835408125205265\n",
       " -2.822860901575277\n",
       "  3.290328460315899\n",
       "  3.9234954844053247\n",
       " -3.8740617141836906\n",
       " -1.8753889419516026\n",
       " -1.6015535170834787\n",
       " -3.2672533991504062\n",
       "  ⋮\n",
       " -0.45398661868747\n",
       "  1.4624473729559242\n",
       " -2.8037069438468256\n",
       " 10.441313130079104\n",
       "  0.005439088109378088\n",
       "  4.056040952709612\n",
       "  2.9315605094791537\n",
       " -0.883049773922144\n",
       " -6.59010137191138\n",
       "  0.1722076169207765\n",
       " -3.8341270731332293\n",
       " -2.3451666215042457"
      ]
     },
     "execution_count": 19,
     "metadata": {},
     "output_type": "execute_result"
    }
   ],
   "source": [
    "# Exercise 1\n",
    "\n",
    "Random.seed!(666)\n",
    "\n",
    "eps = rand(Normal(0, 4), 100)"
   ]
  },
  {
   "cell_type": "code",
   "execution_count": 20,
   "metadata": {},
   "outputs": [
    {
     "data": {
      "text/plain": [
       "100-element Vector{Float64}:\n",
       "  2.253014960292826\n",
       " 12.86839097819485\n",
       "  2.29636883604446\n",
       " 14.50662424228607\n",
       "  1.8369502768770203\n",
       "  8.383256006373344\n",
       "  7.145788424776022\n",
       " 13.834906736634286\n",
       " 12.218496389537522\n",
       " 10.78096081810496\n",
       " 13.271522031221892\n",
       "  3.9290543516003105\n",
       "  7.04491862484636\n",
       "  ⋮\n",
       "  1.8014223328745704\n",
       "  8.889940682829078\n",
       " 11.788799979334195\n",
       " 14.32836901921793\n",
       "  0.009270138254153237\n",
       " 14.06895832313792\n",
       "  4.588702277708096\n",
       "  1.2989991598753585\n",
       " 14.330781001732944\n",
       "  0.4044017540449024\n",
       " 11.17344688099426\n",
       "  4.017709212413617"
      ]
     },
     "execution_count": 20,
     "metadata": {},
     "output_type": "execute_result"
    }
   ],
   "source": [
    "# Exercise 1\n",
    "\n",
    "Random.seed!(666)\n",
    "\n",
    "educ = rand(Uniform(0, 15), 100)\n"
   ]
  },
  {
   "cell_type": "code",
   "execution_count": 21,
   "metadata": {},
   "outputs": [
    {
     "data": {
      "text/plain": [
       "100-element Vector{Float64}:\n",
       "  724.8000918431628\n",
       " 1792.7567097786266\n",
       "  730.109417783642\n",
       " 1955.9012316798473\n",
       "  684.0118137870437\n",
       " 1340.809141449855\n",
       " 1211.755981576027\n",
       " 1886.7810021237447\n",
       " 1725.7731344381575\n",
       " 1574.2220200963125\n",
       " 1825.2768141802376\n",
       "  891.3038816429475\n",
       " 1201.2246090854856\n",
       "    ⋮\n",
       "  679.6882466687695\n",
       " 1390.4565156558638\n",
       " 1676.0762909895725\n",
       " 1943.2782150518722\n",
       "  500.9324529135247\n",
       " 1910.9518732665015\n",
       "  961.8017882802887\n",
       "  629.0168662136138\n",
       " 1926.487998801383\n",
       "  540.612383021411\n",
       " 1613.5105610262929\n",
       "  899.4257546198575"
      ]
     },
     "execution_count": 21,
     "metadata": {},
     "output_type": "execute_result"
    }
   ],
   "source": [
    "# Exercise 1\n",
    "\n",
    "X = [i educ]\n",
    "\n",
    "beta = [500; 100]\n",
    "\n",
    "wage = (X*beta) .+ eps"
   ]
  },
  {
   "cell_type": "code",
   "execution_count": 22,
   "metadata": {},
   "outputs": [
    {
     "data": {
      "image/png": "[encoded data removed]",
      "image/svg+xml": [
       "<?xml version=\"1.0\" encoding=\"utf-8\"?>\n",
       "<svg xmlns=\"http://www.w3.org/2000/svg\" xmlns:xlink=\"http://www.w3.org/1999/xlink\" width=\"600\" height=\"400\" viewBox=\"0 0 2400 1600\">\n",
       "<defs>\n",
       "  <clipPath id=\"clip180\">\n",
       "    <rect x=\"0\" y=\"0\" width=\"2400\" height=\"1600\"/>\n",
       "  </clipPath>\n",
       "</defs>\n",
       "<path clip-path=\"url(#clip180)\" d=\"M0 1600 L2400 1600 L2400 0 L0 0  Z\" fill=\"#ffffff\" fill-rule=\"evenodd\" fill-opacity=\"1\"/>\n",
       "<defs>\n",
       "  <clipPath id=\"clip181\">\n",
       "    <rect x=\"480\" y=\"0\" width=\"1681\" height=\"1600\"/>\n",
       "  </clipPath>\n",
       "</defs>\n",
       "<path clip-path=\"url(#clip180)\" d=\"M199.283 1486.45 L2352.76 1486.45 L2352.76 47.2441 L199.283 47.2441  Z\" fill=\"#ffffff\" fill-rule=\"evenodd\" fill-opacity=\"1\"/>\n",
       "<defs>\n",
       "  <clipPath id=\"clip182\">\n",
       "    <rect x=\"199\" y=\"47\" width=\"2154\" height=\"1440\"/>\n",
       "  </clipPath>\n",
       "</defs>\n",
       "<polyline clip-path=\"url(#clip182)\" style=\"stroke:#000000; stroke-linecap:round; stroke-linejoin:round; stroke-width:2; stroke-opacity:0.1; fill:none\" points=\"258.961,1486.45 258.961,47.2441 \"/>\n",
       "<polyline clip-path=\"url(#clip182)\" style=\"stroke:#000000; stroke-linecap:round; stroke-linejoin:round; stroke-width:2; stroke-opacity:0.1; fill:none\" points=\"943.65,1486.45 943.65,47.2441 \"/>\n",
       "<polyline clip-path=\"url(#clip182)\" style=\"stroke:#000000; stroke-linecap:round; stroke-linejoin:round; stroke-width:2; stroke-opacity:0.1; fill:none\" points=\"1628.34,1486.45 1628.34,47.2441 \"/>\n",
       "<polyline clip-path=\"url(#clip182)\" style=\"stroke:#000000; stroke-linecap:round; stroke-linejoin:round; stroke-width:2; stroke-opacity:0.1; fill:none\" points=\"2313.03,1486.45 2313.03,47.2441 \"/>\n",
       "<polyline clip-path=\"url(#clip180)\" style=\"stroke:#000000; stroke-linecap:round; stroke-linejoin:round; stroke-width:4; stroke-opacity:1; fill:none\" points=\"199.283,1486.45 2352.76,1486.45 \"/>\n",
       "<polyline clip-path=\"url(#clip180)\" style=\"stroke:#000000; stroke-linecap:round; stroke-linejoin:round; stroke-width:4; stroke-opacity:1; fill:none\" points=\"258.961,1486.45 258.961,1467.55 \"/>\n",
       "<polyline clip-path=\"url(#clip180)\" style=\"stroke:#000000; stroke-linecap:round; stroke-linejoin:round; stroke-width:4; stroke-opacity:1; fill:none\" points=\"943.65,1486.45 943.65,1467.55 \"/>\n",
       "<polyline clip-path=\"url(#clip180)\" style=\"stroke:#000000; stroke-linecap:round; stroke-linejoin:round; stroke-width:4; stroke-opacity:1; fill:none\" points=\"1628.34,1486.45 1628.34,1467.55 \"/>\n",
       "<polyline clip-path=\"url(#clip180)\" style=\"stroke:#000000; stroke-linecap:round; stroke-linejoin:round; stroke-width:4; stroke-opacity:1; fill:none\" points=\"2313.03,1486.45 2313.03,1467.55 \"/>\n",
       "<path clip-path=\"url(#clip180)\" d=\"M258.961 1517.37 Q255.35 1517.37 253.521 1520.93 Q251.716 1524.47 251.716 1531.6 Q251.716 1538.71 253.521 1542.27 Q255.35 1545.82 258.961 1545.82 Q262.595 1545.82 264.401 1542.27 Q266.23 1538.71 266.23 1531.6 Q266.23 1524.47 264.401 1520.93 Q262.595 1517.37 258.961 1517.37 M258.961 1513.66 Q264.771 1513.66 267.827 1518.27 Q270.905 1522.85 270.905 1531.6 Q270.905 1540.33 267.827 1544.94 Q264.771 1549.52 258.961 1549.52 Q253.151 1549.52 250.072 1544.94 Q247.017 1540.33 247.017 1531.6 Q247.017 1522.85 250.072 1518.27 Q253.151 1513.66 258.961 1513.66 Z\" fill=\"#000000\" fill-rule=\"nonzero\" fill-opacity=\"1\" /><path clip-path=\"url(#clip180)\" d=\"M933.928 1514.29 L952.284 1514.29 L952.284 1518.22 L938.21 1518.22 L938.21 1526.7 Q939.228 1526.35 940.247 1526.19 Q941.265 1526 942.284 1526 Q948.071 1526 951.451 1529.17 Q954.83 1532.34 954.83 1537.76 Q954.83 1543.34 951.358 1546.44 Q947.886 1549.52 941.566 1549.52 Q939.39 1549.52 937.122 1549.15 Q934.877 1548.78 932.469 1548.04 L932.469 1543.34 Q934.553 1544.47 936.775 1545.03 Q938.997 1545.58 941.474 1545.58 Q945.478 1545.58 947.816 1543.48 Q950.154 1541.37 950.154 1537.76 Q950.154 1534.15 947.816 1532.04 Q945.478 1529.94 941.474 1529.94 Q939.599 1529.94 937.724 1530.35 Q935.872 1530.77 933.928 1531.65 L933.928 1514.29 Z\" fill=\"#000000\" fill-rule=\"nonzero\" fill-opacity=\"1\" /><path clip-path=\"url(#clip180)\" d=\"M1603.03 1544.91 L1610.66 1544.91 L1610.66 1518.55 L1602.35 1520.21 L1602.35 1515.95 L1610.62 1514.29 L1615.29 1514.29 L1615.29 1544.91 L1622.93 1544.91 L1622.93 1548.85 L1603.03 1548.85 L1603.03 1544.91 Z\" fill=\"#000000\" fill-rule=\"nonzero\" fill-opacity=\"1\" /><path clip-path=\"url(#clip180)\" d=\"M1642.38 1517.37 Q1638.77 1517.37 1636.94 1520.93 Q1635.13 1524.47 1635.13 1531.6 Q1635.13 1538.71 1636.94 1542.27 Q1638.77 1545.82 1642.38 1545.82 Q1646.01 1545.82 1647.82 1542.27 Q1649.65 1538.71 1649.65 1531.6 Q1649.65 1524.47 1647.82 1520.93 Q1646.01 1517.37 1642.38 1517.37 M1642.38 1513.66 Q1648.19 1513.66 1651.24 1518.27 Q1654.32 1522.85 1654.32 1531.6 Q1654.32 1540.33 1651.24 1544.94 Q1648.19 1549.52 1642.38 1549.52 Q1636.57 1549.52 1633.49 1544.94 Q1630.43 1540.33 1630.43 1531.6 Q1630.43 1522.85 1633.49 1518.27 Q1636.57 1513.66 1642.38 1513.66 Z\" fill=\"#000000\" fill-rule=\"nonzero\" fill-opacity=\"1\" /><path clip-path=\"url(#clip180)\" d=\"M2288.21 1544.91 L2295.85 1544.91 L2295.85 1518.55 L2287.54 1520.21 L2287.54 1515.95 L2295.8 1514.29 L2300.48 1514.29 L2300.48 1544.91 L2308.12 1544.91 L2308.12 1548.85 L2288.21 1548.85 L2288.21 1544.91 Z\" fill=\"#000000\" fill-rule=\"nonzero\" fill-opacity=\"1\" /><path clip-path=\"url(#clip180)\" d=\"M2317.61 1514.29 L2335.97 1514.29 L2335.97 1518.22 L2321.89 1518.22 L2321.89 1526.7 Q2322.91 1526.35 2323.93 1526.19 Q2324.95 1526 2325.97 1526 Q2331.75 1526 2335.13 1529.17 Q2338.51 1532.34 2338.51 1537.76 Q2338.51 1543.34 2335.04 1546.44 Q2331.57 1549.52 2325.25 1549.52 Q2323.07 1549.52 2320.8 1549.15 Q2318.56 1548.78 2316.15 1548.04 L2316.15 1543.34 Q2318.24 1544.47 2320.46 1545.03 Q2322.68 1545.58 2325.16 1545.58 Q2329.16 1545.58 2331.5 1543.48 Q2333.84 1541.37 2333.84 1537.76 Q2333.84 1534.15 2331.5 1532.04 Q2329.16 1529.94 2325.16 1529.94 Q2323.28 1529.94 2321.41 1530.35 Q2319.55 1530.77 2317.61 1531.65 L2317.61 1514.29 Z\" fill=\"#000000\" fill-rule=\"nonzero\" fill-opacity=\"1\" /><polyline clip-path=\"url(#clip182)\" style=\"stroke:#000000; stroke-linecap:round; stroke-linejoin:round; stroke-width:2; stroke-opacity:0.1; fill:none\" points=\"199.283,1355.27 2352.76,1355.27 \"/>\n",
       "<polyline clip-path=\"url(#clip182)\" style=\"stroke:#000000; stroke-linecap:round; stroke-linejoin:round; stroke-width:2; stroke-opacity:0.1; fill:none\" points=\"199.283,1081.37 2352.76,1081.37 \"/>\n",
       "<polyline clip-path=\"url(#clip182)\" style=\"stroke:#000000; stroke-linecap:round; stroke-linejoin:round; stroke-width:2; stroke-opacity:0.1; fill:none\" points=\"199.283,807.476 2352.76,807.476 \"/>\n",
       "<polyline clip-path=\"url(#clip182)\" style=\"stroke:#000000; stroke-linecap:round; stroke-linejoin:round; stroke-width:2; stroke-opacity:0.1; fill:none\" points=\"199.283,533.58 2352.76,533.58 \"/>\n",
       "<polyline clip-path=\"url(#clip182)\" style=\"stroke:#000000; stroke-linecap:round; stroke-linejoin:round; stroke-width:2; stroke-opacity:0.1; fill:none\" points=\"199.283,259.683 2352.76,259.683 \"/>\n",
       "<polyline clip-path=\"url(#clip180)\" style=\"stroke:#000000; stroke-linecap:round; stroke-linejoin:round; stroke-width:4; stroke-opacity:1; fill:none\" points=\"199.283,1486.45 199.283,47.2441 \"/>\n",
       "<polyline clip-path=\"url(#clip180)\" style=\"stroke:#000000; stroke-linecap:round; stroke-linejoin:round; stroke-width:4; stroke-opacity:1; fill:none\" points=\"199.283,1355.27 218.181,1355.27 \"/>\n",
       "<polyline clip-path=\"url(#clip180)\" style=\"stroke:#000000; stroke-linecap:round; stroke-linejoin:round; stroke-width:4; stroke-opacity:1; fill:none\" points=\"199.283,1081.37 218.181,1081.37 \"/>\n",
       "<polyline clip-path=\"url(#clip180)\" style=\"stroke:#000000; stroke-linecap:round; stroke-linejoin:round; stroke-width:4; stroke-opacity:1; fill:none\" points=\"199.283,807.476 218.181,807.476 \"/>\n",
       "<polyline clip-path=\"url(#clip180)\" style=\"stroke:#000000; stroke-linecap:round; stroke-linejoin:round; stroke-width:4; stroke-opacity:1; fill:none\" points=\"199.283,533.58 218.181,533.58 \"/>\n",
       "<polyline clip-path=\"url(#clip180)\" style=\"stroke:#000000; stroke-linecap:round; stroke-linejoin:round; stroke-width:4; stroke-opacity:1; fill:none\" points=\"199.283,259.683 218.181,259.683 \"/>\n",
       "<path clip-path=\"url(#clip180)\" d=\"M91.5938 1353.4 Q88.4456 1353.4 86.5938 1355.56 Q84.7651 1357.71 84.7651 1361.46 Q84.7651 1365.19 86.5938 1367.36 Q88.4456 1369.52 91.5938 1369.52 Q94.7419 1369.52 96.5706 1367.36 Q98.4224 1365.19 98.4224 1361.46 Q98.4224 1357.71 96.5706 1355.56 Q94.7419 1353.4 91.5938 1353.4 M100.876 1338.75 L100.876 1343.01 Q99.1169 1342.18 97.3113 1341.74 Q95.5289 1341.3 93.7697 1341.3 Q89.1401 1341.3 86.6864 1344.42 Q84.2558 1347.55 83.9086 1353.87 Q85.2743 1351.85 87.3345 1350.79 Q89.3947 1349.7 91.8715 1349.7 Q97.0798 1349.7 100.089 1352.87 Q103.121 1356.02 103.121 1361.46 Q103.121 1366.78 99.9733 1370 Q96.8252 1373.22 91.5938 1373.22 Q85.5984 1373.22 82.4271 1368.64 Q79.2559 1364.03 79.2559 1355.3 Q79.2559 1347.11 83.1447 1342.25 Q87.0336 1337.36 93.5845 1337.36 Q95.3437 1337.36 97.1261 1337.71 Q98.9317 1338.06 100.876 1338.75 Z\" fill=\"#000000\" fill-rule=\"nonzero\" fill-opacity=\"1\" /><path clip-path=\"url(#clip180)\" d=\"M121.177 1341.07 Q117.566 1341.07 115.737 1344.63 Q113.932 1348.17 113.932 1355.3 Q113.932 1362.41 115.737 1365.97 Q117.566 1369.52 121.177 1369.52 Q124.811 1369.52 126.617 1365.97 Q128.445 1362.41 128.445 1355.3 Q128.445 1348.17 126.617 1344.63 Q124.811 1341.07 121.177 1341.07 M121.177 1337.36 Q126.987 1337.36 130.043 1341.97 Q133.121 1346.55 133.121 1355.3 Q133.121 1364.03 130.043 1368.64 Q126.987 1373.22 121.177 1373.22 Q115.367 1373.22 112.288 1368.64 Q109.233 1364.03 109.233 1355.3 Q109.233 1346.55 112.288 1341.97 Q115.367 1337.36 121.177 1337.36 Z\" fill=\"#000000\" fill-rule=\"nonzero\" fill-opacity=\"1\" /><path clip-path=\"url(#clip180)\" d=\"M151.339 1341.07 Q147.728 1341.07 145.899 1344.63 Q144.093 1348.17 144.093 1355.3 Q144.093 1362.41 145.899 1365.97 Q147.728 1369.52 151.339 1369.52 Q154.973 1369.52 156.779 1365.97 Q158.607 1362.41 158.607 1355.3 Q158.607 1348.17 156.779 1344.63 Q154.973 1341.07 151.339 1341.07 M151.339 1337.36 Q157.149 1337.36 160.205 1341.97 Q163.283 1346.55 163.283 1355.3 Q163.283 1364.03 160.205 1368.64 Q157.149 1373.22 151.339 1373.22 Q145.529 1373.22 142.45 1368.64 Q139.394 1364.03 139.394 1355.3 Q139.394 1346.55 142.45 1341.97 Q145.529 1337.36 151.339 1337.36 Z\" fill=\"#000000\" fill-rule=\"nonzero\" fill-opacity=\"1\" /><path clip-path=\"url(#clip180)\" d=\"M81.154 1097.93 L81.154 1093.68 Q82.9133 1094.51 84.7188 1094.95 Q86.5243 1095.39 88.2604 1095.39 Q92.89 1095.39 95.3206 1092.29 Q97.7743 1089.16 98.1215 1082.82 Q96.7789 1084.81 94.7187 1085.87 Q92.6586 1086.94 90.1586 1086.94 Q84.9734 1086.94 81.941 1083.81 Q78.9318 1080.67 78.9318 1075.23 Q78.9318 1069.9 82.0799 1066.68 Q85.2281 1063.47 90.4595 1063.47 Q96.4548 1063.47 99.603 1068.07 Q102.774 1072.66 102.774 1081.41 Q102.774 1089.58 98.8854 1094.46 Q95.0197 1099.32 88.4688 1099.32 Q86.7095 1099.32 84.904 1098.98 Q83.0984 1098.63 81.154 1097.93 M90.4595 1083.28 Q93.6076 1083.28 95.4363 1081.13 Q97.2882 1078.98 97.2882 1075.23 Q97.2882 1071.5 95.4363 1069.35 Q93.6076 1067.17 90.4595 1067.17 Q87.3114 1067.17 85.4595 1069.35 Q83.6308 1071.5 83.6308 1075.23 Q83.6308 1078.98 85.4595 1081.13 Q87.3114 1083.28 90.4595 1083.28 Z\" fill=\"#000000\" fill-rule=\"nonzero\" fill-opacity=\"1\" /><path clip-path=\"url(#clip180)\" d=\"M121.177 1067.17 Q117.566 1067.17 115.737 1070.74 Q113.932 1074.28 113.932 1081.41 Q113.932 1088.51 115.737 1092.08 Q117.566 1095.62 121.177 1095.62 Q124.811 1095.62 126.617 1092.08 Q128.445 1088.51 128.445 1081.41 Q128.445 1074.28 126.617 1070.74 Q124.811 1067.17 121.177 1067.17 M121.177 1063.47 Q126.987 1063.47 130.043 1068.07 Q133.121 1072.66 133.121 1081.41 Q133.121 1090.13 130.043 1094.74 Q126.987 1099.32 121.177 1099.32 Q115.367 1099.32 112.288 1094.74 Q109.233 1090.13 109.233 1081.41 Q109.233 1072.66 112.288 1068.07 Q115.367 1063.47 121.177 1063.47 Z\" fill=\"#000000\" fill-rule=\"nonzero\" fill-opacity=\"1\" /><path clip-path=\"url(#clip180)\" d=\"M151.339 1067.17 Q147.728 1067.17 145.899 1070.74 Q144.093 1074.28 144.093 1081.41 Q144.093 1088.51 145.899 1092.08 Q147.728 1095.62 151.339 1095.62 Q154.973 1095.62 156.779 1092.08 Q158.607 1088.51 158.607 1081.41 Q158.607 1074.28 156.779 1070.74 Q154.973 1067.17 151.339 1067.17 M151.339 1063.47 Q157.149 1063.47 160.205 1068.07 Q163.283 1072.66 163.283 1081.41 Q163.283 1090.13 160.205 1094.74 Q157.149 1099.32 151.339 1099.32 Q145.529 1099.32 142.45 1094.74 Q139.394 1090.13 139.394 1081.41 Q139.394 1072.66 142.45 1068.07 Q145.529 1063.47 151.339 1063.47 Z\" fill=\"#000000\" fill-rule=\"nonzero\" fill-opacity=\"1\" /><path clip-path=\"url(#clip180)\" d=\"M51.6634 820.821 L59.3023 820.821 L59.3023 794.455 L50.9921 796.122 L50.9921 791.863 L59.256 790.196 L63.9319 790.196 L63.9319 820.821 L71.5707 820.821 L71.5707 824.756 L51.6634 824.756 L51.6634 820.821 Z\" fill=\"#000000\" fill-rule=\"nonzero\" fill-opacity=\"1\" /><path clip-path=\"url(#clip180)\" d=\"M85.0429 820.821 L101.362 820.821 L101.362 824.756 L79.4179 824.756 L79.4179 820.821 Q82.0799 818.066 86.6632 813.436 Q91.2697 808.784 92.4502 807.441 Q94.6956 804.918 95.5752 803.182 Q96.478 801.423 96.478 799.733 Q96.478 796.978 94.5336 795.242 Q92.6123 793.506 89.5104 793.506 Q87.3114 793.506 84.8577 794.27 Q82.4271 795.034 79.6494 796.585 L79.6494 791.863 Q82.4734 790.728 84.9271 790.15 Q87.3808 789.571 89.4178 789.571 Q94.7882 789.571 97.9826 792.256 Q101.177 794.941 101.177 799.432 Q101.177 801.562 100.367 803.483 Q99.5798 805.381 97.4734 807.974 Q96.8947 808.645 93.7928 811.862 Q90.691 815.057 85.0429 820.821 Z\" fill=\"#000000\" fill-rule=\"nonzero\" fill-opacity=\"1\" /><path clip-path=\"url(#clip180)\" d=\"M121.177 793.275 Q117.566 793.275 115.737 796.839 Q113.932 800.381 113.932 807.511 Q113.932 814.617 115.737 818.182 Q117.566 821.723 121.177 821.723 Q124.811 821.723 126.617 818.182 Q128.445 814.617 128.445 807.511 Q128.445 800.381 126.617 796.839 Q124.811 793.275 121.177 793.275 M121.177 789.571 Q126.987 789.571 130.043 794.177 Q133.121 798.761 133.121 807.511 Q133.121 816.237 130.043 820.844 Q126.987 825.427 121.177 825.427 Q115.367 825.427 112.288 820.844 Q109.233 816.237 109.233 807.511 Q109.233 798.761 112.288 794.177 Q115.367 789.571 121.177 789.571 Z\" fill=\"#000000\" fill-rule=\"nonzero\" fill-opacity=\"1\" /><path clip-path=\"url(#clip180)\" d=\"M151.339 793.275 Q147.728 793.275 145.899 796.839 Q144.093 800.381 144.093 807.511 Q144.093 814.617 145.899 818.182 Q147.728 821.723 151.339 821.723 Q154.973 821.723 156.779 818.182 Q158.607 814.617 158.607 807.511 Q158.607 800.381 156.779 796.839 Q154.973 793.275 151.339 793.275 M151.339 789.571 Q157.149 789.571 160.205 794.177 Q163.283 798.761 163.283 807.511 Q163.283 816.237 160.205 820.844 Q157.149 825.427 151.339 825.427 Q145.529 825.427 142.45 820.844 Q139.394 816.237 139.394 807.511 Q139.394 798.761 142.45 794.177 Q145.529 789.571 151.339 789.571 Z\" fill=\"#000000\" fill-rule=\"nonzero\" fill-opacity=\"1\" /><path clip-path=\"url(#clip180)\" d=\"M51.6634 546.924 L59.3023 546.924 L59.3023 520.559 L50.9921 522.226 L50.9921 517.966 L59.256 516.3 L63.9319 516.3 L63.9319 546.924 L71.5707 546.924 L71.5707 550.86 L51.6634 550.86 L51.6634 546.924 Z\" fill=\"#000000\" fill-rule=\"nonzero\" fill-opacity=\"1\" /><path clip-path=\"url(#clip180)\" d=\"M81.0614 516.3 L99.4178 516.3 L99.4178 520.235 L85.3438 520.235 L85.3438 528.707 Q86.3623 528.36 87.3808 528.198 Q88.3993 528.013 89.4178 528.013 Q95.2049 528.013 98.5845 531.184 Q101.964 534.355 101.964 539.772 Q101.964 545.35 98.4919 548.452 Q95.0197 551.531 88.7003 551.531 Q86.5243 551.531 84.2558 551.161 Q82.0105 550.79 79.6031 550.049 L79.6031 545.35 Q81.6864 546.485 83.9086 547.04 Q86.1308 547.596 88.6077 547.596 Q92.6123 547.596 94.9502 545.489 Q97.2882 543.383 97.2882 539.772 Q97.2882 536.161 94.9502 534.054 Q92.6123 531.948 88.6077 531.948 Q86.7327 531.948 84.8577 532.364 Q83.0058 532.781 81.0614 533.661 L81.0614 516.3 Z\" fill=\"#000000\" fill-rule=\"nonzero\" fill-opacity=\"1\" /><path clip-path=\"url(#clip180)\" d=\"M121.177 519.378 Q117.566 519.378 115.737 522.943 Q113.932 526.485 113.932 533.614 Q113.932 540.721 115.737 544.286 Q117.566 547.827 121.177 547.827 Q124.811 547.827 126.617 544.286 Q128.445 540.721 128.445 533.614 Q128.445 526.485 126.617 522.943 Q124.811 519.378 121.177 519.378 M121.177 515.675 Q126.987 515.675 130.043 520.281 Q133.121 524.864 133.121 533.614 Q133.121 542.341 130.043 546.948 Q126.987 551.531 121.177 551.531 Q115.367 551.531 112.288 546.948 Q109.233 542.341 109.233 533.614 Q109.233 524.864 112.288 520.281 Q115.367 515.675 121.177 515.675 Z\" fill=\"#000000\" fill-rule=\"nonzero\" fill-opacity=\"1\" /><path clip-path=\"url(#clip180)\" d=\"M151.339 519.378 Q147.728 519.378 145.899 522.943 Q144.093 526.485 144.093 533.614 Q144.093 540.721 145.899 544.286 Q147.728 547.827 151.339 547.827 Q154.973 547.827 156.779 544.286 Q158.607 540.721 158.607 533.614 Q158.607 526.485 156.779 522.943 Q154.973 519.378 151.339 519.378 M151.339 515.675 Q157.149 515.675 160.205 520.281 Q163.283 524.864 163.283 533.614 Q163.283 542.341 160.205 546.948 Q157.149 551.531 151.339 551.531 Q145.529 551.531 142.45 546.948 Q139.394 542.341 139.394 533.614 Q139.394 524.864 142.45 520.281 Q145.529 515.675 151.339 515.675 Z\" fill=\"#000000\" fill-rule=\"nonzero\" fill-opacity=\"1\" /><path clip-path=\"url(#clip180)\" d=\"M51.6634 273.028 L59.3023 273.028 L59.3023 246.663 L50.9921 248.329 L50.9921 244.07 L59.256 242.403 L63.9319 242.403 L63.9319 273.028 L71.5707 273.028 L71.5707 276.963 L51.6634 276.963 L51.6634 273.028 Z\" fill=\"#000000\" fill-rule=\"nonzero\" fill-opacity=\"1\" /><path clip-path=\"url(#clip180)\" d=\"M91.0151 260.551 Q87.6817 260.551 85.7605 262.334 Q83.8623 264.116 83.8623 267.241 Q83.8623 270.366 85.7605 272.149 Q87.6817 273.931 91.0151 273.931 Q94.3484 273.931 96.2697 272.149 Q98.1909 270.343 98.1909 267.241 Q98.1909 264.116 96.2697 262.334 Q94.3715 260.551 91.0151 260.551 M86.3392 258.561 Q83.3299 257.82 81.6401 255.76 Q79.9735 253.7 79.9735 250.737 Q79.9735 246.593 82.9133 244.186 Q85.8762 241.778 91.0151 241.778 Q96.1771 241.778 99.1169 244.186 Q102.057 246.593 102.057 250.737 Q102.057 253.7 100.367 255.76 Q98.7002 257.82 95.7141 258.561 Q99.0937 259.348 100.969 261.639 Q102.867 263.931 102.867 267.241 Q102.867 272.264 99.7882 274.95 Q96.7326 277.635 91.0151 277.635 Q85.2975 277.635 82.2188 274.95 Q79.1633 272.264 79.1633 267.241 Q79.1633 263.931 81.0614 261.639 Q82.9595 259.348 86.3392 258.561 M84.6262 251.177 Q84.6262 253.862 86.2929 255.366 Q87.9827 256.871 91.0151 256.871 Q94.0243 256.871 95.7141 255.366 Q97.4271 253.862 97.4271 251.177 Q97.4271 248.491 95.7141 246.987 Q94.0243 245.482 91.0151 245.482 Q87.9827 245.482 86.2929 246.987 Q84.6262 248.491 84.6262 251.177 Z\" fill=\"#000000\" fill-rule=\"nonzero\" fill-opacity=\"1\" /><path clip-path=\"url(#clip180)\" d=\"M121.177 245.482 Q117.566 245.482 115.737 249.047 Q113.932 252.589 113.932 259.718 Q113.932 266.825 115.737 270.389 Q117.566 273.931 121.177 273.931 Q124.811 273.931 126.617 270.389 Q128.445 266.825 128.445 259.718 Q128.445 252.589 126.617 249.047 Q124.811 245.482 121.177 245.482 M121.177 241.778 Q126.987 241.778 130.043 246.385 Q133.121 250.968 133.121 259.718 Q133.121 268.445 130.043 273.051 Q126.987 277.635 121.177 277.635 Q115.367 277.635 112.288 273.051 Q109.233 268.445 109.233 259.718 Q109.233 250.968 112.288 246.385 Q115.367 241.778 121.177 241.778 Z\" fill=\"#000000\" fill-rule=\"nonzero\" fill-opacity=\"1\" /><path clip-path=\"url(#clip180)\" d=\"M151.339 245.482 Q147.728 245.482 145.899 249.047 Q144.093 252.589 144.093 259.718 Q144.093 266.825 145.899 270.389 Q147.728 273.931 151.339 273.931 Q154.973 273.931 156.779 270.389 Q158.607 266.825 158.607 259.718 Q158.607 252.589 156.779 249.047 Q154.973 245.482 151.339 245.482 M151.339 241.778 Q157.149 241.778 160.205 246.385 Q163.283 250.968 163.283 259.718 Q163.283 268.445 160.205 273.051 Q157.149 277.635 151.339 277.635 Q145.529 277.635 142.45 273.051 Q139.394 268.445 139.394 259.718 Q139.394 250.968 142.45 246.385 Q145.529 241.778 151.339 241.778 Z\" fill=\"#000000\" fill-rule=\"nonzero\" fill-opacity=\"1\" /><circle clip-path=\"url(#clip182)\" cx=\"567.484\" cy=\"1241.33\" r=\"14.4\" fill=\"#009af9\" fill-rule=\"evenodd\" fill-opacity=\"1\" stroke=\"#000000\" stroke-opacity=\"1\" stroke-width=\"3.2\"/>\n",
       "<circle clip-path=\"url(#clip182)\" cx=\"2021.13\" cy=\"266.296\" r=\"14.4\" fill=\"#009af9\" fill-rule=\"evenodd\" fill-opacity=\"1\" stroke=\"#000000\" stroke-opacity=\"1\" stroke-width=\"3.2\"/>\n",
       "<circle clip-path=\"url(#clip182)\" cx=\"573.421\" cy=\"1236.48\" r=\"14.4\" fill=\"#009af9\" fill-rule=\"evenodd\" fill-opacity=\"1\" stroke=\"#000000\" stroke-opacity=\"1\" stroke-width=\"3.2\"/>\n",
       "<circle clip-path=\"url(#clip182)\" cx=\"2245.47\" cy=\"117.348\" r=\"14.4\" fill=\"#009af9\" fill-rule=\"evenodd\" fill-opacity=\"1\" stroke=\"#000000\" stroke-opacity=\"1\" stroke-width=\"3.2\"/>\n",
       "<circle clip-path=\"url(#clip182)\" cx=\"510.509\" cy=\"1278.57\" r=\"14.4\" fill=\"#009af9\" fill-rule=\"evenodd\" fill-opacity=\"1\" stroke=\"#000000\" stroke-opacity=\"1\" stroke-width=\"3.2\"/>\n",
       "<circle clip-path=\"url(#clip182)\" cx=\"1406.95\" cy=\"678.919\" r=\"14.4\" fill=\"#009af9\" fill-rule=\"evenodd\" fill-opacity=\"1\" stroke=\"#000000\" stroke-opacity=\"1\" stroke-width=\"3.2\"/>\n",
       "<circle clip-path=\"url(#clip182)\" cx=\"1237.49\" cy=\"796.743\" r=\"14.4\" fill=\"#009af9\" fill-rule=\"evenodd\" fill-opacity=\"1\" stroke=\"#000000\" stroke-opacity=\"1\" stroke-width=\"3.2\"/>\n",
       "<circle clip-path=\"url(#clip182)\" cx=\"2153.48\" cy=\"180.453\" r=\"14.4\" fill=\"#009af9\" fill-rule=\"evenodd\" fill-opacity=\"1\" stroke=\"#000000\" stroke-opacity=\"1\" stroke-width=\"3.2\"/>\n",
       "<circle clip-path=\"url(#clip182)\" cx=\"1932.13\" cy=\"327.452\" r=\"14.4\" fill=\"#009af9\" fill-rule=\"evenodd\" fill-opacity=\"1\" stroke=\"#000000\" stroke-opacity=\"1\" stroke-width=\"3.2\"/>\n",
       "<circle clip-path=\"url(#clip182)\" cx=\"1735.28\" cy=\"465.816\" r=\"14.4\" fill=\"#009af9\" fill-rule=\"evenodd\" fill-opacity=\"1\" stroke=\"#000000\" stroke-opacity=\"1\" stroke-width=\"3.2\"/>\n",
       "<circle clip-path=\"url(#clip182)\" cx=\"2076.33\" cy=\"236.606\" r=\"14.4\" fill=\"#009af9\" fill-rule=\"evenodd\" fill-opacity=\"1\" stroke=\"#000000\" stroke-opacity=\"1\" stroke-width=\"3.2\"/>\n",
       "<circle clip-path=\"url(#clip182)\" cx=\"796.997\" cy=\"1089.31\" r=\"14.4\" fill=\"#009af9\" fill-rule=\"evenodd\" fill-opacity=\"1\" stroke=\"#000000\" stroke-opacity=\"1\" stroke-width=\"3.2\"/>\n",
       "<circle clip-path=\"url(#clip182)\" cx=\"1223.68\" cy=\"806.358\" r=\"14.4\" fill=\"#009af9\" fill-rule=\"evenodd\" fill-opacity=\"1\" stroke=\"#000000\" stroke-opacity=\"1\" stroke-width=\"3.2\"/>\n",
       "<circle clip-path=\"url(#clip182)\" cx=\"1988.98\" cy=\"288.95\" r=\"14.4\" fill=\"#009af9\" fill-rule=\"evenodd\" fill-opacity=\"1\" stroke=\"#000000\" stroke-opacity=\"1\" stroke-width=\"3.2\"/>\n",
       "<circle clip-path=\"url(#clip182)\" cx=\"1946.86\" cy=\"324.828\" r=\"14.4\" fill=\"#009af9\" fill-rule=\"evenodd\" fill-opacity=\"1\" stroke=\"#000000\" stroke-opacity=\"1\" stroke-width=\"3.2\"/>\n",
       "<circle clip-path=\"url(#clip182)\" cx=\"1943.81\" cy=\"320.498\" r=\"14.4\" fill=\"#009af9\" fill-rule=\"evenodd\" fill-opacity=\"1\" stroke=\"#000000\" stroke-opacity=\"1\" stroke-width=\"3.2\"/>\n",
       "<circle clip-path=\"url(#clip182)\" cx=\"801.774\" cy=\"1082.89\" r=\"14.4\" fill=\"#009af9\" fill-rule=\"evenodd\" fill-opacity=\"1\" stroke=\"#000000\" stroke-opacity=\"1\" stroke-width=\"3.2\"/>\n",
       "<circle clip-path=\"url(#clip182)\" cx=\"2264.22\" cy=\"101.743\" r=\"14.4\" fill=\"#009af9\" fill-rule=\"evenodd\" fill-opacity=\"1\" stroke=\"#000000\" stroke-opacity=\"1\" stroke-width=\"3.2\"/>\n",
       "<circle clip-path=\"url(#clip182)\" cx=\"2173.03\" cy=\"166.851\" r=\"14.4\" fill=\"#009af9\" fill-rule=\"evenodd\" fill-opacity=\"1\" stroke=\"#000000\" stroke-opacity=\"1\" stroke-width=\"3.2\"/>\n",
       "<circle clip-path=\"url(#clip182)\" cx=\"1309.07\" cy=\"742.291\" r=\"14.4\" fill=\"#009af9\" fill-rule=\"evenodd\" fill-opacity=\"1\" stroke=\"#000000\" stroke-opacity=\"1\" stroke-width=\"3.2\"/>\n",
       "<circle clip-path=\"url(#clip182)\" cx=\"1541.35\" cy=\"594.386\" r=\"14.4\" fill=\"#009af9\" fill-rule=\"evenodd\" fill-opacity=\"1\" stroke=\"#000000\" stroke-opacity=\"1\" stroke-width=\"3.2\"/>\n",
       "<circle clip-path=\"url(#clip182)\" cx=\"2105.82\" cy=\"211.209\" r=\"14.4\" fill=\"#009af9\" fill-rule=\"evenodd\" fill-opacity=\"1\" stroke=\"#000000\" stroke-opacity=\"1\" stroke-width=\"3.2\"/>\n",
       "<circle clip-path=\"url(#clip182)\" cx=\"1835.57\" cy=\"398.448\" r=\"14.4\" fill=\"#009af9\" fill-rule=\"evenodd\" fill-opacity=\"1\" stroke=\"#000000\" stroke-opacity=\"1\" stroke-width=\"3.2\"/>\n",
       "<circle clip-path=\"url(#clip182)\" cx=\"2207.18\" cy=\"140.701\" r=\"14.4\" fill=\"#009af9\" fill-rule=\"evenodd\" fill-opacity=\"1\" stroke=\"#000000\" stroke-opacity=\"1\" stroke-width=\"3.2\"/>\n",
       "<circle clip-path=\"url(#clip182)\" cx=\"1691.74\" cy=\"486.149\" r=\"14.4\" fill=\"#009af9\" fill-rule=\"evenodd\" fill-opacity=\"1\" stroke=\"#000000\" stroke-opacity=\"1\" stroke-width=\"3.2\"/>\n",
       "<circle clip-path=\"url(#clip182)\" cx=\"1583.53\" cy=\"567.784\" r=\"14.4\" fill=\"#009af9\" fill-rule=\"evenodd\" fill-opacity=\"1\" stroke=\"#000000\" stroke-opacity=\"1\" stroke-width=\"3.2\"/>\n",
       "<circle clip-path=\"url(#clip182)\" cx=\"1613.58\" cy=\"541.246\" r=\"14.4\" fill=\"#009af9\" fill-rule=\"evenodd\" fill-opacity=\"1\" stroke=\"#000000\" stroke-opacity=\"1\" stroke-width=\"3.2\"/>\n",
       "<circle clip-path=\"url(#clip182)\" cx=\"1378.15\" cy=\"697.878\" r=\"14.4\" fill=\"#009af9\" fill-rule=\"evenodd\" fill-opacity=\"1\" stroke=\"#000000\" stroke-opacity=\"1\" stroke-width=\"3.2\"/>\n",
       "<circle clip-path=\"url(#clip182)\" cx=\"924.679\" cy=\"1000.08\" r=\"14.4\" fill=\"#009af9\" fill-rule=\"evenodd\" fill-opacity=\"1\" stroke=\"#000000\" stroke-opacity=\"1\" stroke-width=\"3.2\"/>\n",
       "<circle clip-path=\"url(#clip182)\" cx=\"952.897\" cy=\"981.498\" r=\"14.4\" fill=\"#009af9\" fill-rule=\"evenodd\" fill-opacity=\"1\" stroke=\"#000000\" stroke-opacity=\"1\" stroke-width=\"3.2\"/>\n",
       "<circle clip-path=\"url(#clip182)\" cx=\"567.339\" cy=\"1240.51\" r=\"14.4\" fill=\"#009af9\" fill-rule=\"evenodd\" fill-opacity=\"1\" stroke=\"#000000\" stroke-opacity=\"1\" stroke-width=\"3.2\"/>\n",
       "<circle clip-path=\"url(#clip182)\" cx=\"1936.88\" cy=\"323.004\" r=\"14.4\" fill=\"#009af9\" fill-rule=\"evenodd\" fill-opacity=\"1\" stroke=\"#000000\" stroke-opacity=\"1\" stroke-width=\"3.2\"/>\n",
       "<circle clip-path=\"url(#clip182)\" cx=\"1237.32\" cy=\"796.807\" r=\"14.4\" fill=\"#009af9\" fill-rule=\"evenodd\" fill-opacity=\"1\" stroke=\"#000000\" stroke-opacity=\"1\" stroke-width=\"3.2\"/>\n",
       "<circle clip-path=\"url(#clip182)\" cx=\"1754.82\" cy=\"448.362\" r=\"14.4\" fill=\"#009af9\" fill-rule=\"evenodd\" fill-opacity=\"1\" stroke=\"#000000\" stroke-opacity=\"1\" stroke-width=\"3.2\"/>\n",
       "<circle clip-path=\"url(#clip182)\" cx=\"559.281\" cy=\"1245.47\" r=\"14.4\" fill=\"#009af9\" fill-rule=\"evenodd\" fill-opacity=\"1\" stroke=\"#000000\" stroke-opacity=\"1\" stroke-width=\"3.2\"/>\n",
       "<circle clip-path=\"url(#clip182)\" cx=\"463.498\" cy=\"1310.79\" r=\"14.4\" fill=\"#009af9\" fill-rule=\"evenodd\" fill-opacity=\"1\" stroke=\"#000000\" stroke-opacity=\"1\" stroke-width=\"3.2\"/>\n",
       "<circle clip-path=\"url(#clip182)\" cx=\"762.588\" cy=\"1108.12\" r=\"14.4\" fill=\"#009af9\" fill-rule=\"evenodd\" fill-opacity=\"1\" stroke=\"#000000\" stroke-opacity=\"1\" stroke-width=\"3.2\"/>\n",
       "<circle clip-path=\"url(#clip182)\" cx=\"1164.2\" cy=\"841.77\" r=\"14.4\" fill=\"#009af9\" fill-rule=\"evenodd\" fill-opacity=\"1\" stroke=\"#000000\" stroke-opacity=\"1\" stroke-width=\"3.2\"/>\n",
       "<circle clip-path=\"url(#clip182)\" cx=\"327.207\" cy=\"1401.38\" r=\"14.4\" fill=\"#009af9\" fill-rule=\"evenodd\" fill-opacity=\"1\" stroke=\"#000000\" stroke-opacity=\"1\" stroke-width=\"3.2\"/>\n",
       "<circle clip-path=\"url(#clip182)\" cx=\"2213.65\" cy=\"137.276\" r=\"14.4\" fill=\"#009af9\" fill-rule=\"evenodd\" fill-opacity=\"1\" stroke=\"#000000\" stroke-opacity=\"1\" stroke-width=\"3.2\"/>\n",
       "<circle clip-path=\"url(#clip182)\" cx=\"430.759\" cy=\"1332.32\" r=\"14.4\" fill=\"#009af9\" fill-rule=\"evenodd\" fill-opacity=\"1\" stroke=\"#000000\" stroke-opacity=\"1\" stroke-width=\"3.2\"/>\n",
       "<circle clip-path=\"url(#clip182)\" cx=\"2139.18\" cy=\"204.095\" r=\"14.4\" fill=\"#009af9\" fill-rule=\"evenodd\" fill-opacity=\"1\" stroke=\"#000000\" stroke-opacity=\"1\" stroke-width=\"3.2\"/>\n",
       "<circle clip-path=\"url(#clip182)\" cx=\"1386.66\" cy=\"696.065\" r=\"14.4\" fill=\"#009af9\" fill-rule=\"evenodd\" fill-opacity=\"1\" stroke=\"#000000\" stroke-opacity=\"1\" stroke-width=\"3.2\"/>\n",
       "<circle clip-path=\"url(#clip182)\" cx=\"1204.37\" cy=\"813.412\" r=\"14.4\" fill=\"#009af9\" fill-rule=\"evenodd\" fill-opacity=\"1\" stroke=\"#000000\" stroke-opacity=\"1\" stroke-width=\"3.2\"/>\n",
       "<circle clip-path=\"url(#clip182)\" cx=\"965.661\" cy=\"973.175\" r=\"14.4\" fill=\"#009af9\" fill-rule=\"evenodd\" fill-opacity=\"1\" stroke=\"#000000\" stroke-opacity=\"1\" stroke-width=\"3.2\"/>\n",
       "<circle clip-path=\"url(#clip182)\" cx=\"1587.85\" cy=\"556.017\" r=\"14.4\" fill=\"#009af9\" fill-rule=\"evenodd\" fill-opacity=\"1\" stroke=\"#000000\" stroke-opacity=\"1\" stroke-width=\"3.2\"/>\n",
       "<circle clip-path=\"url(#clip182)\" cx=\"1031.62\" cy=\"929.761\" r=\"14.4\" fill=\"#009af9\" fill-rule=\"evenodd\" fill-opacity=\"1\" stroke=\"#000000\" stroke-opacity=\"1\" stroke-width=\"3.2\"/>\n",
       "<circle clip-path=\"url(#clip182)\" cx=\"2161.53\" cy=\"182.021\" r=\"14.4\" fill=\"#009af9\" fill-rule=\"evenodd\" fill-opacity=\"1\" stroke=\"#000000\" stroke-opacity=\"1\" stroke-width=\"3.2\"/>\n",
       "<circle clip-path=\"url(#clip182)\" cx=\"1652.05\" cy=\"519.737\" r=\"14.4\" fill=\"#009af9\" fill-rule=\"evenodd\" fill-opacity=\"1\" stroke=\"#000000\" stroke-opacity=\"1\" stroke-width=\"3.2\"/>\n",
       "<circle clip-path=\"url(#clip182)\" cx=\"2278.73\" cy=\"90.998\" r=\"14.4\" fill=\"#009af9\" fill-rule=\"evenodd\" fill-opacity=\"1\" stroke=\"#000000\" stroke-opacity=\"1\" stroke-width=\"3.2\"/>\n",
       "<circle clip-path=\"url(#clip182)\" cx=\"1663.84\" cy=\"513.744\" r=\"14.4\" fill=\"#009af9\" fill-rule=\"evenodd\" fill-opacity=\"1\" stroke=\"#000000\" stroke-opacity=\"1\" stroke-width=\"3.2\"/>\n",
       "<circle clip-path=\"url(#clip182)\" cx=\"2002.11\" cy=\"283.218\" r=\"14.4\" fill=\"#009af9\" fill-rule=\"evenodd\" fill-opacity=\"1\" stroke=\"#000000\" stroke-opacity=\"1\" stroke-width=\"3.2\"/>\n",
       "<circle clip-path=\"url(#clip182)\" cx=\"1704.85\" cy=\"476.017\" r=\"14.4\" fill=\"#009af9\" fill-rule=\"evenodd\" fill-opacity=\"1\" stroke=\"#000000\" stroke-opacity=\"1\" stroke-width=\"3.2\"/>\n",
       "<circle clip-path=\"url(#clip182)\" cx=\"1148.25\" cy=\"853.019\" r=\"14.4\" fill=\"#009af9\" fill-rule=\"evenodd\" fill-opacity=\"1\" stroke=\"#000000\" stroke-opacity=\"1\" stroke-width=\"3.2\"/>\n",
       "<circle clip-path=\"url(#clip182)\" cx=\"1882.96\" cy=\"365.352\" r=\"14.4\" fill=\"#009af9\" fill-rule=\"evenodd\" fill-opacity=\"1\" stroke=\"#000000\" stroke-opacity=\"1\" stroke-width=\"3.2\"/>\n",
       "<circle clip-path=\"url(#clip182)\" cx=\"2150.17\" cy=\"175.936\" r=\"14.4\" fill=\"#009af9\" fill-rule=\"evenodd\" fill-opacity=\"1\" stroke=\"#000000\" stroke-opacity=\"1\" stroke-width=\"3.2\"/>\n",
       "<circle clip-path=\"url(#clip182)\" cx=\"2291.81\" cy=\"87.9763\" r=\"14.4\" fill=\"#009af9\" fill-rule=\"evenodd\" fill-opacity=\"1\" stroke=\"#000000\" stroke-opacity=\"1\" stroke-width=\"3.2\"/>\n",
       "<circle clip-path=\"url(#clip182)\" cx=\"721.226\" cy=\"1139.55\" r=\"14.4\" fill=\"#009af9\" fill-rule=\"evenodd\" fill-opacity=\"1\" stroke=\"#000000\" stroke-opacity=\"1\" stroke-width=\"3.2\"/>\n",
       "<circle clip-path=\"url(#clip182)\" cx=\"1153.73\" cy=\"852.987\" r=\"14.4\" fill=\"#009af9\" fill-rule=\"evenodd\" fill-opacity=\"1\" stroke=\"#000000\" stroke-opacity=\"1\" stroke-width=\"3.2\"/>\n",
       "<circle clip-path=\"url(#clip182)\" cx=\"403.183\" cy=\"1350.58\" r=\"14.4\" fill=\"#009af9\" fill-rule=\"evenodd\" fill-opacity=\"1\" stroke=\"#000000\" stroke-opacity=\"1\" stroke-width=\"3.2\"/>\n",
       "<circle clip-path=\"url(#clip182)\" cx=\"921.707\" cy=\"1005.39\" r=\"14.4\" fill=\"#009af9\" fill-rule=\"evenodd\" fill-opacity=\"1\" stroke=\"#000000\" stroke-opacity=\"1\" stroke-width=\"3.2\"/>\n",
       "<circle clip-path=\"url(#clip182)\" cx=\"1365.48\" cy=\"714.265\" r=\"14.4\" fill=\"#009af9\" fill-rule=\"evenodd\" fill-opacity=\"1\" stroke=\"#000000\" stroke-opacity=\"1\" stroke-width=\"3.2\"/>\n",
       "<circle clip-path=\"url(#clip182)\" cx=\"512.386\" cy=\"1277.99\" r=\"14.4\" fill=\"#009af9\" fill-rule=\"evenodd\" fill-opacity=\"1\" stroke=\"#000000\" stroke-opacity=\"1\" stroke-width=\"3.2\"/>\n",
       "<circle clip-path=\"url(#clip182)\" cx=\"1306.23\" cy=\"743.474\" r=\"14.4\" fill=\"#009af9\" fill-rule=\"evenodd\" fill-opacity=\"1\" stroke=\"#000000\" stroke-opacity=\"1\" stroke-width=\"3.2\"/>\n",
       "<circle clip-path=\"url(#clip182)\" cx=\"945.176\" cy=\"992.215\" r=\"14.4\" fill=\"#009af9\" fill-rule=\"evenodd\" fill-opacity=\"1\" stroke=\"#000000\" stroke-opacity=\"1\" stroke-width=\"3.2\"/>\n",
       "<circle clip-path=\"url(#clip182)\" cx=\"1246.76\" cy=\"790.973\" r=\"14.4\" fill=\"#009af9\" fill-rule=\"evenodd\" fill-opacity=\"1\" stroke=\"#000000\" stroke-opacity=\"1\" stroke-width=\"3.2\"/>\n",
       "<circle clip-path=\"url(#clip182)\" cx=\"826.828\" cy=\"1067.67\" r=\"14.4\" fill=\"#009af9\" fill-rule=\"evenodd\" fill-opacity=\"1\" stroke=\"#000000\" stroke-opacity=\"1\" stroke-width=\"3.2\"/>\n",
       "<circle clip-path=\"url(#clip182)\" cx=\"1561.49\" cy=\"574.67\" r=\"14.4\" fill=\"#009af9\" fill-rule=\"evenodd\" fill-opacity=\"1\" stroke=\"#000000\" stroke-opacity=\"1\" stroke-width=\"3.2\"/>\n",
       "<circle clip-path=\"url(#clip182)\" cx=\"319.067\" cy=\"1406.35\" r=\"14.4\" fill=\"#009af9\" fill-rule=\"evenodd\" fill-opacity=\"1\" stroke=\"#000000\" stroke-opacity=\"1\" stroke-width=\"3.2\"/>\n",
       "<circle clip-path=\"url(#clip182)\" cx=\"1718.9\" cy=\"476.856\" r=\"14.4\" fill=\"#009af9\" fill-rule=\"evenodd\" fill-opacity=\"1\" stroke=\"#000000\" stroke-opacity=\"1\" stroke-width=\"3.2\"/>\n",
       "<circle clip-path=\"url(#clip182)\" cx=\"1448.12\" cy=\"650.826\" r=\"14.4\" fill=\"#009af9\" fill-rule=\"evenodd\" fill-opacity=\"1\" stroke=\"#000000\" stroke-opacity=\"1\" stroke-width=\"3.2\"/>\n",
       "<circle clip-path=\"url(#clip182)\" cx=\"780.646\" cy=\"1099.8\" r=\"14.4\" fill=\"#009af9\" fill-rule=\"evenodd\" fill-opacity=\"1\" stroke=\"#000000\" stroke-opacity=\"1\" stroke-width=\"3.2\"/>\n",
       "<circle clip-path=\"url(#clip182)\" cx=\"1820.25\" cy=\"413.562\" r=\"14.4\" fill=\"#009af9\" fill-rule=\"evenodd\" fill-opacity=\"1\" stroke=\"#000000\" stroke-opacity=\"1\" stroke-width=\"3.2\"/>\n",
       "<circle clip-path=\"url(#clip182)\" cx=\"2211.11\" cy=\"140.409\" r=\"14.4\" fill=\"#009af9\" fill-rule=\"evenodd\" fill-opacity=\"1\" stroke=\"#000000\" stroke-opacity=\"1\" stroke-width=\"3.2\"/>\n",
       "<circle clip-path=\"url(#clip182)\" cx=\"1927.41\" cy=\"339.952\" r=\"14.4\" fill=\"#009af9\" fill-rule=\"evenodd\" fill-opacity=\"1\" stroke=\"#000000\" stroke-opacity=\"1\" stroke-width=\"3.2\"/>\n",
       "<circle clip-path=\"url(#clip182)\" cx=\"1613.95\" cy=\"545.972\" r=\"14.4\" fill=\"#009af9\" fill-rule=\"evenodd\" fill-opacity=\"1\" stroke=\"#000000\" stroke-opacity=\"1\" stroke-width=\"3.2\"/>\n",
       "<circle clip-path=\"url(#clip182)\" cx=\"1049.71\" cy=\"921.946\" r=\"14.4\" fill=\"#009af9\" fill-rule=\"evenodd\" fill-opacity=\"1\" stroke=\"#000000\" stroke-opacity=\"1\" stroke-width=\"3.2\"/>\n",
       "<circle clip-path=\"url(#clip182)\" cx=\"1913.67\" cy=\"334.581\" r=\"14.4\" fill=\"#009af9\" fill-rule=\"evenodd\" fill-opacity=\"1\" stroke=\"#000000\" stroke-opacity=\"1\" stroke-width=\"3.2\"/>\n",
       "<circle clip-path=\"url(#clip182)\" cx=\"1733.71\" cy=\"460.49\" r=\"14.4\" fill=\"#009af9\" fill-rule=\"evenodd\" fill-opacity=\"1\" stroke=\"#000000\" stroke-opacity=\"1\" stroke-width=\"3.2\"/>\n",
       "<circle clip-path=\"url(#clip182)\" cx=\"1781.83\" cy=\"433.686\" r=\"14.4\" fill=\"#009af9\" fill-rule=\"evenodd\" fill-opacity=\"1\" stroke=\"#000000\" stroke-opacity=\"1\" stroke-width=\"3.2\"/>\n",
       "<circle clip-path=\"url(#clip182)\" cx=\"954.436\" cy=\"981.985\" r=\"14.4\" fill=\"#009af9\" fill-rule=\"evenodd\" fill-opacity=\"1\" stroke=\"#000000\" stroke-opacity=\"1\" stroke-width=\"3.2\"/>\n",
       "<circle clip-path=\"url(#clip182)\" cx=\"1311.9\" cy=\"739.669\" r=\"14.4\" fill=\"#009af9\" fill-rule=\"evenodd\" fill-opacity=\"1\" stroke=\"#000000\" stroke-opacity=\"1\" stroke-width=\"3.2\"/>\n",
       "<circle clip-path=\"url(#clip182)\" cx=\"1745.07\" cy=\"452.956\" r=\"14.4\" fill=\"#009af9\" fill-rule=\"evenodd\" fill-opacity=\"1\" stroke=\"#000000\" stroke-opacity=\"1\" stroke-width=\"3.2\"/>\n",
       "<circle clip-path=\"url(#clip182)\" cx=\"890.051\" cy=\"1027.11\" r=\"14.4\" fill=\"#009af9\" fill-rule=\"evenodd\" fill-opacity=\"1\" stroke=\"#000000\" stroke-opacity=\"1\" stroke-width=\"3.2\"/>\n",
       "<circle clip-path=\"url(#clip182)\" cx=\"1732.86\" cy=\"459.873\" r=\"14.4\" fill=\"#009af9\" fill-rule=\"evenodd\" fill-opacity=\"1\" stroke=\"#000000\" stroke-opacity=\"1\" stroke-width=\"3.2\"/>\n",
       "<circle clip-path=\"url(#clip182)\" cx=\"2013.37\" cy=\"281.808\" r=\"14.4\" fill=\"#009af9\" fill-rule=\"evenodd\" fill-opacity=\"1\" stroke=\"#000000\" stroke-opacity=\"1\" stroke-width=\"3.2\"/>\n",
       "<circle clip-path=\"url(#clip182)\" cx=\"1194.21\" cy=\"824.374\" r=\"14.4\" fill=\"#009af9\" fill-rule=\"evenodd\" fill-opacity=\"1\" stroke=\"#000000\" stroke-opacity=\"1\" stroke-width=\"3.2\"/>\n",
       "<circle clip-path=\"url(#clip182)\" cx=\"1722.15\" cy=\"474.33\" r=\"14.4\" fill=\"#009af9\" fill-rule=\"evenodd\" fill-opacity=\"1\" stroke=\"#000000\" stroke-opacity=\"1\" stroke-width=\"3.2\"/>\n",
       "<circle clip-path=\"url(#clip182)\" cx=\"505.644\" cy=\"1282.51\" r=\"14.4\" fill=\"#009af9\" fill-rule=\"evenodd\" fill-opacity=\"1\" stroke=\"#000000\" stroke-opacity=\"1\" stroke-width=\"3.2\"/>\n",
       "<circle clip-path=\"url(#clip182)\" cx=\"1476.33\" cy=\"633.591\" r=\"14.4\" fill=\"#009af9\" fill-rule=\"evenodd\" fill-opacity=\"1\" stroke=\"#000000\" stroke-opacity=\"1\" stroke-width=\"3.2\"/>\n",
       "<circle clip-path=\"url(#clip182)\" cx=\"1873.29\" cy=\"372.824\" r=\"14.4\" fill=\"#009af9\" fill-rule=\"evenodd\" fill-opacity=\"1\" stroke=\"#000000\" stroke-opacity=\"1\" stroke-width=\"3.2\"/>\n",
       "<circle clip-path=\"url(#clip182)\" cx=\"2221.06\" cy=\"128.872\" r=\"14.4\" fill=\"#009af9\" fill-rule=\"evenodd\" fill-opacity=\"1\" stroke=\"#000000\" stroke-opacity=\"1\" stroke-width=\"3.2\"/>\n",
       "<circle clip-path=\"url(#clip182)\" cx=\"260.231\" cy=\"1445.72\" r=\"14.4\" fill=\"#009af9\" fill-rule=\"evenodd\" fill-opacity=\"1\" stroke=\"#000000\" stroke-opacity=\"1\" stroke-width=\"3.2\"/>\n",
       "<circle clip-path=\"url(#clip182)\" cx=\"2185.53\" cy=\"158.386\" r=\"14.4\" fill=\"#009af9\" fill-rule=\"evenodd\" fill-opacity=\"1\" stroke=\"#000000\" stroke-opacity=\"1\" stroke-width=\"3.2\"/>\n",
       "<circle clip-path=\"url(#clip182)\" cx=\"887.328\" cy=\"1024.95\" r=\"14.4\" fill=\"#009af9\" fill-rule=\"evenodd\" fill-opacity=\"1\" stroke=\"#000000\" stroke-opacity=\"1\" stroke-width=\"3.2\"/>\n",
       "<circle clip-path=\"url(#clip182)\" cx=\"436.843\" cy=\"1328.78\" r=\"14.4\" fill=\"#009af9\" fill-rule=\"evenodd\" fill-opacity=\"1\" stroke=\"#000000\" stroke-opacity=\"1\" stroke-width=\"3.2\"/>\n",
       "<circle clip-path=\"url(#clip182)\" cx=\"2221.39\" cy=\"144.201\" r=\"14.4\" fill=\"#009af9\" fill-rule=\"evenodd\" fill-opacity=\"1\" stroke=\"#000000\" stroke-opacity=\"1\" stroke-width=\"3.2\"/>\n",
       "<circle clip-path=\"url(#clip182)\" cx=\"314.339\" cy=\"1409.49\" r=\"14.4\" fill=\"#009af9\" fill-rule=\"evenodd\" fill-opacity=\"1\" stroke=\"#000000\" stroke-opacity=\"1\" stroke-width=\"3.2\"/>\n",
       "<circle clip-path=\"url(#clip182)\" cx=\"1789.03\" cy=\"429.946\" r=\"14.4\" fill=\"#009af9\" fill-rule=\"evenodd\" fill-opacity=\"1\" stroke=\"#000000\" stroke-opacity=\"1\" stroke-width=\"3.2\"/>\n",
       "<circle clip-path=\"url(#clip182)\" cx=\"809.137\" cy=\"1081.9\" r=\"14.4\" fill=\"#009af9\" fill-rule=\"evenodd\" fill-opacity=\"1\" stroke=\"#000000\" stroke-opacity=\"1\" stroke-width=\"3.2\"/>\n",
       "<path clip-path=\"url(#clip180)\" d=\"M271.066 198.898 L538.843 198.898 L538.843 95.2176 L271.066 95.2176  Z\" fill=\"#ffffff\" fill-rule=\"evenodd\" fill-opacity=\"1\"/>\n",
       "<polyline clip-path=\"url(#clip180)\" style=\"stroke:#000000; stroke-linecap:round; stroke-linejoin:round; stroke-width:4; stroke-opacity:1; fill:none\" points=\"271.066,198.898 538.843,198.898 538.843,95.2176 271.066,95.2176 271.066,198.898 \"/>\n",
       "<circle clip-path=\"url(#clip180)\" cx=\"366.776\" cy=\"147.058\" r=\"20.48\" fill=\"#009af9\" fill-rule=\"evenodd\" fill-opacity=\"1\" stroke=\"#000000\" stroke-opacity=\"1\" stroke-width=\"4.55111\"/>\n",
       "<path clip-path=\"url(#clip180)\" d=\"M476.328 166.745 Q474.522 171.375 472.809 172.787 Q471.096 174.199 468.226 174.199 L464.823 174.199 L464.823 170.634 L467.323 170.634 Q469.083 170.634 470.055 169.8 Q471.027 168.967 472.208 165.865 L472.971 163.921 L462.485 138.412 L466.999 138.412 L475.101 158.689 L483.203 138.412 L487.717 138.412 L476.328 166.745 Z\" fill=\"#000000\" fill-rule=\"nonzero\" fill-opacity=\"1\" /><path clip-path=\"url(#clip180)\" d=\"M495.008 160.402 L502.647 160.402 L502.647 134.037 L494.337 135.703 L494.337 131.444 L502.601 129.778 L507.277 129.778 L507.277 160.402 L514.916 160.402 L514.916 164.338 L495.008 164.338 L495.008 160.402 Z\" fill=\"#000000\" fill-rule=\"nonzero\" fill-opacity=\"1\" /></svg>\n"
      ],
      "text/html": [
       "<?xml version=\"1.0\" encoding=\"utf-8\"?>\n",
       "<svg xmlns=\"http://www.w3.org/2000/svg\" xmlns:xlink=\"http://www.w3.org/1999/xlink\" width=\"600\" height=\"400\" viewBox=\"0 0 2400 1600\">\n",
       "<defs>\n",
       "  <clipPath id=\"clip230\">\n",
       "    <rect x=\"0\" y=\"0\" width=\"2400\" height=\"1600\"/>\n",
       "  </clipPath>\n",
       "</defs>\n",
       "<path clip-path=\"url(#clip230)\" d=\"M0 1600 L2400 1600 L2400 0 L0 0  Z\" fill=\"#ffffff\" fill-rule=\"evenodd\" fill-opacity=\"1\"/>\n",
       "<defs>\n",
       "  <clipPath id=\"clip231\">\n",
       "    <rect x=\"480\" y=\"0\" width=\"1681\" height=\"1600\"/>\n",
       "  </clipPath>\n",
       "</defs>\n",
       "<path clip-path=\"url(#clip230)\" d=\"M199.283 1486.45 L2352.76 1486.45 L2352.76 47.2441 L199.283 47.2441  Z\" fill=\"#ffffff\" fill-rule=\"evenodd\" fill-opacity=\"1\"/>\n",
       "<defs>\n",
       "  <clipPath id=\"clip232\">\n",
       "    <rect x=\"199\" y=\"47\" width=\"2154\" height=\"1440\"/>\n",
       "  </clipPath>\n",
       "</defs>\n",
       "<polyline clip-path=\"url(#clip232)\" style=\"stroke:#000000; stroke-linecap:round; stroke-linejoin:round; stroke-width:2; stroke-opacity:0.1; fill:none\" points=\"258.961,1486.45 258.961,47.2441 \"/>\n",
       "<polyline clip-path=\"url(#clip232)\" style=\"stroke:#000000; stroke-linecap:round; stroke-linejoin:round; stroke-width:2; stroke-opacity:0.1; fill:none\" points=\"943.65,1486.45 943.65,47.2441 \"/>\n",
       "<polyline clip-path=\"url(#clip232)\" style=\"stroke:#000000; stroke-linecap:round; stroke-linejoin:round; stroke-width:2; stroke-opacity:0.1; fill:none\" points=\"1628.34,1486.45 1628.34,47.2441 \"/>\n",
       "<polyline clip-path=\"url(#clip232)\" style=\"stroke:#000000; stroke-linecap:round; stroke-linejoin:round; stroke-width:2; stroke-opacity:0.1; fill:none\" points=\"2313.03,1486.45 2313.03,47.2441 \"/>\n",
       "<polyline clip-path=\"url(#clip230)\" style=\"stroke:#000000; stroke-linecap:round; stroke-linejoin:round; stroke-width:4; stroke-opacity:1; fill:none\" points=\"199.283,1486.45 2352.76,1486.45 \"/>\n",
       "<polyline clip-path=\"url(#clip230)\" style=\"stroke:#000000; stroke-linecap:round; stroke-linejoin:round; stroke-width:4; stroke-opacity:1; fill:none\" points=\"258.961,1486.45 258.961,1467.55 \"/>\n",
       "<polyline clip-path=\"url(#clip230)\" style=\"stroke:#000000; stroke-linecap:round; stroke-linejoin:round; stroke-width:4; stroke-opacity:1; fill:none\" points=\"943.65,1486.45 943.65,1467.55 \"/>\n",
       "<polyline clip-path=\"url(#clip230)\" style=\"stroke:#000000; stroke-linecap:round; stroke-linejoin:round; stroke-width:4; stroke-opacity:1; fill:none\" points=\"1628.34,1486.45 1628.34,1467.55 \"/>\n",
       "<polyline clip-path=\"url(#clip230)\" style=\"stroke:#000000; stroke-linecap:round; stroke-linejoin:round; stroke-width:4; stroke-opacity:1; fill:none\" points=\"2313.03,1486.45 2313.03,1467.55 \"/>\n",
       "<path clip-path=\"url(#clip230)\" d=\"M258.961 1517.37 Q255.35 1517.37 253.521 1520.93 Q251.716 1524.47 251.716 1531.6 Q251.716 1538.71 253.521 1542.27 Q255.35 1545.82 258.961 1545.82 Q262.595 1545.82 264.401 1542.27 Q266.23 1538.71 266.23 1531.6 Q266.23 1524.47 264.401 1520.93 Q262.595 1517.37 258.961 1517.37 M258.961 1513.66 Q264.771 1513.66 267.827 1518.27 Q270.905 1522.85 270.905 1531.6 Q270.905 1540.33 267.827 1544.94 Q264.771 1549.52 258.961 1549.52 Q253.151 1549.52 250.072 1544.94 Q247.017 1540.33 247.017 1531.6 Q247.017 1522.85 250.072 1518.27 Q253.151 1513.66 258.961 1513.66 Z\" fill=\"#000000\" fill-rule=\"nonzero\" fill-opacity=\"1\" /><path clip-path=\"url(#clip230)\" d=\"M933.928 1514.29 L952.284 1514.29 L952.284 1518.22 L938.21 1518.22 L938.21 1526.7 Q939.228 1526.35 940.247 1526.19 Q941.265 1526 942.284 1526 Q948.071 1526 951.451 1529.17 Q954.83 1532.34 954.83 1537.76 Q954.83 1543.34 951.358 1546.44 Q947.886 1549.52 941.566 1549.52 Q939.39 1549.52 937.122 1549.15 Q934.877 1548.78 932.469 1548.04 L932.469 1543.34 Q934.553 1544.47 936.775 1545.03 Q938.997 1545.58 941.474 1545.58 Q945.478 1545.58 947.816 1543.48 Q950.154 1541.37 950.154 1537.76 Q950.154 1534.15 947.816 1532.04 Q945.478 1529.94 941.474 1529.94 Q939.599 1529.94 937.724 1530.35 Q935.872 1530.77 933.928 1531.65 L933.928 1514.29 Z\" fill=\"#000000\" fill-rule=\"nonzero\" fill-opacity=\"1\" /><path clip-path=\"url(#clip230)\" d=\"M1603.03 1544.91 L1610.66 1544.91 L1610.66 1518.55 L1602.35 1520.21 L1602.35 1515.95 L1610.62 1514.29 L1615.29 1514.29 L1615.29 1544.91 L1622.93 1544.91 L1622.93 1548.85 L1603.03 1548.85 L1603.03 1544.91 Z\" fill=\"#000000\" fill-rule=\"nonzero\" fill-opacity=\"1\" /><path clip-path=\"url(#clip230)\" d=\"M1642.38 1517.37 Q1638.77 1517.37 1636.94 1520.93 Q1635.13 1524.47 1635.13 1531.6 Q1635.13 1538.71 1636.94 1542.27 Q1638.77 1545.82 1642.38 1545.82 Q1646.01 1545.82 1647.82 1542.27 Q1649.65 1538.71 1649.65 1531.6 Q1649.65 1524.47 1647.82 1520.93 Q1646.01 1517.37 1642.38 1517.37 M1642.38 1513.66 Q1648.19 1513.66 1651.24 1518.27 Q1654.32 1522.85 1654.32 1531.6 Q1654.32 1540.33 1651.24 1544.94 Q1648.19 1549.52 1642.38 1549.52 Q1636.57 1549.52 1633.49 1544.94 Q1630.43 1540.33 1630.43 1531.6 Q1630.43 1522.85 1633.49 1518.27 Q1636.57 1513.66 1642.38 1513.66 Z\" fill=\"#000000\" fill-rule=\"nonzero\" fill-opacity=\"1\" /><path clip-path=\"url(#clip230)\" d=\"M2288.21 1544.91 L2295.85 1544.91 L2295.85 1518.55 L2287.54 1520.21 L2287.54 1515.95 L2295.8 1514.29 L2300.48 1514.29 L2300.48 1544.91 L2308.12 1544.91 L2308.12 1548.85 L2288.21 1548.85 L2288.21 1544.91 Z\" fill=\"#000000\" fill-rule=\"nonzero\" fill-opacity=\"1\" /><path clip-path=\"url(#clip230)\" d=\"M2317.61 1514.29 L2335.97 1514.29 L2335.97 1518.22 L2321.89 1518.22 L2321.89 1526.7 Q2322.91 1526.35 2323.93 1526.19 Q2324.95 1526 2325.97 1526 Q2331.75 1526 2335.13 1529.17 Q2338.51 1532.34 2338.51 1537.76 Q2338.51 1543.34 2335.04 1546.44 Q2331.57 1549.52 2325.25 1549.52 Q2323.07 1549.52 2320.8 1549.15 Q2318.56 1548.78 2316.15 1548.04 L2316.15 1543.34 Q2318.24 1544.47 2320.46 1545.03 Q2322.68 1545.58 2325.16 1545.58 Q2329.16 1545.58 2331.5 1543.48 Q2333.84 1541.37 2333.84 1537.76 Q2333.84 1534.15 2331.5 1532.04 Q2329.16 1529.94 2325.16 1529.94 Q2323.28 1529.94 2321.41 1530.35 Q2319.55 1530.77 2317.61 1531.65 L2317.61 1514.29 Z\" fill=\"#000000\" fill-rule=\"nonzero\" fill-opacity=\"1\" /><polyline clip-path=\"url(#clip232)\" style=\"stroke:#000000; stroke-linecap:round; stroke-linejoin:round; stroke-width:2; stroke-opacity:0.1; fill:none\" points=\"199.283,1355.27 2352.76,1355.27 \"/>\n",
       "<polyline clip-path=\"url(#clip232)\" style=\"stroke:#000000; stroke-linecap:round; stroke-linejoin:round; stroke-width:2; stroke-opacity:0.1; fill:none\" points=\"199.283,1081.37 2352.76,1081.37 \"/>\n",
       "<polyline clip-path=\"url(#clip232)\" style=\"stroke:#000000; stroke-linecap:round; stroke-linejoin:round; stroke-width:2; stroke-opacity:0.1; fill:none\" points=\"199.283,807.476 2352.76,807.476 \"/>\n",
       "<polyline clip-path=\"url(#clip232)\" style=\"stroke:#000000; stroke-linecap:round; stroke-linejoin:round; stroke-width:2; stroke-opacity:0.1; fill:none\" points=\"199.283,533.58 2352.76,533.58 \"/>\n",
       "<polyline clip-path=\"url(#clip232)\" style=\"stroke:#000000; stroke-linecap:round; stroke-linejoin:round; stroke-width:2; stroke-opacity:0.1; fill:none\" points=\"199.283,259.683 2352.76,259.683 \"/>\n",
       "<polyline clip-path=\"url(#clip230)\" style=\"stroke:#000000; stroke-linecap:round; stroke-linejoin:round; stroke-width:4; stroke-opacity:1; fill:none\" points=\"199.283,1486.45 199.283,47.2441 \"/>\n",
       "<polyline clip-path=\"url(#clip230)\" style=\"stroke:#000000; stroke-linecap:round; stroke-linejoin:round; stroke-width:4; stroke-opacity:1; fill:none\" points=\"199.283,1355.27 218.181,1355.27 \"/>\n",
       "<polyline clip-path=\"url(#clip230)\" style=\"stroke:#000000; stroke-linecap:round; stroke-linejoin:round; stroke-width:4; stroke-opacity:1; fill:none\" points=\"199.283,1081.37 218.181,1081.37 \"/>\n",
       "<polyline clip-path=\"url(#clip230)\" style=\"stroke:#000000; stroke-linecap:round; stroke-linejoin:round; stroke-width:4; stroke-opacity:1; fill:none\" points=\"199.283,807.476 218.181,807.476 \"/>\n",
       "<polyline clip-path=\"url(#clip230)\" style=\"stroke:#000000; stroke-linecap:round; stroke-linejoin:round; stroke-width:4; stroke-opacity:1; fill:none\" points=\"199.283,533.58 218.181,533.58 \"/>\n",
       "<polyline clip-path=\"url(#clip230)\" style=\"stroke:#000000; stroke-linecap:round; stroke-linejoin:round; stroke-width:4; stroke-opacity:1; fill:none\" points=\"199.283,259.683 218.181,259.683 \"/>\n",
       "<path clip-path=\"url(#clip230)\" d=\"M91.5938 1353.4 Q88.4456 1353.4 86.5938 1355.56 Q84.7651 1357.71 84.7651 1361.46 Q84.7651 1365.19 86.5938 1367.36 Q88.4456 1369.52 91.5938 1369.52 Q94.7419 1369.52 96.5706 1367.36 Q98.4224 1365.19 98.4224 1361.46 Q98.4224 1357.71 96.5706 1355.56 Q94.7419 1353.4 91.5938 1353.4 M100.876 1338.75 L100.876 1343.01 Q99.1169 1342.18 97.3113 1341.74 Q95.5289 1341.3 93.7697 1341.3 Q89.1401 1341.3 86.6864 1344.42 Q84.2558 1347.55 83.9086 1353.87 Q85.2743 1351.85 87.3345 1350.79 Q89.3947 1349.7 91.8715 1349.7 Q97.0798 1349.7 100.089 1352.87 Q103.121 1356.02 103.121 1361.46 Q103.121 1366.78 99.9733 1370 Q96.8252 1373.22 91.5938 1373.22 Q85.5984 1373.22 82.4271 1368.64 Q79.2559 1364.03 79.2559 1355.3 Q79.2559 1347.11 83.1447 1342.25 Q87.0336 1337.36 93.5845 1337.36 Q95.3437 1337.36 97.1261 1337.71 Q98.9317 1338.06 100.876 1338.75 Z\" fill=\"#000000\" fill-rule=\"nonzero\" fill-opacity=\"1\" /><path clip-path=\"url(#clip230)\" d=\"M121.177 1341.07 Q117.566 1341.07 115.737 1344.63 Q113.932 1348.17 113.932 1355.3 Q113.932 1362.41 115.737 1365.97 Q117.566 1369.52 121.177 1369.52 Q124.811 1369.52 126.617 1365.97 Q128.445 1362.41 128.445 1355.3 Q128.445 1348.17 126.617 1344.63 Q124.811 1341.07 121.177 1341.07 M121.177 1337.36 Q126.987 1337.36 130.043 1341.97 Q133.121 1346.55 133.121 1355.3 Q133.121 1364.03 130.043 1368.64 Q126.987 1373.22 121.177 1373.22 Q115.367 1373.22 112.288 1368.64 Q109.233 1364.03 109.233 1355.3 Q109.233 1346.55 112.288 1341.97 Q115.367 1337.36 121.177 1337.36 Z\" fill=\"#000000\" fill-rule=\"nonzero\" fill-opacity=\"1\" /><path clip-path=\"url(#clip230)\" d=\"M151.339 1341.07 Q147.728 1341.07 145.899 1344.63 Q144.093 1348.17 144.093 1355.3 Q144.093 1362.41 145.899 1365.97 Q147.728 1369.52 151.339 1369.52 Q154.973 1369.52 156.779 1365.97 Q158.607 1362.41 158.607 1355.3 Q158.607 1348.17 156.779 1344.63 Q154.973 1341.07 151.339 1341.07 M151.339 1337.36 Q157.149 1337.36 160.205 1341.97 Q163.283 1346.55 163.283 1355.3 Q163.283 1364.03 160.205 1368.64 Q157.149 1373.22 151.339 1373.22 Q145.529 1373.22 142.45 1368.64 Q139.394 1364.03 139.394 1355.3 Q139.394 1346.55 142.45 1341.97 Q145.529 1337.36 151.339 1337.36 Z\" fill=\"#000000\" fill-rule=\"nonzero\" fill-opacity=\"1\" /><path clip-path=\"url(#clip230)\" d=\"M81.154 1097.93 L81.154 1093.68 Q82.9133 1094.51 84.7188 1094.95 Q86.5243 1095.39 88.2604 1095.39 Q92.89 1095.39 95.3206 1092.29 Q97.7743 1089.16 98.1215 1082.82 Q96.7789 1084.81 94.7187 1085.87 Q92.6586 1086.94 90.1586 1086.94 Q84.9734 1086.94 81.941 1083.81 Q78.9318 1080.67 78.9318 1075.23 Q78.9318 1069.9 82.0799 1066.68 Q85.2281 1063.47 90.4595 1063.47 Q96.4548 1063.47 99.603 1068.07 Q102.774 1072.66 102.774 1081.41 Q102.774 1089.58 98.8854 1094.46 Q95.0197 1099.32 88.4688 1099.32 Q86.7095 1099.32 84.904 1098.98 Q83.0984 1098.63 81.154 1097.93 M90.4595 1083.28 Q93.6076 1083.28 95.4363 1081.13 Q97.2882 1078.98 97.2882 1075.23 Q97.2882 1071.5 95.4363 1069.35 Q93.6076 1067.17 90.4595 1067.17 Q87.3114 1067.17 85.4595 1069.35 Q83.6308 1071.5 83.6308 1075.23 Q83.6308 1078.98 85.4595 1081.13 Q87.3114 1083.28 90.4595 1083.28 Z\" fill=\"#000000\" fill-rule=\"nonzero\" fill-opacity=\"1\" /><path clip-path=\"url(#clip230)\" d=\"M121.177 1067.17 Q117.566 1067.17 115.737 1070.74 Q113.932 1074.28 113.932 1081.41 Q113.932 1088.51 115.737 1092.08 Q117.566 1095.62 121.177 1095.62 Q124.811 1095.62 126.617 1092.08 Q128.445 1088.51 128.445 1081.41 Q128.445 1074.28 126.617 1070.74 Q124.811 1067.17 121.177 1067.17 M121.177 1063.47 Q126.987 1063.47 130.043 1068.07 Q133.121 1072.66 133.121 1081.41 Q133.121 1090.13 130.043 1094.74 Q126.987 1099.32 121.177 1099.32 Q115.367 1099.32 112.288 1094.74 Q109.233 1090.13 109.233 1081.41 Q109.233 1072.66 112.288 1068.07 Q115.367 1063.47 121.177 1063.47 Z\" fill=\"#000000\" fill-rule=\"nonzero\" fill-opacity=\"1\" /><path clip-path=\"url(#clip230)\" d=\"M151.339 1067.17 Q147.728 1067.17 145.899 1070.74 Q144.093 1074.28 144.093 1081.41 Q144.093 1088.51 145.899 1092.08 Q147.728 1095.62 151.339 1095.62 Q154.973 1095.62 156.779 1092.08 Q158.607 1088.51 158.607 1081.41 Q158.607 1074.28 156.779 1070.74 Q154.973 1067.17 151.339 1067.17 M151.339 1063.47 Q157.149 1063.47 160.205 1068.07 Q163.283 1072.66 163.283 1081.41 Q163.283 1090.13 160.205 1094.74 Q157.149 1099.32 151.339 1099.32 Q145.529 1099.32 142.45 1094.74 Q139.394 1090.13 139.394 1081.41 Q139.394 1072.66 142.45 1068.07 Q145.529 1063.47 151.339 1063.47 Z\" fill=\"#000000\" fill-rule=\"nonzero\" fill-opacity=\"1\" /><path clip-path=\"url(#clip230)\" d=\"M51.6634 820.821 L59.3023 820.821 L59.3023 794.455 L50.9921 796.122 L50.9921 791.863 L59.256 790.196 L63.9319 790.196 L63.9319 820.821 L71.5707 820.821 L71.5707 824.756 L51.6634 824.756 L51.6634 820.821 Z\" fill=\"#000000\" fill-rule=\"nonzero\" fill-opacity=\"1\" /><path clip-path=\"url(#clip230)\" d=\"M85.0429 820.821 L101.362 820.821 L101.362 824.756 L79.4179 824.756 L79.4179 820.821 Q82.0799 818.066 86.6632 813.436 Q91.2697 808.784 92.4502 807.441 Q94.6956 804.918 95.5752 803.182 Q96.478 801.423 96.478 799.733 Q96.478 796.978 94.5336 795.242 Q92.6123 793.506 89.5104 793.506 Q87.3114 793.506 84.8577 794.27 Q82.4271 795.034 79.6494 796.585 L79.6494 791.863 Q82.4734 790.728 84.9271 790.15 Q87.3808 789.571 89.4178 789.571 Q94.7882 789.571 97.9826 792.256 Q101.177 794.941 101.177 799.432 Q101.177 801.562 100.367 803.483 Q99.5798 805.381 97.4734 807.974 Q96.8947 808.645 93.7928 811.862 Q90.691 815.057 85.0429 820.821 Z\" fill=\"#000000\" fill-rule=\"nonzero\" fill-opacity=\"1\" /><path clip-path=\"url(#clip230)\" d=\"M121.177 793.275 Q117.566 793.275 115.737 796.839 Q113.932 800.381 113.932 807.511 Q113.932 814.617 115.737 818.182 Q117.566 821.723 121.177 821.723 Q124.811 821.723 126.617 818.182 Q128.445 814.617 128.445 807.511 Q128.445 800.381 126.617 796.839 Q124.811 793.275 121.177 793.275 M121.177 789.571 Q126.987 789.571 130.043 794.177 Q133.121 798.761 133.121 807.511 Q133.121 816.237 130.043 820.844 Q126.987 825.427 121.177 825.427 Q115.367 825.427 112.288 820.844 Q109.233 816.237 109.233 807.511 Q109.233 798.761 112.288 794.177 Q115.367 789.571 121.177 789.571 Z\" fill=\"#000000\" fill-rule=\"nonzero\" fill-opacity=\"1\" /><path clip-path=\"url(#clip230)\" d=\"M151.339 793.275 Q147.728 793.275 145.899 796.839 Q144.093 800.381 144.093 807.511 Q144.093 814.617 145.899 818.182 Q147.728 821.723 151.339 821.723 Q154.973 821.723 156.779 818.182 Q158.607 814.617 158.607 807.511 Q158.607 800.381 156.779 796.839 Q154.973 793.275 151.339 793.275 M151.339 789.571 Q157.149 789.571 160.205 794.177 Q163.283 798.761 163.283 807.511 Q163.283 816.237 160.205 820.844 Q157.149 825.427 151.339 825.427 Q145.529 825.427 142.45 820.844 Q139.394 816.237 139.394 807.511 Q139.394 798.761 142.45 794.177 Q145.529 789.571 151.339 789.571 Z\" fill=\"#000000\" fill-rule=\"nonzero\" fill-opacity=\"1\" /><path clip-path=\"url(#clip230)\" d=\"M51.6634 546.924 L59.3023 546.924 L59.3023 520.559 L50.9921 522.226 L50.9921 517.966 L59.256 516.3 L63.9319 516.3 L63.9319 546.924 L71.5707 546.924 L71.5707 550.86 L51.6634 550.86 L51.6634 546.924 Z\" fill=\"#000000\" fill-rule=\"nonzero\" fill-opacity=\"1\" /><path clip-path=\"url(#clip230)\" d=\"M81.0614 516.3 L99.4178 516.3 L99.4178 520.235 L85.3438 520.235 L85.3438 528.707 Q86.3623 528.36 87.3808 528.198 Q88.3993 528.013 89.4178 528.013 Q95.2049 528.013 98.5845 531.184 Q101.964 534.355 101.964 539.772 Q101.964 545.35 98.4919 548.452 Q95.0197 551.531 88.7003 551.531 Q86.5243 551.531 84.2558 551.161 Q82.0105 550.79 79.6031 550.049 L79.6031 545.35 Q81.6864 546.485 83.9086 547.04 Q86.1308 547.596 88.6077 547.596 Q92.6123 547.596 94.9502 545.489 Q97.2882 543.383 97.2882 539.772 Q97.2882 536.161 94.9502 534.054 Q92.6123 531.948 88.6077 531.948 Q86.7327 531.948 84.8577 532.364 Q83.0058 532.781 81.0614 533.661 L81.0614 516.3 Z\" fill=\"#000000\" fill-rule=\"nonzero\" fill-opacity=\"1\" /><path clip-path=\"url(#clip230)\" d=\"M121.177 519.378 Q117.566 519.378 115.737 522.943 Q113.932 526.485 113.932 533.614 Q113.932 540.721 115.737 544.286 Q117.566 547.827 121.177 547.827 Q124.811 547.827 126.617 544.286 Q128.445 540.721 128.445 533.614 Q128.445 526.485 126.617 522.943 Q124.811 519.378 121.177 519.378 M121.177 515.675 Q126.987 515.675 130.043 520.281 Q133.121 524.864 133.121 533.614 Q133.121 542.341 130.043 546.948 Q126.987 551.531 121.177 551.531 Q115.367 551.531 112.288 546.948 Q109.233 542.341 109.233 533.614 Q109.233 524.864 112.288 520.281 Q115.367 515.675 121.177 515.675 Z\" fill=\"#000000\" fill-rule=\"nonzero\" fill-opacity=\"1\" /><path clip-path=\"url(#clip230)\" d=\"M151.339 519.378 Q147.728 519.378 145.899 522.943 Q144.093 526.485 144.093 533.614 Q144.093 540.721 145.899 544.286 Q147.728 547.827 151.339 547.827 Q154.973 547.827 156.779 544.286 Q158.607 540.721 158.607 533.614 Q158.607 526.485 156.779 522.943 Q154.973 519.378 151.339 519.378 M151.339 515.675 Q157.149 515.675 160.205 520.281 Q163.283 524.864 163.283 533.614 Q163.283 542.341 160.205 546.948 Q157.149 551.531 151.339 551.531 Q145.529 551.531 142.45 546.948 Q139.394 542.341 139.394 533.614 Q139.394 524.864 142.45 520.281 Q145.529 515.675 151.339 515.675 Z\" fill=\"#000000\" fill-rule=\"nonzero\" fill-opacity=\"1\" /><path clip-path=\"url(#clip230)\" d=\"M51.6634 273.028 L59.3023 273.028 L59.3023 246.663 L50.9921 248.329 L50.9921 244.07 L59.256 242.403 L63.9319 242.403 L63.9319 273.028 L71.5707 273.028 L71.5707 276.963 L51.6634 276.963 L51.6634 273.028 Z\" fill=\"#000000\" fill-rule=\"nonzero\" fill-opacity=\"1\" /><path clip-path=\"url(#clip230)\" d=\"M91.0151 260.551 Q87.6817 260.551 85.7605 262.334 Q83.8623 264.116 83.8623 267.241 Q83.8623 270.366 85.7605 272.149 Q87.6817 273.931 91.0151 273.931 Q94.3484 273.931 96.2697 272.149 Q98.1909 270.343 98.1909 267.241 Q98.1909 264.116 96.2697 262.334 Q94.3715 260.551 91.0151 260.551 M86.3392 258.561 Q83.3299 257.82 81.6401 255.76 Q79.9735 253.7 79.9735 250.737 Q79.9735 246.593 82.9133 244.186 Q85.8762 241.778 91.0151 241.778 Q96.1771 241.778 99.1169 244.186 Q102.057 246.593 102.057 250.737 Q102.057 253.7 100.367 255.76 Q98.7002 257.82 95.7141 258.561 Q99.0937 259.348 100.969 261.639 Q102.867 263.931 102.867 267.241 Q102.867 272.264 99.7882 274.95 Q96.7326 277.635 91.0151 277.635 Q85.2975 277.635 82.2188 274.95 Q79.1633 272.264 79.1633 267.241 Q79.1633 263.931 81.0614 261.639 Q82.9595 259.348 86.3392 258.561 M84.6262 251.177 Q84.6262 253.862 86.2929 255.366 Q87.9827 256.871 91.0151 256.871 Q94.0243 256.871 95.7141 255.366 Q97.4271 253.862 97.4271 251.177 Q97.4271 248.491 95.7141 246.987 Q94.0243 245.482 91.0151 245.482 Q87.9827 245.482 86.2929 246.987 Q84.6262 248.491 84.6262 251.177 Z\" fill=\"#000000\" fill-rule=\"nonzero\" fill-opacity=\"1\" /><path clip-path=\"url(#clip230)\" d=\"M121.177 245.482 Q117.566 245.482 115.737 249.047 Q113.932 252.589 113.932 259.718 Q113.932 266.825 115.737 270.389 Q117.566 273.931 121.177 273.931 Q124.811 273.931 126.617 270.389 Q128.445 266.825 128.445 259.718 Q128.445 252.589 126.617 249.047 Q124.811 245.482 121.177 245.482 M121.177 241.778 Q126.987 241.778 130.043 246.385 Q133.121 250.968 133.121 259.718 Q133.121 268.445 130.043 273.051 Q126.987 277.635 121.177 277.635 Q115.367 277.635 112.288 273.051 Q109.233 268.445 109.233 259.718 Q109.233 250.968 112.288 246.385 Q115.367 241.778 121.177 241.778 Z\" fill=\"#000000\" fill-rule=\"nonzero\" fill-opacity=\"1\" /><path clip-path=\"url(#clip230)\" d=\"M151.339 245.482 Q147.728 245.482 145.899 249.047 Q144.093 252.589 144.093 259.718 Q144.093 266.825 145.899 270.389 Q147.728 273.931 151.339 273.931 Q154.973 273.931 156.779 270.389 Q158.607 266.825 158.607 259.718 Q158.607 252.589 156.779 249.047 Q154.973 245.482 151.339 245.482 M151.339 241.778 Q157.149 241.778 160.205 246.385 Q163.283 250.968 163.283 259.718 Q163.283 268.445 160.205 273.051 Q157.149 277.635 151.339 277.635 Q145.529 277.635 142.45 273.051 Q139.394 268.445 139.394 259.718 Q139.394 250.968 142.45 246.385 Q145.529 241.778 151.339 241.778 Z\" fill=\"#000000\" fill-rule=\"nonzero\" fill-opacity=\"1\" /><circle clip-path=\"url(#clip232)\" cx=\"567.484\" cy=\"1241.33\" r=\"14.4\" fill=\"#009af9\" fill-rule=\"evenodd\" fill-opacity=\"1\" stroke=\"#000000\" stroke-opacity=\"1\" stroke-width=\"3.2\"/>\n",
       "<circle clip-path=\"url(#clip232)\" cx=\"2021.13\" cy=\"266.296\" r=\"14.4\" fill=\"#009af9\" fill-rule=\"evenodd\" fill-opacity=\"1\" stroke=\"#000000\" stroke-opacity=\"1\" stroke-width=\"3.2\"/>\n",
       "<circle clip-path=\"url(#clip232)\" cx=\"573.421\" cy=\"1236.48\" r=\"14.4\" fill=\"#009af9\" fill-rule=\"evenodd\" fill-opacity=\"1\" stroke=\"#000000\" stroke-opacity=\"1\" stroke-width=\"3.2\"/>\n",
       "<circle clip-path=\"url(#clip232)\" cx=\"2245.47\" cy=\"117.348\" r=\"14.4\" fill=\"#009af9\" fill-rule=\"evenodd\" fill-opacity=\"1\" stroke=\"#000000\" stroke-opacity=\"1\" stroke-width=\"3.2\"/>\n",
       "<circle clip-path=\"url(#clip232)\" cx=\"510.509\" cy=\"1278.57\" r=\"14.4\" fill=\"#009af9\" fill-rule=\"evenodd\" fill-opacity=\"1\" stroke=\"#000000\" stroke-opacity=\"1\" stroke-width=\"3.2\"/>\n",
       "<circle clip-path=\"url(#clip232)\" cx=\"1406.95\" cy=\"678.919\" r=\"14.4\" fill=\"#009af9\" fill-rule=\"evenodd\" fill-opacity=\"1\" stroke=\"#000000\" stroke-opacity=\"1\" stroke-width=\"3.2\"/>\n",
       "<circle clip-path=\"url(#clip232)\" cx=\"1237.49\" cy=\"796.743\" r=\"14.4\" fill=\"#009af9\" fill-rule=\"evenodd\" fill-opacity=\"1\" stroke=\"#000000\" stroke-opacity=\"1\" stroke-width=\"3.2\"/>\n",
       "<circle clip-path=\"url(#clip232)\" cx=\"2153.48\" cy=\"180.453\" r=\"14.4\" fill=\"#009af9\" fill-rule=\"evenodd\" fill-opacity=\"1\" stroke=\"#000000\" stroke-opacity=\"1\" stroke-width=\"3.2\"/>\n",
       "<circle clip-path=\"url(#clip232)\" cx=\"1932.13\" cy=\"327.452\" r=\"14.4\" fill=\"#009af9\" fill-rule=\"evenodd\" fill-opacity=\"1\" stroke=\"#000000\" stroke-opacity=\"1\" stroke-width=\"3.2\"/>\n",
       "<circle clip-path=\"url(#clip232)\" cx=\"1735.28\" cy=\"465.816\" r=\"14.4\" fill=\"#009af9\" fill-rule=\"evenodd\" fill-opacity=\"1\" stroke=\"#000000\" stroke-opacity=\"1\" stroke-width=\"3.2\"/>\n",
       "<circle clip-path=\"url(#clip232)\" cx=\"2076.33\" cy=\"236.606\" r=\"14.4\" fill=\"#009af9\" fill-rule=\"evenodd\" fill-opacity=\"1\" stroke=\"#000000\" stroke-opacity=\"1\" stroke-width=\"3.2\"/>\n",
       "<circle clip-path=\"url(#clip232)\" cx=\"796.997\" cy=\"1089.31\" r=\"14.4\" fill=\"#009af9\" fill-rule=\"evenodd\" fill-opacity=\"1\" stroke=\"#000000\" stroke-opacity=\"1\" stroke-width=\"3.2\"/>\n",
       "<circle clip-path=\"url(#clip232)\" cx=\"1223.68\" cy=\"806.358\" r=\"14.4\" fill=\"#009af9\" fill-rule=\"evenodd\" fill-opacity=\"1\" stroke=\"#000000\" stroke-opacity=\"1\" stroke-width=\"3.2\"/>\n",
       "<circle clip-path=\"url(#clip232)\" cx=\"1988.98\" cy=\"288.95\" r=\"14.4\" fill=\"#009af9\" fill-rule=\"evenodd\" fill-opacity=\"1\" stroke=\"#000000\" stroke-opacity=\"1\" stroke-width=\"3.2\"/>\n",
       "<circle clip-path=\"url(#clip232)\" cx=\"1946.86\" cy=\"324.828\" r=\"14.4\" fill=\"#009af9\" fill-rule=\"evenodd\" fill-opacity=\"1\" stroke=\"#000000\" stroke-opacity=\"1\" stroke-width=\"3.2\"/>\n",
       "<circle clip-path=\"url(#clip232)\" cx=\"1943.81\" cy=\"320.498\" r=\"14.4\" fill=\"#009af9\" fill-rule=\"evenodd\" fill-opacity=\"1\" stroke=\"#000000\" stroke-opacity=\"1\" stroke-width=\"3.2\"/>\n",
       "<circle clip-path=\"url(#clip232)\" cx=\"801.774\" cy=\"1082.89\" r=\"14.4\" fill=\"#009af9\" fill-rule=\"evenodd\" fill-opacity=\"1\" stroke=\"#000000\" stroke-opacity=\"1\" stroke-width=\"3.2\"/>\n",
       "<circle clip-path=\"url(#clip232)\" cx=\"2264.22\" cy=\"101.743\" r=\"14.4\" fill=\"#009af9\" fill-rule=\"evenodd\" fill-opacity=\"1\" stroke=\"#000000\" stroke-opacity=\"1\" stroke-width=\"3.2\"/>\n",
       "<circle clip-path=\"url(#clip232)\" cx=\"2173.03\" cy=\"166.851\" r=\"14.4\" fill=\"#009af9\" fill-rule=\"evenodd\" fill-opacity=\"1\" stroke=\"#000000\" stroke-opacity=\"1\" stroke-width=\"3.2\"/>\n",
       "<circle clip-path=\"url(#clip232)\" cx=\"1309.07\" cy=\"742.291\" r=\"14.4\" fill=\"#009af9\" fill-rule=\"evenodd\" fill-opacity=\"1\" stroke=\"#000000\" stroke-opacity=\"1\" stroke-width=\"3.2\"/>\n",
       "<circle clip-path=\"url(#clip232)\" cx=\"1541.35\" cy=\"594.386\" r=\"14.4\" fill=\"#009af9\" fill-rule=\"evenodd\" fill-opacity=\"1\" stroke=\"#000000\" stroke-opacity=\"1\" stroke-width=\"3.2\"/>\n",
       "<circle clip-path=\"url(#clip232)\" cx=\"2105.82\" cy=\"211.209\" r=\"14.4\" fill=\"#009af9\" fill-rule=\"evenodd\" fill-opacity=\"1\" stroke=\"#000000\" stroke-opacity=\"1\" stroke-width=\"3.2\"/>\n",
       "<circle clip-path=\"url(#clip232)\" cx=\"1835.57\" cy=\"398.448\" r=\"14.4\" fill=\"#009af9\" fill-rule=\"evenodd\" fill-opacity=\"1\" stroke=\"#000000\" stroke-opacity=\"1\" stroke-width=\"3.2\"/>\n",
       "<circle clip-path=\"url(#clip232)\" cx=\"2207.18\" cy=\"140.701\" r=\"14.4\" fill=\"#009af9\" fill-rule=\"evenodd\" fill-opacity=\"1\" stroke=\"#000000\" stroke-opacity=\"1\" stroke-width=\"3.2\"/>\n",
       "<circle clip-path=\"url(#clip232)\" cx=\"1691.74\" cy=\"486.149\" r=\"14.4\" fill=\"#009af9\" fill-rule=\"evenodd\" fill-opacity=\"1\" stroke=\"#000000\" stroke-opacity=\"1\" stroke-width=\"3.2\"/>\n",
       "<circle clip-path=\"url(#clip232)\" cx=\"1583.53\" cy=\"567.784\" r=\"14.4\" fill=\"#009af9\" fill-rule=\"evenodd\" fill-opacity=\"1\" stroke=\"#000000\" stroke-opacity=\"1\" stroke-width=\"3.2\"/>\n",
       "<circle clip-path=\"url(#clip232)\" cx=\"1613.58\" cy=\"541.246\" r=\"14.4\" fill=\"#009af9\" fill-rule=\"evenodd\" fill-opacity=\"1\" stroke=\"#000000\" stroke-opacity=\"1\" stroke-width=\"3.2\"/>\n",
       "<circle clip-path=\"url(#clip232)\" cx=\"1378.15\" cy=\"697.878\" r=\"14.4\" fill=\"#009af9\" fill-rule=\"evenodd\" fill-opacity=\"1\" stroke=\"#000000\" stroke-opacity=\"1\" stroke-width=\"3.2\"/>\n",
       "<circle clip-path=\"url(#clip232)\" cx=\"924.679\" cy=\"1000.08\" r=\"14.4\" fill=\"#009af9\" fill-rule=\"evenodd\" fill-opacity=\"1\" stroke=\"#000000\" stroke-opacity=\"1\" stroke-width=\"3.2\"/>\n",
       "<circle clip-path=\"url(#clip232)\" cx=\"952.897\" cy=\"981.498\" r=\"14.4\" fill=\"#009af9\" fill-rule=\"evenodd\" fill-opacity=\"1\" stroke=\"#000000\" stroke-opacity=\"1\" stroke-width=\"3.2\"/>\n",
       "<circle clip-path=\"url(#clip232)\" cx=\"567.339\" cy=\"1240.51\" r=\"14.4\" fill=\"#009af9\" fill-rule=\"evenodd\" fill-opacity=\"1\" stroke=\"#000000\" stroke-opacity=\"1\" stroke-width=\"3.2\"/>\n",
       "<circle clip-path=\"url(#clip232)\" cx=\"1936.88\" cy=\"323.004\" r=\"14.4\" fill=\"#009af9\" fill-rule=\"evenodd\" fill-opacity=\"1\" stroke=\"#000000\" stroke-opacity=\"1\" stroke-width=\"3.2\"/>\n",
       "<circle clip-path=\"url(#clip232)\" cx=\"1237.32\" cy=\"796.807\" r=\"14.4\" fill=\"#009af9\" fill-rule=\"evenodd\" fill-opacity=\"1\" stroke=\"#000000\" stroke-opacity=\"1\" stroke-width=\"3.2\"/>\n",
       "<circle clip-path=\"url(#clip232)\" cx=\"1754.82\" cy=\"448.362\" r=\"14.4\" fill=\"#009af9\" fill-rule=\"evenodd\" fill-opacity=\"1\" stroke=\"#000000\" stroke-opacity=\"1\" stroke-width=\"3.2\"/>\n",
       "<circle clip-path=\"url(#clip232)\" cx=\"559.281\" cy=\"1245.47\" r=\"14.4\" fill=\"#009af9\" fill-rule=\"evenodd\" fill-opacity=\"1\" stroke=\"#000000\" stroke-opacity=\"1\" stroke-width=\"3.2\"/>\n",
       "<circle clip-path=\"url(#clip232)\" cx=\"463.498\" cy=\"1310.79\" r=\"14.4\" fill=\"#009af9\" fill-rule=\"evenodd\" fill-opacity=\"1\" stroke=\"#000000\" stroke-opacity=\"1\" stroke-width=\"3.2\"/>\n",
       "<circle clip-path=\"url(#clip232)\" cx=\"762.588\" cy=\"1108.12\" r=\"14.4\" fill=\"#009af9\" fill-rule=\"evenodd\" fill-opacity=\"1\" stroke=\"#000000\" stroke-opacity=\"1\" stroke-width=\"3.2\"/>\n",
       "<circle clip-path=\"url(#clip232)\" cx=\"1164.2\" cy=\"841.77\" r=\"14.4\" fill=\"#009af9\" fill-rule=\"evenodd\" fill-opacity=\"1\" stroke=\"#000000\" stroke-opacity=\"1\" stroke-width=\"3.2\"/>\n",
       "<circle clip-path=\"url(#clip232)\" cx=\"327.207\" cy=\"1401.38\" r=\"14.4\" fill=\"#009af9\" fill-rule=\"evenodd\" fill-opacity=\"1\" stroke=\"#000000\" stroke-opacity=\"1\" stroke-width=\"3.2\"/>\n",
       "<circle clip-path=\"url(#clip232)\" cx=\"2213.65\" cy=\"137.276\" r=\"14.4\" fill=\"#009af9\" fill-rule=\"evenodd\" fill-opacity=\"1\" stroke=\"#000000\" stroke-opacity=\"1\" stroke-width=\"3.2\"/>\n",
       "<circle clip-path=\"url(#clip232)\" cx=\"430.759\" cy=\"1332.32\" r=\"14.4\" fill=\"#009af9\" fill-rule=\"evenodd\" fill-opacity=\"1\" stroke=\"#000000\" stroke-opacity=\"1\" stroke-width=\"3.2\"/>\n",
       "<circle clip-path=\"url(#clip232)\" cx=\"2139.18\" cy=\"204.095\" r=\"14.4\" fill=\"#009af9\" fill-rule=\"evenodd\" fill-opacity=\"1\" stroke=\"#000000\" stroke-opacity=\"1\" stroke-width=\"3.2\"/>\n",
       "<circle clip-path=\"url(#clip232)\" cx=\"1386.66\" cy=\"696.065\" r=\"14.4\" fill=\"#009af9\" fill-rule=\"evenodd\" fill-opacity=\"1\" stroke=\"#000000\" stroke-opacity=\"1\" stroke-width=\"3.2\"/>\n",
       "<circle clip-path=\"url(#clip232)\" cx=\"1204.37\" cy=\"813.412\" r=\"14.4\" fill=\"#009af9\" fill-rule=\"evenodd\" fill-opacity=\"1\" stroke=\"#000000\" stroke-opacity=\"1\" stroke-width=\"3.2\"/>\n",
       "<circle clip-path=\"url(#clip232)\" cx=\"965.661\" cy=\"973.175\" r=\"14.4\" fill=\"#009af9\" fill-rule=\"evenodd\" fill-opacity=\"1\" stroke=\"#000000\" stroke-opacity=\"1\" stroke-width=\"3.2\"/>\n",
       "<circle clip-path=\"url(#clip232)\" cx=\"1587.85\" cy=\"556.017\" r=\"14.4\" fill=\"#009af9\" fill-rule=\"evenodd\" fill-opacity=\"1\" stroke=\"#000000\" stroke-opacity=\"1\" stroke-width=\"3.2\"/>\n",
       "<circle clip-path=\"url(#clip232)\" cx=\"1031.62\" cy=\"929.761\" r=\"14.4\" fill=\"#009af9\" fill-rule=\"evenodd\" fill-opacity=\"1\" stroke=\"#000000\" stroke-opacity=\"1\" stroke-width=\"3.2\"/>\n",
       "<circle clip-path=\"url(#clip232)\" cx=\"2161.53\" cy=\"182.021\" r=\"14.4\" fill=\"#009af9\" fill-rule=\"evenodd\" fill-opacity=\"1\" stroke=\"#000000\" stroke-opacity=\"1\" stroke-width=\"3.2\"/>\n",
       "<circle clip-path=\"url(#clip232)\" cx=\"1652.05\" cy=\"519.737\" r=\"14.4\" fill=\"#009af9\" fill-rule=\"evenodd\" fill-opacity=\"1\" stroke=\"#000000\" stroke-opacity=\"1\" stroke-width=\"3.2\"/>\n",
       "<circle clip-path=\"url(#clip232)\" cx=\"2278.73\" cy=\"90.998\" r=\"14.4\" fill=\"#009af9\" fill-rule=\"evenodd\" fill-opacity=\"1\" stroke=\"#000000\" stroke-opacity=\"1\" stroke-width=\"3.2\"/>\n",
       "<circle clip-path=\"url(#clip232)\" cx=\"1663.84\" cy=\"513.744\" r=\"14.4\" fill=\"#009af9\" fill-rule=\"evenodd\" fill-opacity=\"1\" stroke=\"#000000\" stroke-opacity=\"1\" stroke-width=\"3.2\"/>\n",
       "<circle clip-path=\"url(#clip232)\" cx=\"2002.11\" cy=\"283.218\" r=\"14.4\" fill=\"#009af9\" fill-rule=\"evenodd\" fill-opacity=\"1\" stroke=\"#000000\" stroke-opacity=\"1\" stroke-width=\"3.2\"/>\n",
       "<circle clip-path=\"url(#clip232)\" cx=\"1704.85\" cy=\"476.017\" r=\"14.4\" fill=\"#009af9\" fill-rule=\"evenodd\" fill-opacity=\"1\" stroke=\"#000000\" stroke-opacity=\"1\" stroke-width=\"3.2\"/>\n",
       "<circle clip-path=\"url(#clip232)\" cx=\"1148.25\" cy=\"853.019\" r=\"14.4\" fill=\"#009af9\" fill-rule=\"evenodd\" fill-opacity=\"1\" stroke=\"#000000\" stroke-opacity=\"1\" stroke-width=\"3.2\"/>\n",
       "<circle clip-path=\"url(#clip232)\" cx=\"1882.96\" cy=\"365.352\" r=\"14.4\" fill=\"#009af9\" fill-rule=\"evenodd\" fill-opacity=\"1\" stroke=\"#000000\" stroke-opacity=\"1\" stroke-width=\"3.2\"/>\n",
       "<circle clip-path=\"url(#clip232)\" cx=\"2150.17\" cy=\"175.936\" r=\"14.4\" fill=\"#009af9\" fill-rule=\"evenodd\" fill-opacity=\"1\" stroke=\"#000000\" stroke-opacity=\"1\" stroke-width=\"3.2\"/>\n",
       "<circle clip-path=\"url(#clip232)\" cx=\"2291.81\" cy=\"87.9763\" r=\"14.4\" fill=\"#009af9\" fill-rule=\"evenodd\" fill-opacity=\"1\" stroke=\"#000000\" stroke-opacity=\"1\" stroke-width=\"3.2\"/>\n",
       "<circle clip-path=\"url(#clip232)\" cx=\"721.226\" cy=\"1139.55\" r=\"14.4\" fill=\"#009af9\" fill-rule=\"evenodd\" fill-opacity=\"1\" stroke=\"#000000\" stroke-opacity=\"1\" stroke-width=\"3.2\"/>\n",
       "<circle clip-path=\"url(#clip232)\" cx=\"1153.73\" cy=\"852.987\" r=\"14.4\" fill=\"#009af9\" fill-rule=\"evenodd\" fill-opacity=\"1\" stroke=\"#000000\" stroke-opacity=\"1\" stroke-width=\"3.2\"/>\n",
       "<circle clip-path=\"url(#clip232)\" cx=\"403.183\" cy=\"1350.58\" r=\"14.4\" fill=\"#009af9\" fill-rule=\"evenodd\" fill-opacity=\"1\" stroke=\"#000000\" stroke-opacity=\"1\" stroke-width=\"3.2\"/>\n",
       "<circle clip-path=\"url(#clip232)\" cx=\"921.707\" cy=\"1005.39\" r=\"14.4\" fill=\"#009af9\" fill-rule=\"evenodd\" fill-opacity=\"1\" stroke=\"#000000\" stroke-opacity=\"1\" stroke-width=\"3.2\"/>\n",
       "<circle clip-path=\"url(#clip232)\" cx=\"1365.48\" cy=\"714.265\" r=\"14.4\" fill=\"#009af9\" fill-rule=\"evenodd\" fill-opacity=\"1\" stroke=\"#000000\" stroke-opacity=\"1\" stroke-width=\"3.2\"/>\n",
       "<circle clip-path=\"url(#clip232)\" cx=\"512.386\" cy=\"1277.99\" r=\"14.4\" fill=\"#009af9\" fill-rule=\"evenodd\" fill-opacity=\"1\" stroke=\"#000000\" stroke-opacity=\"1\" stroke-width=\"3.2\"/>\n",
       "<circle clip-path=\"url(#clip232)\" cx=\"1306.23\" cy=\"743.474\" r=\"14.4\" fill=\"#009af9\" fill-rule=\"evenodd\" fill-opacity=\"1\" stroke=\"#000000\" stroke-opacity=\"1\" stroke-width=\"3.2\"/>\n",
       "<circle clip-path=\"url(#clip232)\" cx=\"945.176\" cy=\"992.215\" r=\"14.4\" fill=\"#009af9\" fill-rule=\"evenodd\" fill-opacity=\"1\" stroke=\"#000000\" stroke-opacity=\"1\" stroke-width=\"3.2\"/>\n",
       "<circle clip-path=\"url(#clip232)\" cx=\"1246.76\" cy=\"790.973\" r=\"14.4\" fill=\"#009af9\" fill-rule=\"evenodd\" fill-opacity=\"1\" stroke=\"#000000\" stroke-opacity=\"1\" stroke-width=\"3.2\"/>\n",
       "<circle clip-path=\"url(#clip232)\" cx=\"826.828\" cy=\"1067.67\" r=\"14.4\" fill=\"#009af9\" fill-rule=\"evenodd\" fill-opacity=\"1\" stroke=\"#000000\" stroke-opacity=\"1\" stroke-width=\"3.2\"/>\n",
       "<circle clip-path=\"url(#clip232)\" cx=\"1561.49\" cy=\"574.67\" r=\"14.4\" fill=\"#009af9\" fill-rule=\"evenodd\" fill-opacity=\"1\" stroke=\"#000000\" stroke-opacity=\"1\" stroke-width=\"3.2\"/>\n",
       "<circle clip-path=\"url(#clip232)\" cx=\"319.067\" cy=\"1406.35\" r=\"14.4\" fill=\"#009af9\" fill-rule=\"evenodd\" fill-opacity=\"1\" stroke=\"#000000\" stroke-opacity=\"1\" stroke-width=\"3.2\"/>\n",
       "<circle clip-path=\"url(#clip232)\" cx=\"1718.9\" cy=\"476.856\" r=\"14.4\" fill=\"#009af9\" fill-rule=\"evenodd\" fill-opacity=\"1\" stroke=\"#000000\" stroke-opacity=\"1\" stroke-width=\"3.2\"/>\n",
       "<circle clip-path=\"url(#clip232)\" cx=\"1448.12\" cy=\"650.826\" r=\"14.4\" fill=\"#009af9\" fill-rule=\"evenodd\" fill-opacity=\"1\" stroke=\"#000000\" stroke-opacity=\"1\" stroke-width=\"3.2\"/>\n",
       "<circle clip-path=\"url(#clip232)\" cx=\"780.646\" cy=\"1099.8\" r=\"14.4\" fill=\"#009af9\" fill-rule=\"evenodd\" fill-opacity=\"1\" stroke=\"#000000\" stroke-opacity=\"1\" stroke-width=\"3.2\"/>\n",
       "<circle clip-path=\"url(#clip232)\" cx=\"1820.25\" cy=\"413.562\" r=\"14.4\" fill=\"#009af9\" fill-rule=\"evenodd\" fill-opacity=\"1\" stroke=\"#000000\" stroke-opacity=\"1\" stroke-width=\"3.2\"/>\n",
       "<circle clip-path=\"url(#clip232)\" cx=\"2211.11\" cy=\"140.409\" r=\"14.4\" fill=\"#009af9\" fill-rule=\"evenodd\" fill-opacity=\"1\" stroke=\"#000000\" stroke-opacity=\"1\" stroke-width=\"3.2\"/>\n",
       "<circle clip-path=\"url(#clip232)\" cx=\"1927.41\" cy=\"339.952\" r=\"14.4\" fill=\"#009af9\" fill-rule=\"evenodd\" fill-opacity=\"1\" stroke=\"#000000\" stroke-opacity=\"1\" stroke-width=\"3.2\"/>\n",
       "<circle clip-path=\"url(#clip232)\" cx=\"1613.95\" cy=\"545.972\" r=\"14.4\" fill=\"#009af9\" fill-rule=\"evenodd\" fill-opacity=\"1\" stroke=\"#000000\" stroke-opacity=\"1\" stroke-width=\"3.2\"/>\n",
       "<circle clip-path=\"url(#clip232)\" cx=\"1049.71\" cy=\"921.946\" r=\"14.4\" fill=\"#009af9\" fill-rule=\"evenodd\" fill-opacity=\"1\" stroke=\"#000000\" stroke-opacity=\"1\" stroke-width=\"3.2\"/>\n",
       "<circle clip-path=\"url(#clip232)\" cx=\"1913.67\" cy=\"334.581\" r=\"14.4\" fill=\"#009af9\" fill-rule=\"evenodd\" fill-opacity=\"1\" stroke=\"#000000\" stroke-opacity=\"1\" stroke-width=\"3.2\"/>\n",
       "<circle clip-path=\"url(#clip232)\" cx=\"1733.71\" cy=\"460.49\" r=\"14.4\" fill=\"#009af9\" fill-rule=\"evenodd\" fill-opacity=\"1\" stroke=\"#000000\" stroke-opacity=\"1\" stroke-width=\"3.2\"/>\n",
       "<circle clip-path=\"url(#clip232)\" cx=\"1781.83\" cy=\"433.686\" r=\"14.4\" fill=\"#009af9\" fill-rule=\"evenodd\" fill-opacity=\"1\" stroke=\"#000000\" stroke-opacity=\"1\" stroke-width=\"3.2\"/>\n",
       "<circle clip-path=\"url(#clip232)\" cx=\"954.436\" cy=\"981.985\" r=\"14.4\" fill=\"#009af9\" fill-rule=\"evenodd\" fill-opacity=\"1\" stroke=\"#000000\" stroke-opacity=\"1\" stroke-width=\"3.2\"/>\n",
       "<circle clip-path=\"url(#clip232)\" cx=\"1311.9\" cy=\"739.669\" r=\"14.4\" fill=\"#009af9\" fill-rule=\"evenodd\" fill-opacity=\"1\" stroke=\"#000000\" stroke-opacity=\"1\" stroke-width=\"3.2\"/>\n",
       "<circle clip-path=\"url(#clip232)\" cx=\"1745.07\" cy=\"452.956\" r=\"14.4\" fill=\"#009af9\" fill-rule=\"evenodd\" fill-opacity=\"1\" stroke=\"#000000\" stroke-opacity=\"1\" stroke-width=\"3.2\"/>\n",
       "<circle clip-path=\"url(#clip232)\" cx=\"890.051\" cy=\"1027.11\" r=\"14.4\" fill=\"#009af9\" fill-rule=\"evenodd\" fill-opacity=\"1\" stroke=\"#000000\" stroke-opacity=\"1\" stroke-width=\"3.2\"/>\n",
       "<circle clip-path=\"url(#clip232)\" cx=\"1732.86\" cy=\"459.873\" r=\"14.4\" fill=\"#009af9\" fill-rule=\"evenodd\" fill-opacity=\"1\" stroke=\"#000000\" stroke-opacity=\"1\" stroke-width=\"3.2\"/>\n",
       "<circle clip-path=\"url(#clip232)\" cx=\"2013.37\" cy=\"281.808\" r=\"14.4\" fill=\"#009af9\" fill-rule=\"evenodd\" fill-opacity=\"1\" stroke=\"#000000\" stroke-opacity=\"1\" stroke-width=\"3.2\"/>\n",
       "<circle clip-path=\"url(#clip232)\" cx=\"1194.21\" cy=\"824.374\" r=\"14.4\" fill=\"#009af9\" fill-rule=\"evenodd\" fill-opacity=\"1\" stroke=\"#000000\" stroke-opacity=\"1\" stroke-width=\"3.2\"/>\n",
       "<circle clip-path=\"url(#clip232)\" cx=\"1722.15\" cy=\"474.33\" r=\"14.4\" fill=\"#009af9\" fill-rule=\"evenodd\" fill-opacity=\"1\" stroke=\"#000000\" stroke-opacity=\"1\" stroke-width=\"3.2\"/>\n",
       "<circle clip-path=\"url(#clip232)\" cx=\"505.644\" cy=\"1282.51\" r=\"14.4\" fill=\"#009af9\" fill-rule=\"evenodd\" fill-opacity=\"1\" stroke=\"#000000\" stroke-opacity=\"1\" stroke-width=\"3.2\"/>\n",
       "<circle clip-path=\"url(#clip232)\" cx=\"1476.33\" cy=\"633.591\" r=\"14.4\" fill=\"#009af9\" fill-rule=\"evenodd\" fill-opacity=\"1\" stroke=\"#000000\" stroke-opacity=\"1\" stroke-width=\"3.2\"/>\n",
       "<circle clip-path=\"url(#clip232)\" cx=\"1873.29\" cy=\"372.824\" r=\"14.4\" fill=\"#009af9\" fill-rule=\"evenodd\" fill-opacity=\"1\" stroke=\"#000000\" stroke-opacity=\"1\" stroke-width=\"3.2\"/>\n",
       "<circle clip-path=\"url(#clip232)\" cx=\"2221.06\" cy=\"128.872\" r=\"14.4\" fill=\"#009af9\" fill-rule=\"evenodd\" fill-opacity=\"1\" stroke=\"#000000\" stroke-opacity=\"1\" stroke-width=\"3.2\"/>\n",
       "<circle clip-path=\"url(#clip232)\" cx=\"260.231\" cy=\"1445.72\" r=\"14.4\" fill=\"#009af9\" fill-rule=\"evenodd\" fill-opacity=\"1\" stroke=\"#000000\" stroke-opacity=\"1\" stroke-width=\"3.2\"/>\n",
       "<circle clip-path=\"url(#clip232)\" cx=\"2185.53\" cy=\"158.386\" r=\"14.4\" fill=\"#009af9\" fill-rule=\"evenodd\" fill-opacity=\"1\" stroke=\"#000000\" stroke-opacity=\"1\" stroke-width=\"3.2\"/>\n",
       "<circle clip-path=\"url(#clip232)\" cx=\"887.328\" cy=\"1024.95\" r=\"14.4\" fill=\"#009af9\" fill-rule=\"evenodd\" fill-opacity=\"1\" stroke=\"#000000\" stroke-opacity=\"1\" stroke-width=\"3.2\"/>\n",
       "<circle clip-path=\"url(#clip232)\" cx=\"436.843\" cy=\"1328.78\" r=\"14.4\" fill=\"#009af9\" fill-rule=\"evenodd\" fill-opacity=\"1\" stroke=\"#000000\" stroke-opacity=\"1\" stroke-width=\"3.2\"/>\n",
       "<circle clip-path=\"url(#clip232)\" cx=\"2221.39\" cy=\"144.201\" r=\"14.4\" fill=\"#009af9\" fill-rule=\"evenodd\" fill-opacity=\"1\" stroke=\"#000000\" stroke-opacity=\"1\" stroke-width=\"3.2\"/>\n",
       "<circle clip-path=\"url(#clip232)\" cx=\"314.339\" cy=\"1409.49\" r=\"14.4\" fill=\"#009af9\" fill-rule=\"evenodd\" fill-opacity=\"1\" stroke=\"#000000\" stroke-opacity=\"1\" stroke-width=\"3.2\"/>\n",
       "<circle clip-path=\"url(#clip232)\" cx=\"1789.03\" cy=\"429.946\" r=\"14.4\" fill=\"#009af9\" fill-rule=\"evenodd\" fill-opacity=\"1\" stroke=\"#000000\" stroke-opacity=\"1\" stroke-width=\"3.2\"/>\n",
       "<circle clip-path=\"url(#clip232)\" cx=\"809.137\" cy=\"1081.9\" r=\"14.4\" fill=\"#009af9\" fill-rule=\"evenodd\" fill-opacity=\"1\" stroke=\"#000000\" stroke-opacity=\"1\" stroke-width=\"3.2\"/>\n",
       "<path clip-path=\"url(#clip230)\" d=\"M271.066 198.898 L538.843 198.898 L538.843 95.2176 L271.066 95.2176  Z\" fill=\"#ffffff\" fill-rule=\"evenodd\" fill-opacity=\"1\"/>\n",
       "<polyline clip-path=\"url(#clip230)\" style=\"stroke:#000000; stroke-linecap:round; stroke-linejoin:round; stroke-width:4; stroke-opacity:1; fill:none\" points=\"271.066,198.898 538.843,198.898 538.843,95.2176 271.066,95.2176 271.066,198.898 \"/>\n",
       "<circle clip-path=\"url(#clip230)\" cx=\"366.776\" cy=\"147.058\" r=\"20.48\" fill=\"#009af9\" fill-rule=\"evenodd\" fill-opacity=\"1\" stroke=\"#000000\" stroke-opacity=\"1\" stroke-width=\"4.55111\"/>\n",
       "<path clip-path=\"url(#clip230)\" d=\"M476.328 166.745 Q474.522 171.375 472.809 172.787 Q471.096 174.199 468.226 174.199 L464.823 174.199 L464.823 170.634 L467.323 170.634 Q469.083 170.634 470.055 169.8 Q471.027 168.967 472.208 165.865 L472.971 163.921 L462.485 138.412 L466.999 138.412 L475.101 158.689 L483.203 138.412 L487.717 138.412 L476.328 166.745 Z\" fill=\"#000000\" fill-rule=\"nonzero\" fill-opacity=\"1\" /><path clip-path=\"url(#clip230)\" d=\"M495.008 160.402 L502.647 160.402 L502.647 134.037 L494.337 135.703 L494.337 131.444 L502.601 129.778 L507.277 129.778 L507.277 160.402 L514.916 160.402 L514.916 164.338 L495.008 164.338 L495.008 160.402 Z\" fill=\"#000000\" fill-rule=\"nonzero\" fill-opacity=\"1\" /></svg>\n"
      ]
     },
     "execution_count": 22,
     "metadata": {},
     "output_type": "execute_result"
    }
   ],
   "source": [
    "# Exercise 2\n",
    "\n",
    "scatter(educ, wage)"
   ]
  },
  {
   "cell_type": "markdown",
   "metadata": {},
   "source": [
    "The scatterplot shows an overall positive relation."
   ]
  },
  {
   "cell_type": "code",
   "execution_count": 23,
   "metadata": {},
   "outputs": [
    {
     "data": {
      "text/plain": [
       "2-element Vector{Float64}:\n",
       " 499.0172779026043\n",
       " 100.19865054009688"
      ]
     },
     "execution_count": 23,
     "metadata": {},
     "output_type": "execute_result"
    }
   ],
   "source": [
    "# Exercise 3\n",
    "\n",
    "coeff = inv(X'X)X'wage"
   ]
  },
  {
   "cell_type": "markdown",
   "metadata": {},
   "source": [
    "The values for the intercept and the slope are very close to the true values in the DGP."
   ]
  },
  {
   "cell_type": "code",
   "execution_count": 24,
   "metadata": {},
   "outputs": [
    {
     "data": {
      "text/plain": [
       "100-element Vector{Float64}:\n",
       "  0.033755272567418615\n",
       "  4.344021238541245\n",
       "  0.9990813670498255\n",
       "  3.339780807923489\n",
       "  0.934597032104648\n",
       "  1.8009245764797015\n",
       " -3.259653534179506\n",
       "  1.524738862289496\n",
       "  2.4790066748475965\n",
       " -5.032983306067763\n",
       " -3.529061863965808\n",
       " -1.3993401887032633\n",
       " -3.684008191518842\n",
       "  ⋮\n",
       "  0.17088195934002215\n",
       "  0.6791779522784509\n",
       " -4.162836329440097\n",
       "  8.577696983099713\n",
       "  0.9863196675341328\n",
       "  2.2439568806132684\n",
       "  3.0027344210643605\n",
       " -0.15837456122096683\n",
       " -8.45419666052021\n",
       "  1.074595087459329\n",
       " -5.071016233390765\n",
       " -2.160564629106716"
      ]
     },
     "execution_count": 24,
     "metadata": {},
     "output_type": "execute_result"
    }
   ],
   "source": [
    "# Exercise 4\n",
    "\n",
    "e = wage .- (X*coeff)"
   ]
  },
  {
   "cell_type": "code",
   "execution_count": 25,
   "metadata": {},
   "outputs": [
    {
     "data": {
      "text/plain": [
       "1684.3213089740843"
      ]
     },
     "execution_count": 25,
     "metadata": {},
     "output_type": "execute_result"
    }
   ],
   "source": [
    "# Exercise 4\n",
    "\n",
    "SSR = e'e"
   ]
  },
  {
   "cell_type": "code",
   "execution_count": 26,
   "metadata": {},
   "outputs": [
    {
     "data": {
      "text/plain": [
       "1.8813771112396095e7"
      ]
     },
     "execution_count": 26,
     "metadata": {},
     "output_type": "execute_result"
    }
   ],
   "source": [
    "# Exercise 4\n",
    "\n",
    "mean = inv(i'i)i'wage\n",
    "\n",
    "TSS = (wage .- mean)'*(wage .- mean)"
   ]
  },
  {
   "cell_type": "code",
   "execution_count": 27,
   "metadata": {},
   "outputs": [
    {
     "data": {
      "text/plain": [
       "0.9999104740193281"
      ]
     },
     "execution_count": 27,
     "metadata": {},
     "output_type": "execute_result"
    }
   ],
   "source": [
    "# Exercise 4\n",
    "\n",
    "RSquared = 1 - (SSR/TSS)"
   ]
  },
  {
   "cell_type": "code",
   "execution_count": 28,
   "metadata": {},
   "outputs": [
    {
     "data": {
      "text/plain": [
       "0.9998806320257708"
      ]
     },
     "execution_count": 28,
     "metadata": {},
     "output_type": "execute_result"
    }
   ],
   "source": [
    "# Exercise 4\n",
    "\n",
    "adj = 1 - (SSR/(5 - 2))/(TSS/(5 - 1))"
   ]
  },
  {
   "cell_type": "code",
   "execution_count": 29,
   "metadata": {},
   "outputs": [
    {
     "data": {
      "text/plain": [
       "100-element Vector{Float64}:\n",
       "  724.8000918431628\n",
       " 1792.7567097786266\n",
       "  730.109417783642\n",
       " 1955.9012316798473\n",
       "  684.0118137870437\n",
       " 1340.809141449855\n",
       " 1211.755981576027\n",
       " 1886.7810021237447\n",
       " 1725.7731344381575\n",
       " 1574.2220200963125\n",
       " 1825.2768141802376\n",
       "  891.3038816429475\n",
       " 1201.2246090854856\n",
       "    ⋮\n",
       "  679.6882466687695\n",
       " 1390.4565156558638\n",
       " 1676.0762909895725\n",
       " 1943.2782150518722\n",
       "  500.9324529135247\n",
       " 1910.9518732665015\n",
       "  961.8017882802887\n",
       "  629.0168662136138\n",
       " 1926.487998801383\n",
       "  540.612383021411\n",
       " 1613.5105610262929\n",
       "  899.4257546198575"
      ]
     },
     "execution_count": 29,
     "metadata": {},
     "output_type": "execute_result"
    }
   ],
   "source": [
    "# Exercise 5\n",
    "\n",
    "WageHat = (X*coeff) .+ e"
   ]
  },
  {
   "cell_type": "code",
   "execution_count": 30,
   "metadata": {},
   "outputs": [
    {
     "data": {
      "image/png": "[encoded data removed]",
      "image/svg+xml": [
       "<?xml version=\"1.0\" encoding=\"utf-8\"?>\n",
       "<svg xmlns=\"http://www.w3.org/2000/svg\" xmlns:xlink=\"http://www.w3.org/1999/xlink\" width=\"600\" height=\"400\" viewBox=\"0 0 2400 1600\">\n",
       "<defs>\n",
       "  <clipPath id=\"clip270\">\n",
       "    <rect x=\"0\" y=\"0\" width=\"2400\" height=\"1600\"/>\n",
       "  </clipPath>\n",
       "</defs>\n",
       "<path clip-path=\"url(#clip270)\" d=\"M0 1600 L2400 1600 L2400 0 L0 0  Z\" fill=\"#ffffff\" fill-rule=\"evenodd\" fill-opacity=\"1\"/>\n",
       "<defs>\n",
       "  <clipPath id=\"clip271\">\n",
       "    <rect x=\"480\" y=\"0\" width=\"1681\" height=\"1600\"/>\n",
       "  </clipPath>\n",
       "</defs>\n",
       "<path clip-path=\"url(#clip270)\" d=\"M199.283 1486.45 L2352.76 1486.45 L2352.76 47.2441 L199.283 47.2441  Z\" fill=\"#ffffff\" fill-rule=\"evenodd\" fill-opacity=\"1\"/>\n",
       "<defs>\n",
       "  <clipPath id=\"clip272\">\n",
       "    <rect x=\"199\" y=\"47\" width=\"2154\" height=\"1440\"/>\n",
       "  </clipPath>\n",
       "</defs>\n",
       "<polyline clip-path=\"url(#clip272)\" style=\"stroke:#000000; stroke-linecap:round; stroke-linejoin:round; stroke-width:2; stroke-opacity:0.1; fill:none\" points=\"260.231,1486.45 260.231,47.2441 \"/>\n",
       "<polyline clip-path=\"url(#clip272)\" style=\"stroke:#000000; stroke-linecap:round; stroke-linejoin:round; stroke-width:2; stroke-opacity:0.1; fill:none\" points=\"768.125,1486.45 768.125,47.2441 \"/>\n",
       "<polyline clip-path=\"url(#clip272)\" style=\"stroke:#000000; stroke-linecap:round; stroke-linejoin:round; stroke-width:2; stroke-opacity:0.1; fill:none\" points=\"1276.02,1486.45 1276.02,47.2441 \"/>\n",
       "<polyline clip-path=\"url(#clip272)\" style=\"stroke:#000000; stroke-linecap:round; stroke-linejoin:round; stroke-width:2; stroke-opacity:0.1; fill:none\" points=\"1783.91,1486.45 1783.91,47.2441 \"/>\n",
       "<polyline clip-path=\"url(#clip272)\" style=\"stroke:#000000; stroke-linecap:round; stroke-linejoin:round; stroke-width:2; stroke-opacity:0.1; fill:none\" points=\"2291.81,1486.45 2291.81,47.2441 \"/>\n",
       "<polyline clip-path=\"url(#clip270)\" style=\"stroke:#000000; stroke-linecap:round; stroke-linejoin:round; stroke-width:4; stroke-opacity:1; fill:none\" points=\"199.283,1486.45 2352.76,1486.45 \"/>\n",
       "<polyline clip-path=\"url(#clip270)\" style=\"stroke:#000000; stroke-linecap:round; stroke-linejoin:round; stroke-width:4; stroke-opacity:1; fill:none\" points=\"260.231,1486.45 260.231,1467.55 \"/>\n",
       "<polyline clip-path=\"url(#clip270)\" style=\"stroke:#000000; stroke-linecap:round; stroke-linejoin:round; stroke-width:4; stroke-opacity:1; fill:none\" points=\"768.125,1486.45 768.125,1467.55 \"/>\n",
       "<polyline clip-path=\"url(#clip270)\" style=\"stroke:#000000; stroke-linecap:round; stroke-linejoin:round; stroke-width:4; stroke-opacity:1; fill:none\" points=\"1276.02,1486.45 1276.02,1467.55 \"/>\n",
       "<polyline clip-path=\"url(#clip270)\" style=\"stroke:#000000; stroke-linecap:round; stroke-linejoin:round; stroke-width:4; stroke-opacity:1; fill:none\" points=\"1783.91,1486.45 1783.91,1467.55 \"/>\n",
       "<polyline clip-path=\"url(#clip270)\" style=\"stroke:#000000; stroke-linecap:round; stroke-linejoin:round; stroke-width:4; stroke-opacity:1; fill:none\" points=\"2291.81,1486.45 2291.81,1467.55 \"/>\n",
       "<path clip-path=\"url(#clip270)\" d=\"M260.231 1517.37 Q256.619 1517.37 254.791 1520.93 Q252.985 1524.47 252.985 1531.6 Q252.985 1538.71 254.791 1542.27 Q256.619 1545.82 260.231 1545.82 Q263.865 1545.82 265.67 1542.27 Q267.499 1538.71 267.499 1531.6 Q267.499 1524.47 265.67 1520.93 Q263.865 1517.37 260.231 1517.37 M260.231 1513.66 Q266.041 1513.66 269.096 1518.27 Q272.175 1522.85 272.175 1531.6 Q272.175 1540.33 269.096 1544.94 Q266.041 1549.52 260.231 1549.52 Q254.42 1549.52 251.342 1544.94 Q248.286 1540.33 248.286 1531.6 Q248.286 1522.85 251.342 1518.27 Q254.42 1513.66 260.231 1513.66 Z\" fill=\"#000000\" fill-rule=\"nonzero\" fill-opacity=\"1\" /><path clip-path=\"url(#clip270)\" d=\"M747.396 1544.91 L763.715 1544.91 L763.715 1548.85 L741.771 1548.85 L741.771 1544.91 Q744.433 1542.16 749.016 1537.53 Q753.623 1532.88 754.803 1531.53 Q757.049 1529.01 757.928 1527.27 Q758.831 1525.51 758.831 1523.82 Q758.831 1521.07 756.887 1519.33 Q754.965 1517.6 751.864 1517.6 Q749.664 1517.6 747.211 1518.36 Q744.78 1519.13 742.002 1520.68 L742.002 1515.95 Q744.827 1514.82 747.28 1514.24 Q749.734 1513.66 751.771 1513.66 Q757.141 1513.66 760.336 1516.35 Q763.53 1519.03 763.53 1523.52 Q763.53 1525.65 762.72 1527.57 Q761.933 1529.47 759.826 1532.07 Q759.248 1532.74 756.146 1535.95 Q753.044 1539.15 747.396 1544.91 Z\" fill=\"#000000\" fill-rule=\"nonzero\" fill-opacity=\"1\" /><path clip-path=\"url(#clip270)\" d=\"M773.576 1514.29 L791.933 1514.29 L791.933 1518.22 L777.859 1518.22 L777.859 1526.7 Q778.877 1526.35 779.896 1526.19 Q780.914 1526 781.933 1526 Q787.72 1526 791.099 1529.17 Q794.479 1532.34 794.479 1537.76 Q794.479 1543.34 791.007 1546.44 Q787.535 1549.52 781.215 1549.52 Q779.039 1549.52 776.771 1549.15 Q774.525 1548.78 772.118 1548.04 L772.118 1543.34 Q774.201 1544.47 776.424 1545.03 Q778.646 1545.58 781.123 1545.58 Q785.127 1545.58 787.465 1543.48 Q789.803 1541.37 789.803 1537.76 Q789.803 1534.15 787.465 1532.04 Q785.127 1529.94 781.123 1529.94 Q779.248 1529.94 777.373 1530.35 Q775.521 1530.77 773.576 1531.65 L773.576 1514.29 Z\" fill=\"#000000\" fill-rule=\"nonzero\" fill-opacity=\"1\" /><path clip-path=\"url(#clip270)\" d=\"M1250.72 1514.29 L1269.08 1514.29 L1269.08 1518.22 L1255 1518.22 L1255 1526.7 Q1256.02 1526.35 1257.04 1526.19 Q1258.06 1526 1259.08 1526 Q1264.86 1526 1268.24 1529.17 Q1271.62 1532.34 1271.62 1537.76 Q1271.62 1543.34 1268.15 1546.44 Q1264.68 1549.52 1258.36 1549.52 Q1256.18 1549.52 1253.91 1549.15 Q1251.67 1548.78 1249.26 1548.04 L1249.26 1543.34 Q1251.34 1544.47 1253.57 1545.03 Q1255.79 1545.58 1258.27 1545.58 Q1262.27 1545.58 1264.61 1543.48 Q1266.95 1541.37 1266.95 1537.76 Q1266.95 1534.15 1264.61 1532.04 Q1262.27 1529.94 1258.27 1529.94 Q1256.39 1529.94 1254.52 1530.35 Q1252.66 1530.77 1250.72 1531.65 L1250.72 1514.29 Z\" fill=\"#000000\" fill-rule=\"nonzero\" fill-opacity=\"1\" /><path clip-path=\"url(#clip270)\" d=\"M1290.83 1517.37 Q1287.22 1517.37 1285.39 1520.93 Q1283.59 1524.47 1283.59 1531.6 Q1283.59 1538.71 1285.39 1542.27 Q1287.22 1545.82 1290.83 1545.82 Q1294.47 1545.82 1296.27 1542.27 Q1298.1 1538.71 1298.1 1531.6 Q1298.1 1524.47 1296.27 1520.93 Q1294.47 1517.37 1290.83 1517.37 M1290.83 1513.66 Q1296.64 1513.66 1299.7 1518.27 Q1302.78 1522.85 1302.78 1531.6 Q1302.78 1540.33 1299.7 1544.94 Q1296.64 1549.52 1290.83 1549.52 Q1285.02 1549.52 1281.95 1544.94 Q1278.89 1540.33 1278.89 1531.6 Q1278.89 1522.85 1281.95 1518.27 Q1285.02 1513.66 1290.83 1513.66 Z\" fill=\"#000000\" fill-rule=\"nonzero\" fill-opacity=\"1\" /><path clip-path=\"url(#clip270)\" d=\"M1757.77 1514.29 L1779.99 1514.29 L1779.99 1516.28 L1767.44 1548.85 L1762.56 1548.85 L1774.37 1518.22 L1757.77 1518.22 L1757.77 1514.29 Z\" fill=\"#000000\" fill-rule=\"nonzero\" fill-opacity=\"1\" /><path clip-path=\"url(#clip270)\" d=\"M1789.16 1514.29 L1807.51 1514.29 L1807.51 1518.22 L1793.44 1518.22 L1793.44 1526.7 Q1794.46 1526.35 1795.48 1526.19 Q1796.5 1526 1797.51 1526 Q1803.3 1526 1806.68 1529.17 Q1810.06 1532.34 1810.06 1537.76 Q1810.06 1543.34 1806.59 1546.44 Q1803.12 1549.52 1796.8 1549.52 Q1794.62 1549.52 1792.35 1549.15 Q1790.11 1548.78 1787.7 1548.04 L1787.7 1543.34 Q1789.78 1544.47 1792 1545.03 Q1794.23 1545.58 1796.7 1545.58 Q1800.71 1545.58 1803.05 1543.48 Q1805.38 1541.37 1805.38 1537.76 Q1805.38 1534.15 1803.05 1532.04 Q1800.71 1529.94 1796.7 1529.94 Q1794.83 1529.94 1792.95 1530.35 Q1791.1 1530.77 1789.16 1531.65 L1789.16 1514.29 Z\" fill=\"#000000\" fill-rule=\"nonzero\" fill-opacity=\"1\" /><path clip-path=\"url(#clip270)\" d=\"M2251.42 1544.91 L2259.05 1544.91 L2259.05 1518.55 L2250.74 1520.21 L2250.74 1515.95 L2259.01 1514.29 L2263.68 1514.29 L2263.68 1544.91 L2271.32 1544.91 L2271.32 1548.85 L2251.42 1548.85 L2251.42 1544.91 Z\" fill=\"#000000\" fill-rule=\"nonzero\" fill-opacity=\"1\" /><path clip-path=\"url(#clip270)\" d=\"M2290.77 1517.37 Q2287.16 1517.37 2285.33 1520.93 Q2283.52 1524.47 2283.52 1531.6 Q2283.52 1538.71 2285.33 1542.27 Q2287.16 1545.82 2290.77 1545.82 Q2294.4 1545.82 2296.21 1542.27 Q2298.04 1538.71 2298.04 1531.6 Q2298.04 1524.47 2296.21 1520.93 Q2294.4 1517.37 2290.77 1517.37 M2290.77 1513.66 Q2296.58 1513.66 2299.63 1518.27 Q2302.71 1522.85 2302.71 1531.6 Q2302.71 1540.33 2299.63 1544.94 Q2296.58 1549.52 2290.77 1549.52 Q2284.96 1549.52 2281.88 1544.94 Q2278.82 1540.33 2278.82 1531.6 Q2278.82 1522.85 2281.88 1518.27 Q2284.96 1513.66 2290.77 1513.66 Z\" fill=\"#000000\" fill-rule=\"nonzero\" fill-opacity=\"1\" /><path clip-path=\"url(#clip270)\" d=\"M2320.93 1517.37 Q2317.32 1517.37 2315.49 1520.93 Q2313.68 1524.47 2313.68 1531.6 Q2313.68 1538.71 2315.49 1542.27 Q2317.32 1545.82 2320.93 1545.82 Q2324.56 1545.82 2326.37 1542.27 Q2328.2 1538.71 2328.2 1531.6 Q2328.2 1524.47 2326.37 1520.93 Q2324.56 1517.37 2320.93 1517.37 M2320.93 1513.66 Q2326.74 1513.66 2329.79 1518.27 Q2332.87 1522.85 2332.87 1531.6 Q2332.87 1540.33 2329.79 1544.94 Q2326.74 1549.52 2320.93 1549.52 Q2315.12 1549.52 2312.04 1544.94 Q2308.98 1540.33 2308.98 1531.6 Q2308.98 1522.85 2312.04 1518.27 Q2315.12 1513.66 2320.93 1513.66 Z\" fill=\"#000000\" fill-rule=\"nonzero\" fill-opacity=\"1\" /><polyline clip-path=\"url(#clip272)\" style=\"stroke:#000000; stroke-linecap:round; stroke-linejoin:round; stroke-width:2; stroke-opacity:0.1; fill:none\" points=\"199.283,1355.27 2352.76,1355.27 \"/>\n",
       "<polyline clip-path=\"url(#clip272)\" style=\"stroke:#000000; stroke-linecap:round; stroke-linejoin:round; stroke-width:2; stroke-opacity:0.1; fill:none\" points=\"199.283,1081.37 2352.76,1081.37 \"/>\n",
       "<polyline clip-path=\"url(#clip272)\" style=\"stroke:#000000; stroke-linecap:round; stroke-linejoin:round; stroke-width:2; stroke-opacity:0.1; fill:none\" points=\"199.283,807.476 2352.76,807.476 \"/>\n",
       "<polyline clip-path=\"url(#clip272)\" style=\"stroke:#000000; stroke-linecap:round; stroke-linejoin:round; stroke-width:2; stroke-opacity:0.1; fill:none\" points=\"199.283,533.58 2352.76,533.58 \"/>\n",
       "<polyline clip-path=\"url(#clip272)\" style=\"stroke:#000000; stroke-linecap:round; stroke-linejoin:round; stroke-width:2; stroke-opacity:0.1; fill:none\" points=\"199.283,259.683 2352.76,259.683 \"/>\n",
       "<polyline clip-path=\"url(#clip270)\" style=\"stroke:#000000; stroke-linecap:round; stroke-linejoin:round; stroke-width:4; stroke-opacity:1; fill:none\" points=\"199.283,1486.45 199.283,47.2441 \"/>\n",
       "<polyline clip-path=\"url(#clip270)\" style=\"stroke:#000000; stroke-linecap:round; stroke-linejoin:round; stroke-width:4; stroke-opacity:1; fill:none\" points=\"199.283,1355.27 218.181,1355.27 \"/>\n",
       "<polyline clip-path=\"url(#clip270)\" style=\"stroke:#000000; stroke-linecap:round; stroke-linejoin:round; stroke-width:4; stroke-opacity:1; fill:none\" points=\"199.283,1081.37 218.181,1081.37 \"/>\n",
       "<polyline clip-path=\"url(#clip270)\" style=\"stroke:#000000; stroke-linecap:round; stroke-linejoin:round; stroke-width:4; stroke-opacity:1; fill:none\" points=\"199.283,807.476 218.181,807.476 \"/>\n",
       "<polyline clip-path=\"url(#clip270)\" style=\"stroke:#000000; stroke-linecap:round; stroke-linejoin:round; stroke-width:4; stroke-opacity:1; fill:none\" points=\"199.283,533.58 218.181,533.58 \"/>\n",
       "<polyline clip-path=\"url(#clip270)\" style=\"stroke:#000000; stroke-linecap:round; stroke-linejoin:round; stroke-width:4; stroke-opacity:1; fill:none\" points=\"199.283,259.683 218.181,259.683 \"/>\n",
       "<path clip-path=\"url(#clip270)\" d=\"M91.5938 1353.4 Q88.4456 1353.4 86.5938 1355.56 Q84.7651 1357.71 84.7651 1361.46 Q84.7651 1365.19 86.5938 1367.36 Q88.4456 1369.52 91.5938 1369.52 Q94.7419 1369.52 96.5706 1367.36 Q98.4224 1365.19 98.4224 1361.46 Q98.4224 1357.71 96.5706 1355.56 Q94.7419 1353.4 91.5938 1353.4 M100.876 1338.75 L100.876 1343.01 Q99.1169 1342.18 97.3113 1341.74 Q95.5289 1341.3 93.7697 1341.3 Q89.1401 1341.3 86.6864 1344.42 Q84.2558 1347.55 83.9086 1353.87 Q85.2743 1351.85 87.3345 1350.79 Q89.3947 1349.7 91.8715 1349.7 Q97.0798 1349.7 100.089 1352.87 Q103.121 1356.02 103.121 1361.46 Q103.121 1366.78 99.9733 1370 Q96.8252 1373.22 91.5938 1373.22 Q85.5984 1373.22 82.4271 1368.64 Q79.2559 1364.03 79.2559 1355.3 Q79.2559 1347.11 83.1447 1342.25 Q87.0336 1337.36 93.5845 1337.36 Q95.3437 1337.36 97.1261 1337.71 Q98.9317 1338.06 100.876 1338.75 Z\" fill=\"#000000\" fill-rule=\"nonzero\" fill-opacity=\"1\" /><path clip-path=\"url(#clip270)\" d=\"M121.177 1341.07 Q117.566 1341.07 115.737 1344.63 Q113.932 1348.17 113.932 1355.3 Q113.932 1362.41 115.737 1365.97 Q117.566 1369.52 121.177 1369.52 Q124.811 1369.52 126.617 1365.97 Q128.445 1362.41 128.445 1355.3 Q128.445 1348.17 126.617 1344.63 Q124.811 1341.07 121.177 1341.07 M121.177 1337.36 Q126.987 1337.36 130.043 1341.97 Q133.121 1346.55 133.121 1355.3 Q133.121 1364.03 130.043 1368.64 Q126.987 1373.22 121.177 1373.22 Q115.367 1373.22 112.288 1368.64 Q109.233 1364.03 109.233 1355.3 Q109.233 1346.55 112.288 1341.97 Q115.367 1337.36 121.177 1337.36 Z\" fill=\"#000000\" fill-rule=\"nonzero\" fill-opacity=\"1\" /><path clip-path=\"url(#clip270)\" d=\"M151.339 1341.07 Q147.728 1341.07 145.899 1344.63 Q144.093 1348.17 144.093 1355.3 Q144.093 1362.41 145.899 1365.97 Q147.728 1369.52 151.339 1369.52 Q154.973 1369.52 156.779 1365.97 Q158.607 1362.41 158.607 1355.3 Q158.607 1348.17 156.779 1344.63 Q154.973 1341.07 151.339 1341.07 M151.339 1337.36 Q157.149 1337.36 160.205 1341.97 Q163.283 1346.55 163.283 1355.3 Q163.283 1364.03 160.205 1368.64 Q157.149 1373.22 151.339 1373.22 Q145.529 1373.22 142.45 1368.64 Q139.394 1364.03 139.394 1355.3 Q139.394 1346.55 142.45 1341.97 Q145.529 1337.36 151.339 1337.36 Z\" fill=\"#000000\" fill-rule=\"nonzero\" fill-opacity=\"1\" /><path clip-path=\"url(#clip270)\" d=\"M81.154 1097.93 L81.154 1093.68 Q82.9133 1094.51 84.7188 1094.95 Q86.5243 1095.39 88.2604 1095.39 Q92.89 1095.39 95.3206 1092.29 Q97.7743 1089.16 98.1215 1082.82 Q96.7789 1084.81 94.7187 1085.87 Q92.6586 1086.94 90.1586 1086.94 Q84.9734 1086.94 81.941 1083.81 Q78.9318 1080.67 78.9318 1075.23 Q78.9318 1069.9 82.0799 1066.68 Q85.2281 1063.47 90.4595 1063.47 Q96.4548 1063.47 99.603 1068.07 Q102.774 1072.66 102.774 1081.41 Q102.774 1089.58 98.8854 1094.46 Q95.0197 1099.32 88.4688 1099.32 Q86.7095 1099.32 84.904 1098.98 Q83.0984 1098.63 81.154 1097.93 M90.4595 1083.28 Q93.6076 1083.28 95.4363 1081.13 Q97.2882 1078.98 97.2882 1075.23 Q97.2882 1071.5 95.4363 1069.35 Q93.6076 1067.17 90.4595 1067.17 Q87.3114 1067.17 85.4595 1069.35 Q83.6308 1071.5 83.6308 1075.23 Q83.6308 1078.98 85.4595 1081.13 Q87.3114 1083.28 90.4595 1083.28 Z\" fill=\"#000000\" fill-rule=\"nonzero\" fill-opacity=\"1\" /><path clip-path=\"url(#clip270)\" d=\"M121.177 1067.17 Q117.566 1067.17 115.737 1070.74 Q113.932 1074.28 113.932 1081.41 Q113.932 1088.51 115.737 1092.08 Q117.566 1095.62 121.177 1095.62 Q124.811 1095.62 126.617 1092.08 Q128.445 1088.51 128.445 1081.41 Q128.445 1074.28 126.617 1070.74 Q124.811 1067.17 121.177 1067.17 M121.177 1063.47 Q126.987 1063.47 130.043 1068.07 Q133.121 1072.66 133.121 1081.41 Q133.121 1090.13 130.043 1094.74 Q126.987 1099.32 121.177 1099.32 Q115.367 1099.32 112.288 1094.74 Q109.233 1090.13 109.233 1081.41 Q109.233 1072.66 112.288 1068.07 Q115.367 1063.47 121.177 1063.47 Z\" fill=\"#000000\" fill-rule=\"nonzero\" fill-opacity=\"1\" /><path clip-path=\"url(#clip270)\" d=\"M151.339 1067.17 Q147.728 1067.17 145.899 1070.74 Q144.093 1074.28 144.093 1081.41 Q144.093 1088.51 145.899 1092.08 Q147.728 1095.62 151.339 1095.62 Q154.973 1095.62 156.779 1092.08 Q158.607 1088.51 158.607 1081.41 Q158.607 1074.28 156.779 1070.74 Q154.973 1067.17 151.339 1067.17 M151.339 1063.47 Q157.149 1063.47 160.205 1068.07 Q163.283 1072.66 163.283 1081.41 Q163.283 1090.13 160.205 1094.74 Q157.149 1099.32 151.339 1099.32 Q145.529 1099.32 142.45 1094.74 Q139.394 1090.13 139.394 1081.41 Q139.394 1072.66 142.45 1068.07 Q145.529 1063.47 151.339 1063.47 Z\" fill=\"#000000\" fill-rule=\"nonzero\" fill-opacity=\"1\" /><path clip-path=\"url(#clip270)\" d=\"M51.6634 820.821 L59.3023 820.821 L59.3023 794.455 L50.9921 796.122 L50.9921 791.863 L59.256 790.196 L63.9319 790.196 L63.9319 820.821 L71.5707 820.821 L71.5707 824.756 L51.6634 824.756 L51.6634 820.821 Z\" fill=\"#000000\" fill-rule=\"nonzero\" fill-opacity=\"1\" /><path clip-path=\"url(#clip270)\" d=\"M85.0429 820.821 L101.362 820.821 L101.362 824.756 L79.4179 824.756 L79.4179 820.821 Q82.0799 818.066 86.6632 813.436 Q91.2697 808.784 92.4502 807.441 Q94.6956 804.918 95.5752 803.182 Q96.478 801.423 96.478 799.733 Q96.478 796.978 94.5336 795.242 Q92.6123 793.506 89.5104 793.506 Q87.3114 793.506 84.8577 794.27 Q82.4271 795.034 79.6494 796.585 L79.6494 791.863 Q82.4734 790.728 84.9271 790.15 Q87.3808 789.571 89.4178 789.571 Q94.7882 789.571 97.9826 792.256 Q101.177 794.941 101.177 799.432 Q101.177 801.562 100.367 803.483 Q99.5798 805.381 97.4734 807.974 Q96.8947 808.645 93.7928 811.862 Q90.691 815.057 85.0429 820.821 Z\" fill=\"#000000\" fill-rule=\"nonzero\" fill-opacity=\"1\" /><path clip-path=\"url(#clip270)\" d=\"M121.177 793.275 Q117.566 793.275 115.737 796.839 Q113.932 800.381 113.932 807.511 Q113.932 814.617 115.737 818.182 Q117.566 821.723 121.177 821.723 Q124.811 821.723 126.617 818.182 Q128.445 814.617 128.445 807.511 Q128.445 800.381 126.617 796.839 Q124.811 793.275 121.177 793.275 M121.177 789.571 Q126.987 789.571 130.043 794.177 Q133.121 798.761 133.121 807.511 Q133.121 816.237 130.043 820.844 Q126.987 825.427 121.177 825.427 Q115.367 825.427 112.288 820.844 Q109.233 816.237 109.233 807.511 Q109.233 798.761 112.288 794.177 Q115.367 789.571 121.177 789.571 Z\" fill=\"#000000\" fill-rule=\"nonzero\" fill-opacity=\"1\" /><path clip-path=\"url(#clip270)\" d=\"M151.339 793.275 Q147.728 793.275 145.899 796.839 Q144.093 800.381 144.093 807.511 Q144.093 814.617 145.899 818.182 Q147.728 821.723 151.339 821.723 Q154.973 821.723 156.779 818.182 Q158.607 814.617 158.607 807.511 Q158.607 800.381 156.779 796.839 Q154.973 793.275 151.339 793.275 M151.339 789.571 Q157.149 789.571 160.205 794.177 Q163.283 798.761 163.283 807.511 Q163.283 816.237 160.205 820.844 Q157.149 825.427 151.339 825.427 Q145.529 825.427 142.45 820.844 Q139.394 816.237 139.394 807.511 Q139.394 798.761 142.45 794.177 Q145.529 789.571 151.339 789.571 Z\" fill=\"#000000\" fill-rule=\"nonzero\" fill-opacity=\"1\" /><path clip-path=\"url(#clip270)\" d=\"M51.6634 546.924 L59.3023 546.924 L59.3023 520.559 L50.9921 522.226 L50.9921 517.966 L59.256 516.3 L63.9319 516.3 L63.9319 546.924 L71.5707 546.924 L71.5707 550.86 L51.6634 550.86 L51.6634 546.924 Z\" fill=\"#000000\" fill-rule=\"nonzero\" fill-opacity=\"1\" /><path clip-path=\"url(#clip270)\" d=\"M81.0614 516.3 L99.4178 516.3 L99.4178 520.235 L85.3438 520.235 L85.3438 528.707 Q86.3623 528.36 87.3808 528.198 Q88.3993 528.013 89.4178 528.013 Q95.2049 528.013 98.5845 531.184 Q101.964 534.355 101.964 539.772 Q101.964 545.35 98.4919 548.452 Q95.0197 551.531 88.7003 551.531 Q86.5243 551.531 84.2558 551.161 Q82.0105 550.79 79.6031 550.049 L79.6031 545.35 Q81.6864 546.485 83.9086 547.04 Q86.1308 547.596 88.6077 547.596 Q92.6123 547.596 94.9502 545.489 Q97.2882 543.383 97.2882 539.772 Q97.2882 536.161 94.9502 534.054 Q92.6123 531.948 88.6077 531.948 Q86.7327 531.948 84.8577 532.364 Q83.0058 532.781 81.0614 533.661 L81.0614 516.3 Z\" fill=\"#000000\" fill-rule=\"nonzero\" fill-opacity=\"1\" /><path clip-path=\"url(#clip270)\" d=\"M121.177 519.378 Q117.566 519.378 115.737 522.943 Q113.932 526.485 113.932 533.614 Q113.932 540.721 115.737 544.286 Q117.566 547.827 121.177 547.827 Q124.811 547.827 126.617 544.286 Q128.445 540.721 128.445 533.614 Q128.445 526.485 126.617 522.943 Q124.811 519.378 121.177 519.378 M121.177 515.675 Q126.987 515.675 130.043 520.281 Q133.121 524.864 133.121 533.614 Q133.121 542.341 130.043 546.948 Q126.987 551.531 121.177 551.531 Q115.367 551.531 112.288 546.948 Q109.233 542.341 109.233 533.614 Q109.233 524.864 112.288 520.281 Q115.367 515.675 121.177 515.675 Z\" fill=\"#000000\" fill-rule=\"nonzero\" fill-opacity=\"1\" /><path clip-path=\"url(#clip270)\" d=\"M151.339 519.378 Q147.728 519.378 145.899 522.943 Q144.093 526.485 144.093 533.614 Q144.093 540.721 145.899 544.286 Q147.728 547.827 151.339 547.827 Q154.973 547.827 156.779 544.286 Q158.607 540.721 158.607 533.614 Q158.607 526.485 156.779 522.943 Q154.973 519.378 151.339 519.378 M151.339 515.675 Q157.149 515.675 160.205 520.281 Q163.283 524.864 163.283 533.614 Q163.283 542.341 160.205 546.948 Q157.149 551.531 151.339 551.531 Q145.529 551.531 142.45 546.948 Q139.394 542.341 139.394 533.614 Q139.394 524.864 142.45 520.281 Q145.529 515.675 151.339 515.675 Z\" fill=\"#000000\" fill-rule=\"nonzero\" fill-opacity=\"1\" /><path clip-path=\"url(#clip270)\" d=\"M51.6634 273.028 L59.3023 273.028 L59.3023 246.663 L50.9921 248.329 L50.9921 244.07 L59.256 242.403 L63.9319 242.403 L63.9319 273.028 L71.5707 273.028 L71.5707 276.963 L51.6634 276.963 L51.6634 273.028 Z\" fill=\"#000000\" fill-rule=\"nonzero\" fill-opacity=\"1\" /><path clip-path=\"url(#clip270)\" d=\"M91.0151 260.551 Q87.6817 260.551 85.7605 262.334 Q83.8623 264.116 83.8623 267.241 Q83.8623 270.366 85.7605 272.149 Q87.6817 273.931 91.0151 273.931 Q94.3484 273.931 96.2697 272.149 Q98.1909 270.343 98.1909 267.241 Q98.1909 264.116 96.2697 262.334 Q94.3715 260.551 91.0151 260.551 M86.3392 258.561 Q83.3299 257.82 81.6401 255.76 Q79.9735 253.7 79.9735 250.737 Q79.9735 246.593 82.9133 244.186 Q85.8762 241.778 91.0151 241.778 Q96.1771 241.778 99.1169 244.186 Q102.057 246.593 102.057 250.737 Q102.057 253.7 100.367 255.76 Q98.7002 257.82 95.7141 258.561 Q99.0937 259.348 100.969 261.639 Q102.867 263.931 102.867 267.241 Q102.867 272.264 99.7882 274.95 Q96.7326 277.635 91.0151 277.635 Q85.2975 277.635 82.2188 274.95 Q79.1633 272.264 79.1633 267.241 Q79.1633 263.931 81.0614 261.639 Q82.9595 259.348 86.3392 258.561 M84.6262 251.177 Q84.6262 253.862 86.2929 255.366 Q87.9827 256.871 91.0151 256.871 Q94.0243 256.871 95.7141 255.366 Q97.4271 253.862 97.4271 251.177 Q97.4271 248.491 95.7141 246.987 Q94.0243 245.482 91.0151 245.482 Q87.9827 245.482 86.2929 246.987 Q84.6262 248.491 84.6262 251.177 Z\" fill=\"#000000\" fill-rule=\"nonzero\" fill-opacity=\"1\" /><path clip-path=\"url(#clip270)\" d=\"M121.177 245.482 Q117.566 245.482 115.737 249.047 Q113.932 252.589 113.932 259.718 Q113.932 266.825 115.737 270.389 Q117.566 273.931 121.177 273.931 Q124.811 273.931 126.617 270.389 Q128.445 266.825 128.445 259.718 Q128.445 252.589 126.617 249.047 Q124.811 245.482 121.177 245.482 M121.177 241.778 Q126.987 241.778 130.043 246.385 Q133.121 250.968 133.121 259.718 Q133.121 268.445 130.043 273.051 Q126.987 277.635 121.177 277.635 Q115.367 277.635 112.288 273.051 Q109.233 268.445 109.233 259.718 Q109.233 250.968 112.288 246.385 Q115.367 241.778 121.177 241.778 Z\" fill=\"#000000\" fill-rule=\"nonzero\" fill-opacity=\"1\" /><path clip-path=\"url(#clip270)\" d=\"M151.339 245.482 Q147.728 245.482 145.899 249.047 Q144.093 252.589 144.093 259.718 Q144.093 266.825 145.899 270.389 Q147.728 273.931 151.339 273.931 Q154.973 273.931 156.779 270.389 Q158.607 266.825 158.607 259.718 Q158.607 252.589 156.779 249.047 Q154.973 245.482 151.339 245.482 M151.339 241.778 Q157.149 241.778 160.205 246.385 Q163.283 250.968 163.283 259.718 Q163.283 268.445 160.205 273.051 Q157.149 277.635 151.339 277.635 Q145.529 277.635 142.45 273.051 Q139.394 268.445 139.394 259.718 Q139.394 250.968 142.45 246.385 Q145.529 241.778 151.339 241.778 Z\" fill=\"#000000\" fill-rule=\"nonzero\" fill-opacity=\"1\" /><polyline clip-path=\"url(#clip272)\" style=\"stroke:#009af9; stroke-linecap:round; stroke-linejoin:round; stroke-width:4; stroke-opacity:1; fill:none\" points=\"260.231,1241.33 280.752,266.296 301.273,1236.48 321.794,117.348 342.314,1278.57 362.835,678.919 383.356,796.743 403.877,180.453 424.398,327.452 444.919,465.816 465.44,236.606 485.961,1089.31 506.482,806.358 527.003,288.95 547.524,324.828 568.045,320.498 588.566,1082.89 609.087,101.743 629.608,166.851 650.129,742.291 670.65,594.386 691.171,211.209 711.692,398.448 732.213,140.701 752.734,486.149 773.255,567.784 793.776,541.246 814.297,697.878 834.818,1000.08 855.339,981.498 875.86,1240.51 896.381,323.004 916.902,796.807 937.423,448.362 957.944,1245.47 978.465,1310.79 998.986,1108.12 1019.51,841.77 1040.03,1401.38 1060.55,137.276 1081.07,1332.32 1101.59,204.095 1122.11,696.065 1142.63,813.412 1163.15,973.175 1183.68,556.017 1204.2,929.761 1224.72,182.021 1245.24,519.737 1265.76,90.998 1286.28,513.744 1306.8,283.218 1327.32,476.017 1347.84,853.019 1368.36,365.352 1388.88,175.936 1409.41,87.9763 1429.93,1139.55 1450.45,852.987 1470.97,1350.58 1491.49,1005.39 1512.01,714.265 1532.53,1277.99 1553.05,743.474 1573.57,992.215 1594.09,790.973 1614.62,1067.67 1635.14,574.67 1655.66,1406.35 1676.18,476.856 1696.7,650.826 1717.22,1099.8 1737.74,413.562 1758.26,140.409 1778.78,339.952 1799.3,545.972 1819.83,921.946 1840.35,334.581 1860.87,460.49 1881.39,433.686 1901.91,981.985 1922.43,739.669 1942.95,452.956 1963.47,1027.11 1983.99,459.873 2004.51,281.808 2025.04,824.374 2045.56,474.33 2066.08,1282.51 2086.6,633.591 2107.12,372.824 2127.64,128.872 2148.16,1445.72 2168.68,158.386 2189.2,1024.95 2209.72,1328.78 2230.25,144.201 2250.77,1409.49 2271.29,429.946 2291.81,1081.9 \"/>\n",
       "<polyline clip-path=\"url(#clip272)\" style=\"stroke:#e26f46; stroke-linecap:round; stroke-linejoin:round; stroke-width:4; stroke-opacity:1; fill:none\" points=\"260.231,1241.33 280.752,266.296 301.273,1236.48 321.794,117.348 342.314,1278.57 362.835,678.919 383.356,796.743 403.877,180.453 424.398,327.452 444.919,465.816 465.44,236.606 485.961,1089.31 506.482,806.358 527.003,288.95 547.524,324.828 568.045,320.498 588.566,1082.89 609.087,101.743 629.608,166.851 650.129,742.291 670.65,594.386 691.171,211.209 711.692,398.448 732.213,140.701 752.734,486.149 773.255,567.784 793.776,541.246 814.297,697.878 834.818,1000.08 855.339,981.498 875.86,1240.51 896.381,323.004 916.902,796.807 937.423,448.362 957.944,1245.47 978.465,1310.79 998.986,1108.12 1019.51,841.77 1040.03,1401.38 1060.55,137.276 1081.07,1332.32 1101.59,204.095 1122.11,696.065 1142.63,813.412 1163.15,973.175 1183.68,556.017 1204.2,929.761 1224.72,182.021 1245.24,519.737 1265.76,90.998 1286.28,513.744 1306.8,283.218 1327.32,476.017 1347.84,853.019 1368.36,365.352 1388.88,175.936 1409.41,87.9763 1429.93,1139.55 1450.45,852.987 1470.97,1350.58 1491.49,1005.39 1512.01,714.265 1532.53,1277.99 1553.05,743.474 1573.57,992.215 1594.09,790.973 1614.62,1067.67 1635.14,574.67 1655.66,1406.35 1676.18,476.856 1696.7,650.826 1717.22,1099.8 1737.74,413.562 1758.26,140.409 1778.78,339.952 1799.3,545.972 1819.83,921.946 1840.35,334.581 1860.87,460.49 1881.39,433.686 1901.91,981.985 1922.43,739.669 1942.95,452.956 1963.47,1027.11 1983.99,459.873 2004.51,281.808 2025.04,824.374 2045.56,474.33 2066.08,1282.51 2086.6,633.591 2107.12,372.824 2127.64,128.872 2148.16,1445.72 2168.68,158.386 2189.2,1024.95 2209.72,1328.78 2230.25,144.201 2250.77,1409.49 2271.29,429.946 2291.81,1081.9 \"/>\n",
       "<path clip-path=\"url(#clip270)\" d=\"M271.066 1438.47 L538.843 1438.47 L538.843 1282.95 L271.066 1282.95  Z\" fill=\"#ffffff\" fill-rule=\"evenodd\" fill-opacity=\"1\"/>\n",
       "<polyline clip-path=\"url(#clip270)\" style=\"stroke:#000000; stroke-linecap:round; stroke-linejoin:round; stroke-width:4; stroke-opacity:1; fill:none\" points=\"271.066,1438.47 538.843,1438.47 538.843,1282.95 271.066,1282.95 271.066,1438.47 \"/>\n",
       "<polyline clip-path=\"url(#clip270)\" style=\"stroke:#009af9; stroke-linecap:round; stroke-linejoin:round; stroke-width:4; stroke-opacity:1; fill:none\" points=\"294.993,1334.79 438.558,1334.79 \"/>\n",
       "<path clip-path=\"url(#clip270)\" d=\"M476.328 1354.48 Q474.522 1359.11 472.809 1360.52 Q471.096 1361.94 468.226 1361.94 L464.823 1361.94 L464.823 1358.37 L467.323 1358.37 Q469.083 1358.37 470.055 1357.54 Q471.027 1356.7 472.208 1353.6 L472.971 1351.66 L462.485 1326.15 L466.999 1326.15 L475.101 1346.43 L483.203 1326.15 L487.717 1326.15 L476.328 1354.48 Z\" fill=\"#000000\" fill-rule=\"nonzero\" fill-opacity=\"1\" /><path clip-path=\"url(#clip270)\" d=\"M495.008 1348.14 L502.647 1348.14 L502.647 1321.77 L494.337 1323.44 L494.337 1319.18 L502.601 1317.51 L507.277 1317.51 L507.277 1348.14 L514.916 1348.14 L514.916 1352.07 L495.008 1352.07 L495.008 1348.14 Z\" fill=\"#000000\" fill-rule=\"nonzero\" fill-opacity=\"1\" /><polyline clip-path=\"url(#clip270)\" style=\"stroke:#e26f46; stroke-linecap:round; stroke-linejoin:round; stroke-width:4; stroke-opacity:1; fill:none\" points=\"294.993,1386.63 438.558,1386.63 \"/>\n",
       "<path clip-path=\"url(#clip270)\" d=\"M476.328 1406.32 Q474.522 1410.95 472.809 1412.36 Q471.096 1413.78 468.226 1413.78 L464.823 1413.78 L464.823 1410.21 L467.323 1410.21 Q469.083 1410.21 470.055 1409.38 Q471.027 1408.54 472.208 1405.44 L472.971 1403.5 L462.485 1377.99 L466.999 1377.99 L475.101 1398.27 L483.203 1377.99 L487.717 1377.99 L476.328 1406.32 Z\" fill=\"#000000\" fill-rule=\"nonzero\" fill-opacity=\"1\" /><path clip-path=\"url(#clip270)\" d=\"M498.226 1399.98 L514.545 1399.98 L514.545 1403.91 L492.601 1403.91 L492.601 1399.98 Q495.263 1397.22 499.846 1392.6 Q504.453 1387.94 505.633 1386.6 Q507.879 1384.08 508.758 1382.34 Q509.661 1380.58 509.661 1378.89 Q509.661 1376.14 507.717 1374.4 Q505.795 1372.66 502.694 1372.66 Q500.494 1372.66 498.041 1373.43 Q495.61 1374.19 492.832 1375.74 L492.832 1371.02 Q495.657 1369.89 498.11 1369.31 Q500.564 1368.73 502.601 1368.73 Q507.971 1368.73 511.166 1371.41 Q514.36 1374.1 514.36 1378.59 Q514.36 1380.72 513.55 1382.64 Q512.763 1384.54 510.656 1387.13 Q510.078 1387.8 506.976 1391.02 Q503.874 1394.22 498.226 1399.98 Z\" fill=\"#000000\" fill-rule=\"nonzero\" fill-opacity=\"1\" /></svg>\n"
      ],
      "text/html": [
       "<?xml version=\"1.0\" encoding=\"utf-8\"?>\n",
       "<svg xmlns=\"http://www.w3.org/2000/svg\" xmlns:xlink=\"http://www.w3.org/1999/xlink\" width=\"600\" height=\"400\" viewBox=\"0 0 2400 1600\">\n",
       "<defs>\n",
       "  <clipPath id=\"clip320\">\n",
       "    <rect x=\"0\" y=\"0\" width=\"2400\" height=\"1600\"/>\n",
       "  </clipPath>\n",
       "</defs>\n",
       "<path clip-path=\"url(#clip320)\" d=\"M0 1600 L2400 1600 L2400 0 L0 0  Z\" fill=\"#ffffff\" fill-rule=\"evenodd\" fill-opacity=\"1\"/>\n",
       "<defs>\n",
       "  <clipPath id=\"clip321\">\n",
       "    <rect x=\"480\" y=\"0\" width=\"1681\" height=\"1600\"/>\n",
       "  </clipPath>\n",
       "</defs>\n",
       "<path clip-path=\"url(#clip320)\" d=\"M199.283 1486.45 L2352.76 1486.45 L2352.76 47.2441 L199.283 47.2441  Z\" fill=\"#ffffff\" fill-rule=\"evenodd\" fill-opacity=\"1\"/>\n",
       "<defs>\n",
       "  <clipPath id=\"clip322\">\n",
       "    <rect x=\"199\" y=\"47\" width=\"2154\" height=\"1440\"/>\n",
       "  </clipPath>\n",
       "</defs>\n",
       "<polyline clip-path=\"url(#clip322)\" style=\"stroke:#000000; stroke-linecap:round; stroke-linejoin:round; stroke-width:2; stroke-opacity:0.1; fill:none\" points=\"260.231,1486.45 260.231,47.2441 \"/>\n",
       "<polyline clip-path=\"url(#clip322)\" style=\"stroke:#000000; stroke-linecap:round; stroke-linejoin:round; stroke-width:2; stroke-opacity:0.1; fill:none\" points=\"768.125,1486.45 768.125,47.2441 \"/>\n",
       "<polyline clip-path=\"url(#clip322)\" style=\"stroke:#000000; stroke-linecap:round; stroke-linejoin:round; stroke-width:2; stroke-opacity:0.1; fill:none\" points=\"1276.02,1486.45 1276.02,47.2441 \"/>\n",
       "<polyline clip-path=\"url(#clip322)\" style=\"stroke:#000000; stroke-linecap:round; stroke-linejoin:round; stroke-width:2; stroke-opacity:0.1; fill:none\" points=\"1783.91,1486.45 1783.91,47.2441 \"/>\n",
       "<polyline clip-path=\"url(#clip322)\" style=\"stroke:#000000; stroke-linecap:round; stroke-linejoin:round; stroke-width:2; stroke-opacity:0.1; fill:none\" points=\"2291.81,1486.45 2291.81,47.2441 \"/>\n",
       "<polyline clip-path=\"url(#clip320)\" style=\"stroke:#000000; stroke-linecap:round; stroke-linejoin:round; stroke-width:4; stroke-opacity:1; fill:none\" points=\"199.283,1486.45 2352.76,1486.45 \"/>\n",
       "<polyline clip-path=\"url(#clip320)\" style=\"stroke:#000000; stroke-linecap:round; stroke-linejoin:round; stroke-width:4; stroke-opacity:1; fill:none\" points=\"260.231,1486.45 260.231,1467.55 \"/>\n",
       "<polyline clip-path=\"url(#clip320)\" style=\"stroke:#000000; stroke-linecap:round; stroke-linejoin:round; stroke-width:4; stroke-opacity:1; fill:none\" points=\"768.125,1486.45 768.125,1467.55 \"/>\n",
       "<polyline clip-path=\"url(#clip320)\" style=\"stroke:#000000; stroke-linecap:round; stroke-linejoin:round; stroke-width:4; stroke-opacity:1; fill:none\" points=\"1276.02,1486.45 1276.02,1467.55 \"/>\n",
       "<polyline clip-path=\"url(#clip320)\" style=\"stroke:#000000; stroke-linecap:round; stroke-linejoin:round; stroke-width:4; stroke-opacity:1; fill:none\" points=\"1783.91,1486.45 1783.91,1467.55 \"/>\n",
       "<polyline clip-path=\"url(#clip320)\" style=\"stroke:#000000; stroke-linecap:round; stroke-linejoin:round; stroke-width:4; stroke-opacity:1; fill:none\" points=\"2291.81,1486.45 2291.81,1467.55 \"/>\n",
       "<path clip-path=\"url(#clip320)\" d=\"M260.231 1517.37 Q256.619 1517.37 254.791 1520.93 Q252.985 1524.47 252.985 1531.6 Q252.985 1538.71 254.791 1542.27 Q256.619 1545.82 260.231 1545.82 Q263.865 1545.82 265.67 1542.27 Q267.499 1538.71 267.499 1531.6 Q267.499 1524.47 265.67 1520.93 Q263.865 1517.37 260.231 1517.37 M260.231 1513.66 Q266.041 1513.66 269.096 1518.27 Q272.175 1522.85 272.175 1531.6 Q272.175 1540.33 269.096 1544.94 Q266.041 1549.52 260.231 1549.52 Q254.42 1549.52 251.342 1544.94 Q248.286 1540.33 248.286 1531.6 Q248.286 1522.85 251.342 1518.27 Q254.42 1513.66 260.231 1513.66 Z\" fill=\"#000000\" fill-rule=\"nonzero\" fill-opacity=\"1\" /><path clip-path=\"url(#clip320)\" d=\"M747.396 1544.91 L763.715 1544.91 L763.715 1548.85 L741.771 1548.85 L741.771 1544.91 Q744.433 1542.16 749.016 1537.53 Q753.623 1532.88 754.803 1531.53 Q757.049 1529.01 757.928 1527.27 Q758.831 1525.51 758.831 1523.82 Q758.831 1521.07 756.887 1519.33 Q754.965 1517.6 751.864 1517.6 Q749.664 1517.6 747.211 1518.36 Q744.78 1519.13 742.002 1520.68 L742.002 1515.95 Q744.827 1514.82 747.28 1514.24 Q749.734 1513.66 751.771 1513.66 Q757.141 1513.66 760.336 1516.35 Q763.53 1519.03 763.53 1523.52 Q763.53 1525.65 762.72 1527.57 Q761.933 1529.47 759.826 1532.07 Q759.248 1532.74 756.146 1535.95 Q753.044 1539.15 747.396 1544.91 Z\" fill=\"#000000\" fill-rule=\"nonzero\" fill-opacity=\"1\" /><path clip-path=\"url(#clip320)\" d=\"M773.576 1514.29 L791.933 1514.29 L791.933 1518.22 L777.859 1518.22 L777.859 1526.7 Q778.877 1526.35 779.896 1526.19 Q780.914 1526 781.933 1526 Q787.72 1526 791.099 1529.17 Q794.479 1532.34 794.479 1537.76 Q794.479 1543.34 791.007 1546.44 Q787.535 1549.52 781.215 1549.52 Q779.039 1549.52 776.771 1549.15 Q774.525 1548.78 772.118 1548.04 L772.118 1543.34 Q774.201 1544.47 776.424 1545.03 Q778.646 1545.58 781.123 1545.58 Q785.127 1545.58 787.465 1543.48 Q789.803 1541.37 789.803 1537.76 Q789.803 1534.15 787.465 1532.04 Q785.127 1529.94 781.123 1529.94 Q779.248 1529.94 777.373 1530.35 Q775.521 1530.77 773.576 1531.65 L773.576 1514.29 Z\" fill=\"#000000\" fill-rule=\"nonzero\" fill-opacity=\"1\" /><path clip-path=\"url(#clip320)\" d=\"M1250.72 1514.29 L1269.08 1514.29 L1269.08 1518.22 L1255 1518.22 L1255 1526.7 Q1256.02 1526.35 1257.04 1526.19 Q1258.06 1526 1259.08 1526 Q1264.86 1526 1268.24 1529.17 Q1271.62 1532.34 1271.62 1537.76 Q1271.62 1543.34 1268.15 1546.44 Q1264.68 1549.52 1258.36 1549.52 Q1256.18 1549.52 1253.91 1549.15 Q1251.67 1548.78 1249.26 1548.04 L1249.26 1543.34 Q1251.34 1544.47 1253.57 1545.03 Q1255.79 1545.58 1258.27 1545.58 Q1262.27 1545.58 1264.61 1543.48 Q1266.95 1541.37 1266.95 1537.76 Q1266.95 1534.15 1264.61 1532.04 Q1262.27 1529.94 1258.27 1529.94 Q1256.39 1529.94 1254.52 1530.35 Q1252.66 1530.77 1250.72 1531.65 L1250.72 1514.29 Z\" fill=\"#000000\" fill-rule=\"nonzero\" fill-opacity=\"1\" /><path clip-path=\"url(#clip320)\" d=\"M1290.83 1517.37 Q1287.22 1517.37 1285.39 1520.93 Q1283.59 1524.47 1283.59 1531.6 Q1283.59 1538.71 1285.39 1542.27 Q1287.22 1545.82 1290.83 1545.82 Q1294.47 1545.82 1296.27 1542.27 Q1298.1 1538.71 1298.1 1531.6 Q1298.1 1524.47 1296.27 1520.93 Q1294.47 1517.37 1290.83 1517.37 M1290.83 1513.66 Q1296.64 1513.66 1299.7 1518.27 Q1302.78 1522.85 1302.78 1531.6 Q1302.78 1540.33 1299.7 1544.94 Q1296.64 1549.52 1290.83 1549.52 Q1285.02 1549.52 1281.95 1544.94 Q1278.89 1540.33 1278.89 1531.6 Q1278.89 1522.85 1281.95 1518.27 Q1285.02 1513.66 1290.83 1513.66 Z\" fill=\"#000000\" fill-rule=\"nonzero\" fill-opacity=\"1\" /><path clip-path=\"url(#clip320)\" d=\"M1757.77 1514.29 L1779.99 1514.29 L1779.99 1516.28 L1767.44 1548.85 L1762.56 1548.85 L1774.37 1518.22 L1757.77 1518.22 L1757.77 1514.29 Z\" fill=\"#000000\" fill-rule=\"nonzero\" fill-opacity=\"1\" /><path clip-path=\"url(#clip320)\" d=\"M1789.16 1514.29 L1807.51 1514.29 L1807.51 1518.22 L1793.44 1518.22 L1793.44 1526.7 Q1794.46 1526.35 1795.48 1526.19 Q1796.5 1526 1797.51 1526 Q1803.3 1526 1806.68 1529.17 Q1810.06 1532.34 1810.06 1537.76 Q1810.06 1543.34 1806.59 1546.44 Q1803.12 1549.52 1796.8 1549.52 Q1794.62 1549.52 1792.35 1549.15 Q1790.11 1548.78 1787.7 1548.04 L1787.7 1543.34 Q1789.78 1544.47 1792 1545.03 Q1794.23 1545.58 1796.7 1545.58 Q1800.71 1545.58 1803.05 1543.48 Q1805.38 1541.37 1805.38 1537.76 Q1805.38 1534.15 1803.05 1532.04 Q1800.71 1529.94 1796.7 1529.94 Q1794.83 1529.94 1792.95 1530.35 Q1791.1 1530.77 1789.16 1531.65 L1789.16 1514.29 Z\" fill=\"#000000\" fill-rule=\"nonzero\" fill-opacity=\"1\" /><path clip-path=\"url(#clip320)\" d=\"M2251.42 1544.91 L2259.05 1544.91 L2259.05 1518.55 L2250.74 1520.21 L2250.74 1515.95 L2259.01 1514.29 L2263.68 1514.29 L2263.68 1544.91 L2271.32 1544.91 L2271.32 1548.85 L2251.42 1548.85 L2251.42 1544.91 Z\" fill=\"#000000\" fill-rule=\"nonzero\" fill-opacity=\"1\" /><path clip-path=\"url(#clip320)\" d=\"M2290.77 1517.37 Q2287.16 1517.37 2285.33 1520.93 Q2283.52 1524.47 2283.52 1531.6 Q2283.52 1538.71 2285.33 1542.27 Q2287.16 1545.82 2290.77 1545.82 Q2294.4 1545.82 2296.21 1542.27 Q2298.04 1538.71 2298.04 1531.6 Q2298.04 1524.47 2296.21 1520.93 Q2294.4 1517.37 2290.77 1517.37 M2290.77 1513.66 Q2296.58 1513.66 2299.63 1518.27 Q2302.71 1522.85 2302.71 1531.6 Q2302.71 1540.33 2299.63 1544.94 Q2296.58 1549.52 2290.77 1549.52 Q2284.96 1549.52 2281.88 1544.94 Q2278.82 1540.33 2278.82 1531.6 Q2278.82 1522.85 2281.88 1518.27 Q2284.96 1513.66 2290.77 1513.66 Z\" fill=\"#000000\" fill-rule=\"nonzero\" fill-opacity=\"1\" /><path clip-path=\"url(#clip320)\" d=\"M2320.93 1517.37 Q2317.32 1517.37 2315.49 1520.93 Q2313.68 1524.47 2313.68 1531.6 Q2313.68 1538.71 2315.49 1542.27 Q2317.32 1545.82 2320.93 1545.82 Q2324.56 1545.82 2326.37 1542.27 Q2328.2 1538.71 2328.2 1531.6 Q2328.2 1524.47 2326.37 1520.93 Q2324.56 1517.37 2320.93 1517.37 M2320.93 1513.66 Q2326.74 1513.66 2329.79 1518.27 Q2332.87 1522.85 2332.87 1531.6 Q2332.87 1540.33 2329.79 1544.94 Q2326.74 1549.52 2320.93 1549.52 Q2315.12 1549.52 2312.04 1544.94 Q2308.98 1540.33 2308.98 1531.6 Q2308.98 1522.85 2312.04 1518.27 Q2315.12 1513.66 2320.93 1513.66 Z\" fill=\"#000000\" fill-rule=\"nonzero\" fill-opacity=\"1\" /><polyline clip-path=\"url(#clip322)\" style=\"stroke:#000000; stroke-linecap:round; stroke-linejoin:round; stroke-width:2; stroke-opacity:0.1; fill:none\" points=\"199.283,1355.27 2352.76,1355.27 \"/>\n",
       "<polyline clip-path=\"url(#clip322)\" style=\"stroke:#000000; stroke-linecap:round; stroke-linejoin:round; stroke-width:2; stroke-opacity:0.1; fill:none\" points=\"199.283,1081.37 2352.76,1081.37 \"/>\n",
       "<polyline clip-path=\"url(#clip322)\" style=\"stroke:#000000; stroke-linecap:round; stroke-linejoin:round; stroke-width:2; stroke-opacity:0.1; fill:none\" points=\"199.283,807.476 2352.76,807.476 \"/>\n",
       "<polyline clip-path=\"url(#clip322)\" style=\"stroke:#000000; stroke-linecap:round; stroke-linejoin:round; stroke-width:2; stroke-opacity:0.1; fill:none\" points=\"199.283,533.58 2352.76,533.58 \"/>\n",
       "<polyline clip-path=\"url(#clip322)\" style=\"stroke:#000000; stroke-linecap:round; stroke-linejoin:round; stroke-width:2; stroke-opacity:0.1; fill:none\" points=\"199.283,259.683 2352.76,259.683 \"/>\n",
       "<polyline clip-path=\"url(#clip320)\" style=\"stroke:#000000; stroke-linecap:round; stroke-linejoin:round; stroke-width:4; stroke-opacity:1; fill:none\" points=\"199.283,1486.45 199.283,47.2441 \"/>\n",
       "<polyline clip-path=\"url(#clip320)\" style=\"stroke:#000000; stroke-linecap:round; stroke-linejoin:round; stroke-width:4; stroke-opacity:1; fill:none\" points=\"199.283,1355.27 218.181,1355.27 \"/>\n",
       "<polyline clip-path=\"url(#clip320)\" style=\"stroke:#000000; stroke-linecap:round; stroke-linejoin:round; stroke-width:4; stroke-opacity:1; fill:none\" points=\"199.283,1081.37 218.181,1081.37 \"/>\n",
       "<polyline clip-path=\"url(#clip320)\" style=\"stroke:#000000; stroke-linecap:round; stroke-linejoin:round; stroke-width:4; stroke-opacity:1; fill:none\" points=\"199.283,807.476 218.181,807.476 \"/>\n",
       "<polyline clip-path=\"url(#clip320)\" style=\"stroke:#000000; stroke-linecap:round; stroke-linejoin:round; stroke-width:4; stroke-opacity:1; fill:none\" points=\"199.283,533.58 218.181,533.58 \"/>\n",
       "<polyline clip-path=\"url(#clip320)\" style=\"stroke:#000000; stroke-linecap:round; stroke-linejoin:round; stroke-width:4; stroke-opacity:1; fill:none\" points=\"199.283,259.683 218.181,259.683 \"/>\n",
       "<path clip-path=\"url(#clip320)\" d=\"M91.5938 1353.4 Q88.4456 1353.4 86.5938 1355.56 Q84.7651 1357.71 84.7651 1361.46 Q84.7651 1365.19 86.5938 1367.36 Q88.4456 1369.52 91.5938 1369.52 Q94.7419 1369.52 96.5706 1367.36 Q98.4224 1365.19 98.4224 1361.46 Q98.4224 1357.71 96.5706 1355.56 Q94.7419 1353.4 91.5938 1353.4 M100.876 1338.75 L100.876 1343.01 Q99.1169 1342.18 97.3113 1341.74 Q95.5289 1341.3 93.7697 1341.3 Q89.1401 1341.3 86.6864 1344.42 Q84.2558 1347.55 83.9086 1353.87 Q85.2743 1351.85 87.3345 1350.79 Q89.3947 1349.7 91.8715 1349.7 Q97.0798 1349.7 100.089 1352.87 Q103.121 1356.02 103.121 1361.46 Q103.121 1366.78 99.9733 1370 Q96.8252 1373.22 91.5938 1373.22 Q85.5984 1373.22 82.4271 1368.64 Q79.2559 1364.03 79.2559 1355.3 Q79.2559 1347.11 83.1447 1342.25 Q87.0336 1337.36 93.5845 1337.36 Q95.3437 1337.36 97.1261 1337.71 Q98.9317 1338.06 100.876 1338.75 Z\" fill=\"#000000\" fill-rule=\"nonzero\" fill-opacity=\"1\" /><path clip-path=\"url(#clip320)\" d=\"M121.177 1341.07 Q117.566 1341.07 115.737 1344.63 Q113.932 1348.17 113.932 1355.3 Q113.932 1362.41 115.737 1365.97 Q117.566 1369.52 121.177 1369.52 Q124.811 1369.52 126.617 1365.97 Q128.445 1362.41 128.445 1355.3 Q128.445 1348.17 126.617 1344.63 Q124.811 1341.07 121.177 1341.07 M121.177 1337.36 Q126.987 1337.36 130.043 1341.97 Q133.121 1346.55 133.121 1355.3 Q133.121 1364.03 130.043 1368.64 Q126.987 1373.22 121.177 1373.22 Q115.367 1373.22 112.288 1368.64 Q109.233 1364.03 109.233 1355.3 Q109.233 1346.55 112.288 1341.97 Q115.367 1337.36 121.177 1337.36 Z\" fill=\"#000000\" fill-rule=\"nonzero\" fill-opacity=\"1\" /><path clip-path=\"url(#clip320)\" d=\"M151.339 1341.07 Q147.728 1341.07 145.899 1344.63 Q144.093 1348.17 144.093 1355.3 Q144.093 1362.41 145.899 1365.97 Q147.728 1369.52 151.339 1369.52 Q154.973 1369.52 156.779 1365.97 Q158.607 1362.41 158.607 1355.3 Q158.607 1348.17 156.779 1344.63 Q154.973 1341.07 151.339 1341.07 M151.339 1337.36 Q157.149 1337.36 160.205 1341.97 Q163.283 1346.55 163.283 1355.3 Q163.283 1364.03 160.205 1368.64 Q157.149 1373.22 151.339 1373.22 Q145.529 1373.22 142.45 1368.64 Q139.394 1364.03 139.394 1355.3 Q139.394 1346.55 142.45 1341.97 Q145.529 1337.36 151.339 1337.36 Z\" fill=\"#000000\" fill-rule=\"nonzero\" fill-opacity=\"1\" /><path clip-path=\"url(#clip320)\" d=\"M81.154 1097.93 L81.154 1093.68 Q82.9133 1094.51 84.7188 1094.95 Q86.5243 1095.39 88.2604 1095.39 Q92.89 1095.39 95.3206 1092.29 Q97.7743 1089.16 98.1215 1082.82 Q96.7789 1084.81 94.7187 1085.87 Q92.6586 1086.94 90.1586 1086.94 Q84.9734 1086.94 81.941 1083.81 Q78.9318 1080.67 78.9318 1075.23 Q78.9318 1069.9 82.0799 1066.68 Q85.2281 1063.47 90.4595 1063.47 Q96.4548 1063.47 99.603 1068.07 Q102.774 1072.66 102.774 1081.41 Q102.774 1089.58 98.8854 1094.46 Q95.0197 1099.32 88.4688 1099.32 Q86.7095 1099.32 84.904 1098.98 Q83.0984 1098.63 81.154 1097.93 M90.4595 1083.28 Q93.6076 1083.28 95.4363 1081.13 Q97.2882 1078.98 97.2882 1075.23 Q97.2882 1071.5 95.4363 1069.35 Q93.6076 1067.17 90.4595 1067.17 Q87.3114 1067.17 85.4595 1069.35 Q83.6308 1071.5 83.6308 1075.23 Q83.6308 1078.98 85.4595 1081.13 Q87.3114 1083.28 90.4595 1083.28 Z\" fill=\"#000000\" fill-rule=\"nonzero\" fill-opacity=\"1\" /><path clip-path=\"url(#clip320)\" d=\"M121.177 1067.17 Q117.566 1067.17 115.737 1070.74 Q113.932 1074.28 113.932 1081.41 Q113.932 1088.51 115.737 1092.08 Q117.566 1095.62 121.177 1095.62 Q124.811 1095.62 126.617 1092.08 Q128.445 1088.51 128.445 1081.41 Q128.445 1074.28 126.617 1070.74 Q124.811 1067.17 121.177 1067.17 M121.177 1063.47 Q126.987 1063.47 130.043 1068.07 Q133.121 1072.66 133.121 1081.41 Q133.121 1090.13 130.043 1094.74 Q126.987 1099.32 121.177 1099.32 Q115.367 1099.32 112.288 1094.74 Q109.233 1090.13 109.233 1081.41 Q109.233 1072.66 112.288 1068.07 Q115.367 1063.47 121.177 1063.47 Z\" fill=\"#000000\" fill-rule=\"nonzero\" fill-opacity=\"1\" /><path clip-path=\"url(#clip320)\" d=\"M151.339 1067.17 Q147.728 1067.17 145.899 1070.74 Q144.093 1074.28 144.093 1081.41 Q144.093 1088.51 145.899 1092.08 Q147.728 1095.62 151.339 1095.62 Q154.973 1095.62 156.779 1092.08 Q158.607 1088.51 158.607 1081.41 Q158.607 1074.28 156.779 1070.74 Q154.973 1067.17 151.339 1067.17 M151.339 1063.47 Q157.149 1063.47 160.205 1068.07 Q163.283 1072.66 163.283 1081.41 Q163.283 1090.13 160.205 1094.74 Q157.149 1099.32 151.339 1099.32 Q145.529 1099.32 142.45 1094.74 Q139.394 1090.13 139.394 1081.41 Q139.394 1072.66 142.45 1068.07 Q145.529 1063.47 151.339 1063.47 Z\" fill=\"#000000\" fill-rule=\"nonzero\" fill-opacity=\"1\" /><path clip-path=\"url(#clip320)\" d=\"M51.6634 820.821 L59.3023 820.821 L59.3023 794.455 L50.9921 796.122 L50.9921 791.863 L59.256 790.196 L63.9319 790.196 L63.9319 820.821 L71.5707 820.821 L71.5707 824.756 L51.6634 824.756 L51.6634 820.821 Z\" fill=\"#000000\" fill-rule=\"nonzero\" fill-opacity=\"1\" /><path clip-path=\"url(#clip320)\" d=\"M85.0429 820.821 L101.362 820.821 L101.362 824.756 L79.4179 824.756 L79.4179 820.821 Q82.0799 818.066 86.6632 813.436 Q91.2697 808.784 92.4502 807.441 Q94.6956 804.918 95.5752 803.182 Q96.478 801.423 96.478 799.733 Q96.478 796.978 94.5336 795.242 Q92.6123 793.506 89.5104 793.506 Q87.3114 793.506 84.8577 794.27 Q82.4271 795.034 79.6494 796.585 L79.6494 791.863 Q82.4734 790.728 84.9271 790.15 Q87.3808 789.571 89.4178 789.571 Q94.7882 789.571 97.9826 792.256 Q101.177 794.941 101.177 799.432 Q101.177 801.562 100.367 803.483 Q99.5798 805.381 97.4734 807.974 Q96.8947 808.645 93.7928 811.862 Q90.691 815.057 85.0429 820.821 Z\" fill=\"#000000\" fill-rule=\"nonzero\" fill-opacity=\"1\" /><path clip-path=\"url(#clip320)\" d=\"M121.177 793.275 Q117.566 793.275 115.737 796.839 Q113.932 800.381 113.932 807.511 Q113.932 814.617 115.737 818.182 Q117.566 821.723 121.177 821.723 Q124.811 821.723 126.617 818.182 Q128.445 814.617 128.445 807.511 Q128.445 800.381 126.617 796.839 Q124.811 793.275 121.177 793.275 M121.177 789.571 Q126.987 789.571 130.043 794.177 Q133.121 798.761 133.121 807.511 Q133.121 816.237 130.043 820.844 Q126.987 825.427 121.177 825.427 Q115.367 825.427 112.288 820.844 Q109.233 816.237 109.233 807.511 Q109.233 798.761 112.288 794.177 Q115.367 789.571 121.177 789.571 Z\" fill=\"#000000\" fill-rule=\"nonzero\" fill-opacity=\"1\" /><path clip-path=\"url(#clip320)\" d=\"M151.339 793.275 Q147.728 793.275 145.899 796.839 Q144.093 800.381 144.093 807.511 Q144.093 814.617 145.899 818.182 Q147.728 821.723 151.339 821.723 Q154.973 821.723 156.779 818.182 Q158.607 814.617 158.607 807.511 Q158.607 800.381 156.779 796.839 Q154.973 793.275 151.339 793.275 M151.339 789.571 Q157.149 789.571 160.205 794.177 Q163.283 798.761 163.283 807.511 Q163.283 816.237 160.205 820.844 Q157.149 825.427 151.339 825.427 Q145.529 825.427 142.45 820.844 Q139.394 816.237 139.394 807.511 Q139.394 798.761 142.45 794.177 Q145.529 789.571 151.339 789.571 Z\" fill=\"#000000\" fill-rule=\"nonzero\" fill-opacity=\"1\" /><path clip-path=\"url(#clip320)\" d=\"M51.6634 546.924 L59.3023 546.924 L59.3023 520.559 L50.9921 522.226 L50.9921 517.966 L59.256 516.3 L63.9319 516.3 L63.9319 546.924 L71.5707 546.924 L71.5707 550.86 L51.6634 550.86 L51.6634 546.924 Z\" fill=\"#000000\" fill-rule=\"nonzero\" fill-opacity=\"1\" /><path clip-path=\"url(#clip320)\" d=\"M81.0614 516.3 L99.4178 516.3 L99.4178 520.235 L85.3438 520.235 L85.3438 528.707 Q86.3623 528.36 87.3808 528.198 Q88.3993 528.013 89.4178 528.013 Q95.2049 528.013 98.5845 531.184 Q101.964 534.355 101.964 539.772 Q101.964 545.35 98.4919 548.452 Q95.0197 551.531 88.7003 551.531 Q86.5243 551.531 84.2558 551.161 Q82.0105 550.79 79.6031 550.049 L79.6031 545.35 Q81.6864 546.485 83.9086 547.04 Q86.1308 547.596 88.6077 547.596 Q92.6123 547.596 94.9502 545.489 Q97.2882 543.383 97.2882 539.772 Q97.2882 536.161 94.9502 534.054 Q92.6123 531.948 88.6077 531.948 Q86.7327 531.948 84.8577 532.364 Q83.0058 532.781 81.0614 533.661 L81.0614 516.3 Z\" fill=\"#000000\" fill-rule=\"nonzero\" fill-opacity=\"1\" /><path clip-path=\"url(#clip320)\" d=\"M121.177 519.378 Q117.566 519.378 115.737 522.943 Q113.932 526.485 113.932 533.614 Q113.932 540.721 115.737 544.286 Q117.566 547.827 121.177 547.827 Q124.811 547.827 126.617 544.286 Q128.445 540.721 128.445 533.614 Q128.445 526.485 126.617 522.943 Q124.811 519.378 121.177 519.378 M121.177 515.675 Q126.987 515.675 130.043 520.281 Q133.121 524.864 133.121 533.614 Q133.121 542.341 130.043 546.948 Q126.987 551.531 121.177 551.531 Q115.367 551.531 112.288 546.948 Q109.233 542.341 109.233 533.614 Q109.233 524.864 112.288 520.281 Q115.367 515.675 121.177 515.675 Z\" fill=\"#000000\" fill-rule=\"nonzero\" fill-opacity=\"1\" /><path clip-path=\"url(#clip320)\" d=\"M151.339 519.378 Q147.728 519.378 145.899 522.943 Q144.093 526.485 144.093 533.614 Q144.093 540.721 145.899 544.286 Q147.728 547.827 151.339 547.827 Q154.973 547.827 156.779 544.286 Q158.607 540.721 158.607 533.614 Q158.607 526.485 156.779 522.943 Q154.973 519.378 151.339 519.378 M151.339 515.675 Q157.149 515.675 160.205 520.281 Q163.283 524.864 163.283 533.614 Q163.283 542.341 160.205 546.948 Q157.149 551.531 151.339 551.531 Q145.529 551.531 142.45 546.948 Q139.394 542.341 139.394 533.614 Q139.394 524.864 142.45 520.281 Q145.529 515.675 151.339 515.675 Z\" fill=\"#000000\" fill-rule=\"nonzero\" fill-opacity=\"1\" /><path clip-path=\"url(#clip320)\" d=\"M51.6634 273.028 L59.3023 273.028 L59.3023 246.663 L50.9921 248.329 L50.9921 244.07 L59.256 242.403 L63.9319 242.403 L63.9319 273.028 L71.5707 273.028 L71.5707 276.963 L51.6634 276.963 L51.6634 273.028 Z\" fill=\"#000000\" fill-rule=\"nonzero\" fill-opacity=\"1\" /><path clip-path=\"url(#clip320)\" d=\"M91.0151 260.551 Q87.6817 260.551 85.7605 262.334 Q83.8623 264.116 83.8623 267.241 Q83.8623 270.366 85.7605 272.149 Q87.6817 273.931 91.0151 273.931 Q94.3484 273.931 96.2697 272.149 Q98.1909 270.343 98.1909 267.241 Q98.1909 264.116 96.2697 262.334 Q94.3715 260.551 91.0151 260.551 M86.3392 258.561 Q83.3299 257.82 81.6401 255.76 Q79.9735 253.7 79.9735 250.737 Q79.9735 246.593 82.9133 244.186 Q85.8762 241.778 91.0151 241.778 Q96.1771 241.778 99.1169 244.186 Q102.057 246.593 102.057 250.737 Q102.057 253.7 100.367 255.76 Q98.7002 257.82 95.7141 258.561 Q99.0937 259.348 100.969 261.639 Q102.867 263.931 102.867 267.241 Q102.867 272.264 99.7882 274.95 Q96.7326 277.635 91.0151 277.635 Q85.2975 277.635 82.2188 274.95 Q79.1633 272.264 79.1633 267.241 Q79.1633 263.931 81.0614 261.639 Q82.9595 259.348 86.3392 258.561 M84.6262 251.177 Q84.6262 253.862 86.2929 255.366 Q87.9827 256.871 91.0151 256.871 Q94.0243 256.871 95.7141 255.366 Q97.4271 253.862 97.4271 251.177 Q97.4271 248.491 95.7141 246.987 Q94.0243 245.482 91.0151 245.482 Q87.9827 245.482 86.2929 246.987 Q84.6262 248.491 84.6262 251.177 Z\" fill=\"#000000\" fill-rule=\"nonzero\" fill-opacity=\"1\" /><path clip-path=\"url(#clip320)\" d=\"M121.177 245.482 Q117.566 245.482 115.737 249.047 Q113.932 252.589 113.932 259.718 Q113.932 266.825 115.737 270.389 Q117.566 273.931 121.177 273.931 Q124.811 273.931 126.617 270.389 Q128.445 266.825 128.445 259.718 Q128.445 252.589 126.617 249.047 Q124.811 245.482 121.177 245.482 M121.177 241.778 Q126.987 241.778 130.043 246.385 Q133.121 250.968 133.121 259.718 Q133.121 268.445 130.043 273.051 Q126.987 277.635 121.177 277.635 Q115.367 277.635 112.288 273.051 Q109.233 268.445 109.233 259.718 Q109.233 250.968 112.288 246.385 Q115.367 241.778 121.177 241.778 Z\" fill=\"#000000\" fill-rule=\"nonzero\" fill-opacity=\"1\" /><path clip-path=\"url(#clip320)\" d=\"M151.339 245.482 Q147.728 245.482 145.899 249.047 Q144.093 252.589 144.093 259.718 Q144.093 266.825 145.899 270.389 Q147.728 273.931 151.339 273.931 Q154.973 273.931 156.779 270.389 Q158.607 266.825 158.607 259.718 Q158.607 252.589 156.779 249.047 Q154.973 245.482 151.339 245.482 M151.339 241.778 Q157.149 241.778 160.205 246.385 Q163.283 250.968 163.283 259.718 Q163.283 268.445 160.205 273.051 Q157.149 277.635 151.339 277.635 Q145.529 277.635 142.45 273.051 Q139.394 268.445 139.394 259.718 Q139.394 250.968 142.45 246.385 Q145.529 241.778 151.339 241.778 Z\" fill=\"#000000\" fill-rule=\"nonzero\" fill-opacity=\"1\" /><polyline clip-path=\"url(#clip322)\" style=\"stroke:#009af9; stroke-linecap:round; stroke-linejoin:round; stroke-width:4; stroke-opacity:1; fill:none\" points=\"260.231,1241.33 280.752,266.296 301.273,1236.48 321.794,117.348 342.314,1278.57 362.835,678.919 383.356,796.743 403.877,180.453 424.398,327.452 444.919,465.816 465.44,236.606 485.961,1089.31 506.482,806.358 527.003,288.95 547.524,324.828 568.045,320.498 588.566,1082.89 609.087,101.743 629.608,166.851 650.129,742.291 670.65,594.386 691.171,211.209 711.692,398.448 732.213,140.701 752.734,486.149 773.255,567.784 793.776,541.246 814.297,697.878 834.818,1000.08 855.339,981.498 875.86,1240.51 896.381,323.004 916.902,796.807 937.423,448.362 957.944,1245.47 978.465,1310.79 998.986,1108.12 1019.51,841.77 1040.03,1401.38 1060.55,137.276 1081.07,1332.32 1101.59,204.095 1122.11,696.065 1142.63,813.412 1163.15,973.175 1183.68,556.017 1204.2,929.761 1224.72,182.021 1245.24,519.737 1265.76,90.998 1286.28,513.744 1306.8,283.218 1327.32,476.017 1347.84,853.019 1368.36,365.352 1388.88,175.936 1409.41,87.9763 1429.93,1139.55 1450.45,852.987 1470.97,1350.58 1491.49,1005.39 1512.01,714.265 1532.53,1277.99 1553.05,743.474 1573.57,992.215 1594.09,790.973 1614.62,1067.67 1635.14,574.67 1655.66,1406.35 1676.18,476.856 1696.7,650.826 1717.22,1099.8 1737.74,413.562 1758.26,140.409 1778.78,339.952 1799.3,545.972 1819.83,921.946 1840.35,334.581 1860.87,460.49 1881.39,433.686 1901.91,981.985 1922.43,739.669 1942.95,452.956 1963.47,1027.11 1983.99,459.873 2004.51,281.808 2025.04,824.374 2045.56,474.33 2066.08,1282.51 2086.6,633.591 2107.12,372.824 2127.64,128.872 2148.16,1445.72 2168.68,158.386 2189.2,1024.95 2209.72,1328.78 2230.25,144.201 2250.77,1409.49 2271.29,429.946 2291.81,1081.9 \"/>\n",
       "<polyline clip-path=\"url(#clip322)\" style=\"stroke:#e26f46; stroke-linecap:round; stroke-linejoin:round; stroke-width:4; stroke-opacity:1; fill:none\" points=\"260.231,1241.33 280.752,266.296 301.273,1236.48 321.794,117.348 342.314,1278.57 362.835,678.919 383.356,796.743 403.877,180.453 424.398,327.452 444.919,465.816 465.44,236.606 485.961,1089.31 506.482,806.358 527.003,288.95 547.524,324.828 568.045,320.498 588.566,1082.89 609.087,101.743 629.608,166.851 650.129,742.291 670.65,594.386 691.171,211.209 711.692,398.448 732.213,140.701 752.734,486.149 773.255,567.784 793.776,541.246 814.297,697.878 834.818,1000.08 855.339,981.498 875.86,1240.51 896.381,323.004 916.902,796.807 937.423,448.362 957.944,1245.47 978.465,1310.79 998.986,1108.12 1019.51,841.77 1040.03,1401.38 1060.55,137.276 1081.07,1332.32 1101.59,204.095 1122.11,696.065 1142.63,813.412 1163.15,973.175 1183.68,556.017 1204.2,929.761 1224.72,182.021 1245.24,519.737 1265.76,90.998 1286.28,513.744 1306.8,283.218 1327.32,476.017 1347.84,853.019 1368.36,365.352 1388.88,175.936 1409.41,87.9763 1429.93,1139.55 1450.45,852.987 1470.97,1350.58 1491.49,1005.39 1512.01,714.265 1532.53,1277.99 1553.05,743.474 1573.57,992.215 1594.09,790.973 1614.62,1067.67 1635.14,574.67 1655.66,1406.35 1676.18,476.856 1696.7,650.826 1717.22,1099.8 1737.74,413.562 1758.26,140.409 1778.78,339.952 1799.3,545.972 1819.83,921.946 1840.35,334.581 1860.87,460.49 1881.39,433.686 1901.91,981.985 1922.43,739.669 1942.95,452.956 1963.47,1027.11 1983.99,459.873 2004.51,281.808 2025.04,824.374 2045.56,474.33 2066.08,1282.51 2086.6,633.591 2107.12,372.824 2127.64,128.872 2148.16,1445.72 2168.68,158.386 2189.2,1024.95 2209.72,1328.78 2230.25,144.201 2250.77,1409.49 2271.29,429.946 2291.81,1081.9 \"/>\n",
       "<path clip-path=\"url(#clip320)\" d=\"M271.066 1438.47 L538.843 1438.47 L538.843 1282.95 L271.066 1282.95  Z\" fill=\"#ffffff\" fill-rule=\"evenodd\" fill-opacity=\"1\"/>\n",
       "<polyline clip-path=\"url(#clip320)\" style=\"stroke:#000000; stroke-linecap:round; stroke-linejoin:round; stroke-width:4; stroke-opacity:1; fill:none\" points=\"271.066,1438.47 538.843,1438.47 538.843,1282.95 271.066,1282.95 271.066,1438.47 \"/>\n",
       "<polyline clip-path=\"url(#clip320)\" style=\"stroke:#009af9; stroke-linecap:round; stroke-linejoin:round; stroke-width:4; stroke-opacity:1; fill:none\" points=\"294.993,1334.79 438.558,1334.79 \"/>\n",
       "<path clip-path=\"url(#clip320)\" d=\"M476.328 1354.48 Q474.522 1359.11 472.809 1360.52 Q471.096 1361.94 468.226 1361.94 L464.823 1361.94 L464.823 1358.37 L467.323 1358.37 Q469.083 1358.37 470.055 1357.54 Q471.027 1356.7 472.208 1353.6 L472.971 1351.66 L462.485 1326.15 L466.999 1326.15 L475.101 1346.43 L483.203 1326.15 L487.717 1326.15 L476.328 1354.48 Z\" fill=\"#000000\" fill-rule=\"nonzero\" fill-opacity=\"1\" /><path clip-path=\"url(#clip320)\" d=\"M495.008 1348.14 L502.647 1348.14 L502.647 1321.77 L494.337 1323.44 L494.337 1319.18 L502.601 1317.51 L507.277 1317.51 L507.277 1348.14 L514.916 1348.14 L514.916 1352.07 L495.008 1352.07 L495.008 1348.14 Z\" fill=\"#000000\" fill-rule=\"nonzero\" fill-opacity=\"1\" /><polyline clip-path=\"url(#clip320)\" style=\"stroke:#e26f46; stroke-linecap:round; stroke-linejoin:round; stroke-width:4; stroke-opacity:1; fill:none\" points=\"294.993,1386.63 438.558,1386.63 \"/>\n",
       "<path clip-path=\"url(#clip320)\" d=\"M476.328 1406.32 Q474.522 1410.95 472.809 1412.36 Q471.096 1413.78 468.226 1413.78 L464.823 1413.78 L464.823 1410.21 L467.323 1410.21 Q469.083 1410.21 470.055 1409.38 Q471.027 1408.54 472.208 1405.44 L472.971 1403.5 L462.485 1377.99 L466.999 1377.99 L475.101 1398.27 L483.203 1377.99 L487.717 1377.99 L476.328 1406.32 Z\" fill=\"#000000\" fill-rule=\"nonzero\" fill-opacity=\"1\" /><path clip-path=\"url(#clip320)\" d=\"M498.226 1399.98 L514.545 1399.98 L514.545 1403.91 L492.601 1403.91 L492.601 1399.98 Q495.263 1397.22 499.846 1392.6 Q504.453 1387.94 505.633 1386.6 Q507.879 1384.08 508.758 1382.34 Q509.661 1380.58 509.661 1378.89 Q509.661 1376.14 507.717 1374.4 Q505.795 1372.66 502.694 1372.66 Q500.494 1372.66 498.041 1373.43 Q495.61 1374.19 492.832 1375.74 L492.832 1371.02 Q495.657 1369.89 498.11 1369.31 Q500.564 1368.73 502.601 1368.73 Q507.971 1368.73 511.166 1371.41 Q514.36 1374.1 514.36 1378.59 Q514.36 1380.72 513.55 1382.64 Q512.763 1384.54 510.656 1387.13 Q510.078 1387.8 506.976 1391.02 Q503.874 1394.22 498.226 1399.98 Z\" fill=\"#000000\" fill-rule=\"nonzero\" fill-opacity=\"1\" /></svg>\n"
      ]
     },
     "execution_count": 30,
     "metadata": {},
     "output_type": "execute_result"
    }
   ],
   "source": [
    "# Exercise 5\n",
    "\n",
    "x = range(0, 100, length=100)\n",
    "\n",
    "plot(x, [wage, WageHat])"
   ]
  },
  {
   "cell_type": "code",
   "execution_count": 31,
   "metadata": {},
   "outputs": [
    {
     "data": {
      "text/plain": [
       "100-element Vector{Float64}:\n",
       " 1.5010046503235177\n",
       " 3.587253960649406\n",
       " 1.5153774566240783\n",
       " 3.8087562592381876\n",
       " 1.3553413875762153\n",
       " 2.8953852949777414\n",
       " 2.6731607555057404\n",
       " 3.719530445719498\n",
       " 3.495496586972661\n",
       " 3.2834373479792425\n",
       " 3.6430100234863327\n",
       " 1.9821842375521783\n",
       " 2.6542265586883045\n",
       " ⋮\n",
       " 1.342170753993161\n",
       " 2.9816003559882196\n",
       " 3.4334821944105367\n",
       " 3.7852832151924813\n",
       " 0.09628155718595975\n",
       " 3.7508610109064184\n",
       " 2.1421256447062333\n",
       " 1.1397364431636634\n",
       " 3.7856018017922786\n",
       " 0.6359259029516744\n",
       " 3.342670621074452\n",
       " 2.004422413667742"
      ]
     },
     "execution_count": 31,
     "metadata": {},
     "output_type": "execute_result"
    }
   ],
   "source": [
    "# Exercise 6\n",
    "\n",
    "sqrtEduc = educ .^ (1/2)"
   ]
  },
  {
   "cell_type": "code",
   "execution_count": 32,
   "metadata": {},
   "outputs": [
    {
     "data": {
      "text/plain": [
       "100×3 Matrix{Float64}:\n",
       " 1.0   2.25301     1.501\n",
       " 1.0  12.8684      3.58725\n",
       " 1.0   2.29637     1.51538\n",
       " 1.0  14.5066      3.80876\n",
       " 1.0   1.83695     1.35534\n",
       " 1.0   8.38326     2.89539\n",
       " 1.0   7.14579     2.67316\n",
       " 1.0  13.8349      3.71953\n",
       " 1.0  12.2185      3.4955\n",
       " 1.0  10.781       3.28344\n",
       " 1.0  13.2715      3.64301\n",
       " 1.0   3.92905     1.98218\n",
       " 1.0   7.04492     2.65423\n",
       " ⋮                 \n",
       " 1.0   1.80142     1.34217\n",
       " 1.0   8.88994     2.9816\n",
       " 1.0  11.7888      3.43348\n",
       " 1.0  14.3284      3.78528\n",
       " 1.0   0.00927014  0.0962816\n",
       " 1.0  14.069       3.75086\n",
       " 1.0   4.5887      2.14213\n",
       " 1.0   1.299       1.13974\n",
       " 1.0  14.3308      3.7856\n",
       " 1.0   0.404402    0.635926\n",
       " 1.0  11.1734      3.34267\n",
       " 1.0   4.01771     2.00442"
      ]
     },
     "execution_count": 32,
     "metadata": {},
     "output_type": "execute_result"
    }
   ],
   "source": [
    "# Exercise 6\n",
    "\n",
    "X = [i educ sqrtEduc]"
   ]
  },
  {
   "cell_type": "code",
   "execution_count": 33,
   "metadata": {},
   "outputs": [
    {
     "data": {
      "text/plain": [
       "3-element Vector{Float64}:\n",
       " 502.0895494269207\n",
       " 100.7824274209488\n",
       "  -2.892746285768226"
      ]
     },
     "execution_count": 33,
     "metadata": {},
     "output_type": "execute_result"
    }
   ],
   "source": [
    "# Exercise 6\n",
    "\n",
    "coeffi = inv(X'X)X'wage"
   ]
  },
  {
   "cell_type": "code",
   "execution_count": 34,
   "metadata": {},
   "outputs": [
    {
     "data": {
      "text/plain": [
       "100-element Vector{Float64}:\n",
       " -0.011748670637302894\n",
       "  4.136496138167104\n",
       "  0.9698453155280049\n",
       "  2.81664295406199\n",
       "  0.7106151697319092\n",
       "  2.210317067294227\n",
       " -2.77069528958873\n",
       "  1.135626518040226\n",
       "  2.3854442084270886\n",
       " -4.900779316444641\n",
       " -3.810637409369974\n",
       " -1.0313467162070538\n",
       " -3.1909363172708254\n",
       "  ⋮\n",
       " -0.07045881207852744\n",
       "  1.0421779406117366\n",
       " -4.184943869546942\n",
       "  8.09071884637774\n",
       " -1.812845432239726\n",
       "  1.8088420073120233\n",
       "  3.4483105962822265\n",
       " -0.6920034006024025\n",
       " -8.941661266668234\n",
       " -0.3941845376572246\n",
       " -4.996589702599067\n",
       " -1.779996413368167"
      ]
     },
     "execution_count": 34,
     "metadata": {},
     "output_type": "execute_result"
    }
   ],
   "source": [
    "# Exercise 7\n",
    "\n",
    "e = wage .- (X*coeffi)"
   ]
  },
  {
   "cell_type": "code",
   "execution_count": 35,
   "metadata": {},
   "outputs": [
    {
     "data": {
      "text/plain": [
       "1.8813771112396095e7"
      ]
     },
     "execution_count": 35,
     "metadata": {},
     "output_type": "execute_result"
    }
   ],
   "source": [
    "# Exercise 7\n",
    "\n",
    "SSR = e'e\n",
    "\n",
    "mean = inv(i'i)i'wage\n",
    "\n",
    "TSS = (wage .- mean)'*(wage .- mean)"
   ]
  },
  {
   "cell_type": "code",
   "execution_count": 36,
   "metadata": {},
   "outputs": [
    {
     "data": {
      "text/plain": [
       "0.99991189291653"
      ]
     },
     "execution_count": 36,
     "metadata": {},
     "output_type": "execute_result"
    }
   ],
   "source": [
    "# Exercise 7\n",
    "\n",
    "RSquared = 1 - (SSR/TSS)"
   ]
  },
  {
   "cell_type": "code",
   "execution_count": 37,
   "metadata": {},
   "outputs": [
    {
     "data": {
      "text/plain": [
       "0.9998237858330601"
      ]
     },
     "execution_count": 37,
     "metadata": {},
     "output_type": "execute_result"
    }
   ],
   "source": [
    "# Exercise 7\n",
    "\n",
    "adj = 1 - (SSR/(5 - 3))/(TSS/(5 - 1))"
   ]
  },
  {
   "cell_type": "code",
   "execution_count": 38,
   "metadata": {},
   "outputs": [
    {
     "data": {
      "text/plain": [
       "8.4229787985777"
      ]
     },
     "execution_count": 38,
     "metadata": {},
     "output_type": "execute_result"
    }
   ],
   "source": [
    "# Exercise 8\n",
    "\n",
    "educBeta = inv(i'i)i'educ"
   ]
  },
  {
   "cell_type": "code",
   "execution_count": 39,
   "metadata": {},
   "outputs": [
    {
     "data": {
      "text/plain": [
       "100-element Vector{Float64}:\n",
       " -6.1699638382848745\n",
       "  4.445412179617149\n",
       " -6.126609962533241\n",
       "  6.08364544370837\n",
       " -6.58602852170068\n",
       " -0.039722792204356594\n",
       " -1.2771903738016785\n",
       "  5.411927938056586\n",
       "  3.7955175909598218\n",
       "  2.3579820195272596\n",
       "  4.848543232644191\n",
       " -4.49392444697739\n",
       " -1.378060173731341\n",
       "  ⋮\n",
       " -6.62155646570313\n",
       "  0.4669618842513774\n",
       "  3.3658211807564946\n",
       "  5.90539022064023\n",
       " -8.413708660323547\n",
       "  5.64597952456022\n",
       " -3.8342765208696044\n",
       " -7.123979638702342\n",
       "  5.907802203155244\n",
       " -8.018577044532798\n",
       "  2.7504680824165604\n",
       " -4.405269586164083"
      ]
     },
     "execution_count": 39,
     "metadata": {},
     "output_type": "execute_result"
    }
   ],
   "source": [
    "# Exercise 8\n",
    "\n",
    "resEduc = educ .- (i*educBeta)"
   ]
  },
  {
   "cell_type": "code",
   "execution_count": 40,
   "metadata": {},
   "outputs": [
    {
     "data": {
      "text/plain": [
       "2.7618778232037346"
      ]
     },
     "execution_count": 40,
     "metadata": {},
     "output_type": "execute_result"
    }
   ],
   "source": [
    "# Exercise 8\n",
    "\n",
    "sqrteducBeta = inv(i'i)i'sqrtEduc"
   ]
  },
  {
   "cell_type": "code",
   "execution_count": 41,
   "metadata": {},
   "outputs": [
    {
     "data": {
      "text/plain": [
       "100-element Vector{Float64}:\n",
       " -1.260873172880217\n",
       "  0.8253761374456712\n",
       " -1.2465003665796563\n",
       "  1.046878436034453\n",
       " -1.4065364356275194\n",
       "  0.1335074717740068\n",
       " -0.08871706769799426\n",
       "  0.9576526225157633\n",
       "  0.7336187637689262\n",
       "  0.5215595247755078\n",
       "  0.8811322002825981\n",
       " -0.7796935856515563\n",
       " -0.10765126451543017\n",
       "  ⋮\n",
       " -1.4197070692105735\n",
       "  0.21972253278448495\n",
       "  0.671604371206802\n",
       "  1.0234053919887467\n",
       " -2.6655962660177748\n",
       "  0.9889831877026838\n",
       " -0.6197521784975013\n",
       " -1.6221413800400712\n",
       "  1.023723978588544\n",
       " -2.12595192025206\n",
       "  0.5807927978707172\n",
       " -0.7574554095359924"
      ]
     },
     "execution_count": 41,
     "metadata": {},
     "output_type": "execute_result"
    }
   ],
   "source": [
    "# Exercise 8\n",
    "\n",
    "resSqrtEduc = sqrtEduc .- (i * sqrteducBeta)"
   ]
  },
  {
   "cell_type": "code",
   "execution_count": 42,
   "metadata": {},
   "outputs": [
    {
     "data": {
      "text/plain": [
       "1342.988387047936"
      ]
     },
     "execution_count": 42,
     "metadata": {},
     "output_type": "execute_result"
    }
   ],
   "source": [
    "# Exercise 8\n",
    "\n",
    "wageBeta = inv(i'i)i'wage"
   ]
  },
  {
   "cell_type": "code",
   "execution_count": 43,
   "metadata": {},
   "outputs": [
    {
     "data": {
      "text/plain": [
       "100-element Vector{Float64}:\n",
       " -618.1882952047731\n",
       "  449.76832273069067\n",
       " -612.8789692642939\n",
       "  612.9128446319114\n",
       " -658.9765732608922\n",
       "   -2.1792455980810246\n",
       " -131.23240547190903\n",
       "  543.7926150758087\n",
       "  382.7847473902216\n",
       "  231.23363304837653\n",
       "  482.28842713230165\n",
       " -451.6845054049884\n",
       " -141.76377796245038\n",
       "    ⋮\n",
       " -663.3001403791665\n",
       "   47.46812860792784\n",
       "  333.08790394163657\n",
       "  600.2898280039362\n",
       " -842.0559341344112\n",
       "  567.9634862185655\n",
       " -381.1865987676472\n",
       " -713.9715208343222\n",
       "  583.499611753447\n",
       " -802.3760040265249\n",
       "  270.52217397835693\n",
       " -443.5626324280785"
      ]
     },
     "execution_count": 43,
     "metadata": {},
     "output_type": "execute_result"
    }
   ],
   "source": [
    "# Exercise 8\n",
    "\n",
    "resWage = wage .- (i * wageBeta)"
   ]
  },
  {
   "cell_type": "code",
   "execution_count": 44,
   "metadata": {},
   "outputs": [
    {
     "data": {
      "text/plain": [
       "2-element Vector{Float64}:\n",
       " 100.78242742094335\n",
       "  -2.892746285746398"
      ]
     },
     "execution_count": 44,
     "metadata": {},
     "output_type": "execute_result"
    }
   ],
   "source": [
    "# Exercise 8\n",
    "\n",
    "X = [resEduc resSqrtEduc]\n",
    "\n",
    "betaFV = inv(X'X)X'resWage"
   ]
  },
  {
   "cell_type": "markdown",
   "metadata": {},
   "source": [
    "The estimated coefficients are the same."
   ]
  },
  {
   "cell_type": "markdown",
   "metadata": {},
   "source": [
    "### Team 2 presents (Team 3 lead/back up/feedback)"
   ]
  },
  {
   "cell_type": "markdown",
   "metadata": {},
   "source": [
    "##### Exercise 1\n",
    "\n",
    "For the plot of Exercise 2.4, there is no linear relationship between the two variable but you could estimate one by dividing the data in 2 at x=0.\n",
    "\n",
    "For Exercise 2.5, the first and the third plot could support a linear regression model."
   ]
  },
  {
   "cell_type": "code",
   "execution_count": 45,
   "metadata": {},
   "outputs": [
    {
     "data": {
      "text/plain": [
       "100-element Vector{Float64}:\n",
       "   8.175445910861239\n",
       "  -2.9581128306120608\n",
       "  -0.18687796930374947\n",
       "  -0.22272781256641597\n",
       "  -7.001249600849262\n",
       "   5.755651809674872\n",
       "  -5.191624169830073\n",
       "  -0.5186942192960127\n",
       "  -2.3510423615196285\n",
       "   1.865589488988895\n",
       "   2.600477794094799\n",
       "  -1.0971155219508846\n",
       "   3.109216648687173\n",
       "   ⋮\n",
       "  -0.5118790316345965\n",
       "  23.978489764782235\n",
       "  35.069740223649546\n",
       "  -5.92171903648519\n",
       " -19.397135029346515\n",
       "  -0.5980383027063292\n",
       " -11.545007943669965\n",
       "  -8.461566563842675\n",
       " -56.68577747458675\n",
       "  -2.687128197518885\n",
       " -60.900988681354626\n",
       "   0.534452289382411"
      ]
     },
     "execution_count": 45,
     "metadata": {},
     "output_type": "execute_result"
    }
   ],
   "source": [
    "# Exercise 2\n",
    "\n",
    "Random.seed!(666)\n",
    "\n",
    "educ = rand(Uniform(0, 15), 100)\n",
    "\n",
    "eps1 = rand(Normal(0, 4), 50)\n",
    "eps2 = rand(Normal(0, 25), 50)\n",
    "\n",
    "beta = [500; 100]\n",
    "\n",
    "eps = vcat(eps1, eps2)\n",
    "\n"
   ]
  },
  {
   "cell_type": "code",
   "execution_count": 46,
   "metadata": {},
   "outputs": [
    {
     "data": {
      "text/plain": [
       "100-element Vector{Float64}:\n",
       "  733.4769419401438\n",
       " 1783.880984988873\n",
       "  729.4500056351422\n",
       " 1950.4396964160405\n",
       "  676.6937780868527\n",
       " 1344.0812524470093\n",
       " 1209.3872183077722\n",
       " 1882.9719794441326\n",
       " 1719.4985965922326\n",
       " 1579.961671299485\n",
       " 1829.752680916284\n",
       "  891.8083196380802\n",
       " 1207.601079133323\n",
       "    ⋮\n",
       "  679.6303542558223\n",
       " 1412.97255804769\n",
       " 1713.949738157069\n",
       " 1926.9151828853078\n",
       "  481.52987879606883\n",
       " 1906.2977940110857\n",
       "  947.3252198271397\n",
       "  621.4383494236932\n",
       " 1876.3923226987076\n",
       "  537.7530472069714\n",
       " 1556.4436994180714\n",
       "  902.3053735307442"
      ]
     },
     "execution_count": 46,
     "metadata": {},
     "output_type": "execute_result"
    }
   ],
   "source": [
    "# Exercise 2\n",
    "\n",
    "X = [i educ]\n",
    "\n",
    "wage = X*beta .+ eps"
   ]
  },
  {
   "cell_type": "code",
   "execution_count": 47,
   "metadata": {},
   "outputs": [
    {
     "data": {
      "image/png": "[encoded data removed]",
      "image/svg+xml": [
       "<?xml version=\"1.0\" encoding=\"utf-8\"?>\n",
       "<svg xmlns=\"http://www.w3.org/2000/svg\" xmlns:xlink=\"http://www.w3.org/1999/xlink\" width=\"600\" height=\"400\" viewBox=\"0 0 2400 1600\">\n",
       "<defs>\n",
       "  <clipPath id=\"clip360\">\n",
       "    <rect x=\"0\" y=\"0\" width=\"2400\" height=\"1600\"/>\n",
       "  </clipPath>\n",
       "</defs>\n",
       "<path clip-path=\"url(#clip360)\" d=\"M0 1600 L2400 1600 L2400 0 L0 0  Z\" fill=\"#ffffff\" fill-rule=\"evenodd\" fill-opacity=\"1\"/>\n",
       "<defs>\n",
       "  <clipPath id=\"clip361\">\n",
       "    <rect x=\"480\" y=\"0\" width=\"1681\" height=\"1600\"/>\n",
       "  </clipPath>\n",
       "</defs>\n",
       "<path clip-path=\"url(#clip360)\" d=\"M178.867 1486.45 L2352.76 1486.45 L2352.76 47.2441 L178.867 47.2441  Z\" fill=\"#ffffff\" fill-rule=\"evenodd\" fill-opacity=\"1\"/>\n",
       "<defs>\n",
       "  <clipPath id=\"clip362\">\n",
       "    <rect x=\"178\" y=\"47\" width=\"2175\" height=\"1440\"/>\n",
       "  </clipPath>\n",
       "</defs>\n",
       "<polyline clip-path=\"url(#clip362)\" style=\"stroke:#000000; stroke-linecap:round; stroke-linejoin:round; stroke-width:2; stroke-opacity:0.1; fill:none\" points=\"219.676,1486.45 219.676,47.2441 \"/>\n",
       "<polyline clip-path=\"url(#clip362)\" style=\"stroke:#000000; stroke-linecap:round; stroke-linejoin:round; stroke-width:2; stroke-opacity:0.1; fill:none\" points=\"737.565,1486.45 737.565,47.2441 \"/>\n",
       "<polyline clip-path=\"url(#clip362)\" style=\"stroke:#000000; stroke-linecap:round; stroke-linejoin:round; stroke-width:2; stroke-opacity:0.1; fill:none\" points=\"1255.45,1486.45 1255.45,47.2441 \"/>\n",
       "<polyline clip-path=\"url(#clip362)\" style=\"stroke:#000000; stroke-linecap:round; stroke-linejoin:round; stroke-width:2; stroke-opacity:0.1; fill:none\" points=\"1773.34,1486.45 1773.34,47.2441 \"/>\n",
       "<polyline clip-path=\"url(#clip362)\" style=\"stroke:#000000; stroke-linecap:round; stroke-linejoin:round; stroke-width:2; stroke-opacity:0.1; fill:none\" points=\"2291.23,1486.45 2291.23,47.2441 \"/>\n",
       "<polyline clip-path=\"url(#clip360)\" style=\"stroke:#000000; stroke-linecap:round; stroke-linejoin:round; stroke-width:4; stroke-opacity:1; fill:none\" points=\"178.867,1486.45 2352.76,1486.45 \"/>\n",
       "<polyline clip-path=\"url(#clip360)\" style=\"stroke:#000000; stroke-linecap:round; stroke-linejoin:round; stroke-width:4; stroke-opacity:1; fill:none\" points=\"219.676,1486.45 219.676,1467.55 \"/>\n",
       "<polyline clip-path=\"url(#clip360)\" style=\"stroke:#000000; stroke-linecap:round; stroke-linejoin:round; stroke-width:4; stroke-opacity:1; fill:none\" points=\"737.565,1486.45 737.565,1467.55 \"/>\n",
       "<polyline clip-path=\"url(#clip360)\" style=\"stroke:#000000; stroke-linecap:round; stroke-linejoin:round; stroke-width:4; stroke-opacity:1; fill:none\" points=\"1255.45,1486.45 1255.45,1467.55 \"/>\n",
       "<polyline clip-path=\"url(#clip360)\" style=\"stroke:#000000; stroke-linecap:round; stroke-linejoin:round; stroke-width:4; stroke-opacity:1; fill:none\" points=\"1773.34,1486.45 1773.34,1467.55 \"/>\n",
       "<polyline clip-path=\"url(#clip360)\" style=\"stroke:#000000; stroke-linecap:round; stroke-linejoin:round; stroke-width:4; stroke-opacity:1; fill:none\" points=\"2291.23,1486.45 2291.23,1467.55 \"/>\n",
       "<path clip-path=\"url(#clip360)\" d=\"M219.676 1517.37 Q216.065 1517.37 214.236 1520.93 Q212.431 1524.47 212.431 1531.6 Q212.431 1538.71 214.236 1542.27 Q216.065 1545.82 219.676 1545.82 Q223.31 1545.82 225.116 1542.27 Q226.945 1538.71 226.945 1531.6 Q226.945 1524.47 225.116 1520.93 Q223.31 1517.37 219.676 1517.37 M219.676 1513.66 Q225.486 1513.66 228.542 1518.27 Q231.621 1522.85 231.621 1531.6 Q231.621 1540.33 228.542 1544.94 Q225.486 1549.52 219.676 1549.52 Q213.866 1549.52 210.787 1544.94 Q207.732 1540.33 207.732 1531.6 Q207.732 1522.85 210.787 1518.27 Q213.866 1513.66 219.676 1513.66 Z\" fill=\"#000000\" fill-rule=\"nonzero\" fill-opacity=\"1\" /><path clip-path=\"url(#clip360)\" d=\"M716.836 1544.91 L733.155 1544.91 L733.155 1548.85 L711.211 1548.85 L711.211 1544.91 Q713.873 1542.16 718.456 1537.53 Q723.063 1532.88 724.243 1531.53 Q726.489 1529.01 727.368 1527.27 Q728.271 1525.51 728.271 1523.82 Q728.271 1521.07 726.327 1519.33 Q724.405 1517.6 721.303 1517.6 Q719.104 1517.6 716.651 1518.36 Q714.22 1519.13 711.442 1520.68 L711.442 1515.95 Q714.266 1514.82 716.72 1514.24 Q719.174 1513.66 721.211 1513.66 Q726.581 1513.66 729.776 1516.35 Q732.97 1519.03 732.97 1523.52 Q732.97 1525.65 732.16 1527.57 Q731.373 1529.47 729.266 1532.07 Q728.688 1532.74 725.586 1535.95 Q722.484 1539.15 716.836 1544.91 Z\" fill=\"#000000\" fill-rule=\"nonzero\" fill-opacity=\"1\" /><path clip-path=\"url(#clip360)\" d=\"M743.016 1514.29 L761.373 1514.29 L761.373 1518.22 L747.299 1518.22 L747.299 1526.7 Q748.317 1526.35 749.336 1526.19 Q750.354 1526 751.373 1526 Q757.16 1526 760.539 1529.17 Q763.919 1532.34 763.919 1537.76 Q763.919 1543.34 760.447 1546.44 Q756.974 1549.52 750.655 1549.52 Q748.479 1549.52 746.211 1549.15 Q743.965 1548.78 741.558 1548.04 L741.558 1543.34 Q743.641 1544.47 745.863 1545.03 Q748.086 1545.58 750.562 1545.58 Q754.567 1545.58 756.905 1543.48 Q759.243 1541.37 759.243 1537.76 Q759.243 1534.15 756.905 1532.04 Q754.567 1529.94 750.562 1529.94 Q748.688 1529.94 746.813 1530.35 Q744.961 1530.77 743.016 1531.65 L743.016 1514.29 Z\" fill=\"#000000\" fill-rule=\"nonzero\" fill-opacity=\"1\" /><path clip-path=\"url(#clip360)\" d=\"M1230.15 1514.29 L1248.51 1514.29 L1248.51 1518.22 L1234.44 1518.22 L1234.44 1526.7 Q1235.45 1526.35 1236.47 1526.19 Q1237.49 1526 1238.51 1526 Q1244.3 1526 1247.68 1529.17 Q1251.06 1532.34 1251.06 1537.76 Q1251.06 1543.34 1247.58 1546.44 Q1244.11 1549.52 1237.79 1549.52 Q1235.62 1549.52 1233.35 1549.15 Q1231.1 1548.78 1228.69 1548.04 L1228.69 1543.34 Q1230.78 1544.47 1233 1545.03 Q1235.22 1545.58 1237.7 1545.58 Q1241.7 1545.58 1244.04 1543.48 Q1246.38 1541.37 1246.38 1537.76 Q1246.38 1534.15 1244.04 1532.04 Q1241.7 1529.94 1237.7 1529.94 Q1235.82 1529.94 1233.95 1530.35 Q1232.1 1530.77 1230.15 1531.65 L1230.15 1514.29 Z\" fill=\"#000000\" fill-rule=\"nonzero\" fill-opacity=\"1\" /><path clip-path=\"url(#clip360)\" d=\"M1270.27 1517.37 Q1266.66 1517.37 1264.83 1520.93 Q1263.02 1524.47 1263.02 1531.6 Q1263.02 1538.71 1264.83 1542.27 Q1266.66 1545.82 1270.27 1545.82 Q1273.9 1545.82 1275.71 1542.27 Q1277.54 1538.71 1277.54 1531.6 Q1277.54 1524.47 1275.71 1520.93 Q1273.9 1517.37 1270.27 1517.37 M1270.27 1513.66 Q1276.08 1513.66 1279.13 1518.27 Q1282.21 1522.85 1282.21 1531.6 Q1282.21 1540.33 1279.13 1544.94 Q1276.08 1549.52 1270.27 1549.52 Q1264.46 1549.52 1261.38 1544.94 Q1258.32 1540.33 1258.32 1531.6 Q1258.32 1522.85 1261.38 1518.27 Q1264.46 1513.66 1270.27 1513.66 Z\" fill=\"#000000\" fill-rule=\"nonzero\" fill-opacity=\"1\" /><path clip-path=\"url(#clip360)\" d=\"M1747.2 1514.29 L1769.42 1514.29 L1769.42 1516.28 L1756.87 1548.85 L1751.99 1548.85 L1763.79 1518.22 L1747.2 1518.22 L1747.2 1514.29 Z\" fill=\"#000000\" fill-rule=\"nonzero\" fill-opacity=\"1\" /><path clip-path=\"url(#clip360)\" d=\"M1778.59 1514.29 L1796.94 1514.29 L1796.94 1518.22 L1782.87 1518.22 L1782.87 1526.7 Q1783.89 1526.35 1784.9 1526.19 Q1785.92 1526 1786.94 1526 Q1792.73 1526 1796.11 1529.17 Q1799.49 1532.34 1799.49 1537.76 Q1799.49 1543.34 1796.02 1546.44 Q1792.54 1549.52 1786.22 1549.52 Q1784.05 1549.52 1781.78 1549.15 Q1779.53 1548.78 1777.13 1548.04 L1777.13 1543.34 Q1779.21 1544.47 1781.43 1545.03 Q1783.65 1545.58 1786.13 1545.58 Q1790.14 1545.58 1792.47 1543.48 Q1794.81 1541.37 1794.81 1537.76 Q1794.81 1534.15 1792.47 1532.04 Q1790.14 1529.94 1786.13 1529.94 Q1784.26 1529.94 1782.38 1530.35 Q1780.53 1530.77 1778.59 1531.65 L1778.59 1514.29 Z\" fill=\"#000000\" fill-rule=\"nonzero\" fill-opacity=\"1\" /><path clip-path=\"url(#clip360)\" d=\"M2250.84 1544.91 L2258.48 1544.91 L2258.48 1518.55 L2250.17 1520.21 L2250.17 1515.95 L2258.43 1514.29 L2263.11 1514.29 L2263.11 1544.91 L2270.74 1544.91 L2270.74 1548.85 L2250.84 1548.85 L2250.84 1544.91 Z\" fill=\"#000000\" fill-rule=\"nonzero\" fill-opacity=\"1\" /><path clip-path=\"url(#clip360)\" d=\"M2290.19 1517.37 Q2286.58 1517.37 2284.75 1520.93 Q2282.94 1524.47 2282.94 1531.6 Q2282.94 1538.71 2284.75 1542.27 Q2286.58 1545.82 2290.19 1545.82 Q2293.82 1545.82 2295.63 1542.27 Q2297.46 1538.71 2297.46 1531.6 Q2297.46 1524.47 2295.63 1520.93 Q2293.82 1517.37 2290.19 1517.37 M2290.19 1513.66 Q2296 1513.66 2299.05 1518.27 Q2302.13 1522.85 2302.13 1531.6 Q2302.13 1540.33 2299.05 1544.94 Q2296 1549.52 2290.19 1549.52 Q2284.38 1549.52 2281.3 1544.94 Q2278.24 1540.33 2278.24 1531.6 Q2278.24 1522.85 2281.3 1518.27 Q2284.38 1513.66 2290.19 1513.66 Z\" fill=\"#000000\" fill-rule=\"nonzero\" fill-opacity=\"1\" /><path clip-path=\"url(#clip360)\" d=\"M2320.35 1517.37 Q2316.74 1517.37 2314.91 1520.93 Q2313.11 1524.47 2313.11 1531.6 Q2313.11 1538.71 2314.91 1542.27 Q2316.74 1545.82 2320.35 1545.82 Q2323.99 1545.82 2325.79 1542.27 Q2327.62 1538.71 2327.62 1531.6 Q2327.62 1524.47 2325.79 1520.93 Q2323.99 1517.37 2320.35 1517.37 M2320.35 1513.66 Q2326.16 1513.66 2329.22 1518.27 Q2332.3 1522.85 2332.3 1531.6 Q2332.3 1540.33 2329.22 1544.94 Q2326.16 1549.52 2320.35 1549.52 Q2314.54 1549.52 2311.46 1544.94 Q2308.41 1540.33 2308.41 1531.6 Q2308.41 1522.85 2311.46 1518.27 Q2314.54 1513.66 2320.35 1513.66 Z\" fill=\"#000000\" fill-rule=\"nonzero\" fill-opacity=\"1\" /><polyline clip-path=\"url(#clip362)\" style=\"stroke:#000000; stroke-linecap:round; stroke-linejoin:round; stroke-width:2; stroke-opacity:0.1; fill:none\" points=\"178.867,1321.33 2352.76,1321.33 \"/>\n",
       "<polyline clip-path=\"url(#clip362)\" style=\"stroke:#000000; stroke-linecap:round; stroke-linejoin:round; stroke-width:2; stroke-opacity:0.1; fill:none\" points=\"178.867,1036.08 2352.76,1036.08 \"/>\n",
       "<polyline clip-path=\"url(#clip362)\" style=\"stroke:#000000; stroke-linecap:round; stroke-linejoin:round; stroke-width:2; stroke-opacity:0.1; fill:none\" points=\"178.867,750.82 2352.76,750.82 \"/>\n",
       "<polyline clip-path=\"url(#clip362)\" style=\"stroke:#000000; stroke-linecap:round; stroke-linejoin:round; stroke-width:2; stroke-opacity:0.1; fill:none\" points=\"178.867,465.564 2352.76,465.564 \"/>\n",
       "<polyline clip-path=\"url(#clip362)\" style=\"stroke:#000000; stroke-linecap:round; stroke-linejoin:round; stroke-width:2; stroke-opacity:0.1; fill:none\" points=\"178.867,180.307 2352.76,180.307 \"/>\n",
       "<polyline clip-path=\"url(#clip360)\" style=\"stroke:#000000; stroke-linecap:round; stroke-linejoin:round; stroke-width:4; stroke-opacity:1; fill:none\" points=\"178.867,1486.45 178.867,47.2441 \"/>\n",
       "<polyline clip-path=\"url(#clip360)\" style=\"stroke:#000000; stroke-linecap:round; stroke-linejoin:round; stroke-width:4; stroke-opacity:1; fill:none\" points=\"178.867,1321.33 197.764,1321.33 \"/>\n",
       "<polyline clip-path=\"url(#clip360)\" style=\"stroke:#000000; stroke-linecap:round; stroke-linejoin:round; stroke-width:4; stroke-opacity:1; fill:none\" points=\"178.867,1036.08 197.764,1036.08 \"/>\n",
       "<polyline clip-path=\"url(#clip360)\" style=\"stroke:#000000; stroke-linecap:round; stroke-linejoin:round; stroke-width:4; stroke-opacity:1; fill:none\" points=\"178.867,750.82 197.764,750.82 \"/>\n",
       "<polyline clip-path=\"url(#clip360)\" style=\"stroke:#000000; stroke-linecap:round; stroke-linejoin:round; stroke-width:4; stroke-opacity:1; fill:none\" points=\"178.867,465.564 197.764,465.564 \"/>\n",
       "<polyline clip-path=\"url(#clip360)\" style=\"stroke:#000000; stroke-linecap:round; stroke-linejoin:round; stroke-width:4; stroke-opacity:1; fill:none\" points=\"178.867,180.307 197.764,180.307 \"/>\n",
       "<path clip-path=\"url(#clip360)\" d=\"M50.9921 1321.78 L80.6679 1321.78 L80.6679 1325.72 L50.9921 1325.72 L50.9921 1321.78 Z\" fill=\"#000000\" fill-rule=\"nonzero\" fill-opacity=\"1\" /><path clip-path=\"url(#clip360)\" d=\"M90.8067 1304.05 L109.163 1304.05 L109.163 1307.99 L95.0891 1307.99 L95.0891 1316.46 Q96.1076 1316.11 97.1261 1315.95 Q98.1447 1315.77 99.1632 1315.77 Q104.95 1315.77 108.33 1318.94 Q111.709 1322.11 111.709 1327.52 Q111.709 1333.1 108.237 1336.21 Q104.765 1339.28 98.4456 1339.28 Q96.2697 1339.28 94.0012 1338.91 Q91.7558 1338.54 89.3484 1337.8 L89.3484 1333.1 Q91.4317 1334.24 93.6539 1334.79 Q95.8761 1335.35 98.353 1335.35 Q102.358 1335.35 104.696 1333.24 Q107.033 1331.14 107.033 1327.52 Q107.033 1323.91 104.696 1321.81 Q102.358 1319.7 98.353 1319.7 Q96.478 1319.7 94.603 1320.12 Q92.7512 1320.53 90.8067 1321.41 L90.8067 1304.05 Z\" fill=\"#000000\" fill-rule=\"nonzero\" fill-opacity=\"1\" /><path clip-path=\"url(#clip360)\" d=\"M130.922 1307.13 Q127.311 1307.13 125.482 1310.7 Q123.677 1314.24 123.677 1321.37 Q123.677 1328.47 125.482 1332.04 Q127.311 1335.58 130.922 1335.58 Q134.556 1335.58 136.362 1332.04 Q138.191 1328.47 138.191 1321.37 Q138.191 1314.24 136.362 1310.7 Q134.556 1307.13 130.922 1307.13 M130.922 1303.43 Q136.732 1303.43 139.788 1308.03 Q142.867 1312.62 142.867 1321.37 Q142.867 1330.09 139.788 1334.7 Q136.732 1339.28 130.922 1339.28 Q125.112 1339.28 122.033 1334.7 Q118.978 1330.09 118.978 1321.37 Q118.978 1312.62 122.033 1308.03 Q125.112 1303.43 130.922 1303.43 Z\" fill=\"#000000\" fill-rule=\"nonzero\" fill-opacity=\"1\" /><path clip-path=\"url(#clip360)\" d=\"M51.9875 1036.53 L81.6633 1036.53 L81.6633 1040.46 L51.9875 1040.46 L51.9875 1036.53 Z\" fill=\"#000000\" fill-rule=\"nonzero\" fill-opacity=\"1\" /><path clip-path=\"url(#clip360)\" d=\"M95.7836 1049.42 L112.103 1049.42 L112.103 1053.36 L90.1586 1053.36 L90.1586 1049.42 Q92.8206 1046.67 97.4039 1042.04 Q102.01 1037.38 103.191 1036.04 Q105.436 1033.52 106.316 1031.78 Q107.219 1030.02 107.219 1028.33 Q107.219 1025.58 105.274 1023.84 Q103.353 1022.11 100.251 1022.11 Q98.0521 1022.11 95.5984 1022.87 Q93.1678 1023.63 90.3901 1025.19 L90.3901 1020.46 Q93.2141 1019.33 95.6678 1018.75 Q98.1215 1018.17 100.159 1018.17 Q105.529 1018.17 108.723 1020.86 Q111.918 1023.54 111.918 1028.03 Q111.918 1030.16 111.108 1032.08 Q110.321 1033.98 108.214 1036.57 Q107.635 1037.25 104.534 1040.46 Q101.432 1043.66 95.7836 1049.42 Z\" fill=\"#000000\" fill-rule=\"nonzero\" fill-opacity=\"1\" /><path clip-path=\"url(#clip360)\" d=\"M121.964 1018.8 L140.32 1018.8 L140.32 1022.73 L126.246 1022.73 L126.246 1031.2 Q127.265 1030.86 128.283 1030.69 Q129.302 1030.51 130.32 1030.51 Q136.107 1030.51 139.487 1033.68 Q142.867 1036.85 142.867 1042.27 Q142.867 1047.85 139.394 1050.95 Q135.922 1054.03 129.603 1054.03 Q127.427 1054.03 125.158 1053.66 Q122.913 1053.29 120.506 1052.55 L120.506 1047.85 Q122.589 1048.98 124.811 1049.54 Q127.033 1050.09 129.51 1050.09 Q133.515 1050.09 135.853 1047.99 Q138.191 1045.88 138.191 1042.27 Q138.191 1038.66 135.853 1036.55 Q133.515 1034.44 129.51 1034.44 Q127.635 1034.44 125.76 1034.86 Q123.908 1035.28 121.964 1036.16 L121.964 1018.8 Z\" fill=\"#000000\" fill-rule=\"nonzero\" fill-opacity=\"1\" /><path clip-path=\"url(#clip360)\" d=\"M130.922 736.619 Q127.311 736.619 125.482 740.184 Q123.677 743.725 123.677 750.855 Q123.677 757.961 125.482 761.526 Q127.311 765.068 130.922 765.068 Q134.556 765.068 136.362 761.526 Q138.191 757.961 138.191 750.855 Q138.191 743.725 136.362 740.184 Q134.556 736.619 130.922 736.619 M130.922 732.915 Q136.732 732.915 139.788 737.521 Q142.867 742.105 142.867 750.855 Q142.867 759.582 139.788 764.188 Q136.732 768.771 130.922 768.771 Q125.112 768.771 122.033 764.188 Q118.978 759.582 118.978 750.855 Q118.978 742.105 122.033 737.521 Q125.112 732.915 130.922 732.915 Z\" fill=\"#000000\" fill-rule=\"nonzero\" fill-opacity=\"1\" /><path clip-path=\"url(#clip360)\" d=\"M95.7836 478.909 L112.103 478.909 L112.103 482.844 L90.1586 482.844 L90.1586 478.909 Q92.8206 476.154 97.4039 471.524 Q102.01 466.872 103.191 465.529 Q105.436 463.006 106.316 461.27 Q107.219 459.511 107.219 457.821 Q107.219 455.066 105.274 453.33 Q103.353 451.594 100.251 451.594 Q98.0521 451.594 95.5984 452.358 Q93.1678 453.122 90.3901 454.673 L90.3901 449.95 Q93.2141 448.816 95.6678 448.237 Q98.1215 447.659 100.159 447.659 Q105.529 447.659 108.723 450.344 Q111.918 453.029 111.918 457.52 Q111.918 459.649 111.108 461.571 Q110.321 463.469 108.214 466.061 Q107.635 466.733 104.534 469.95 Q101.432 473.145 95.7836 478.909 Z\" fill=\"#000000\" fill-rule=\"nonzero\" fill-opacity=\"1\" /><path clip-path=\"url(#clip360)\" d=\"M121.964 448.284 L140.32 448.284 L140.32 452.219 L126.246 452.219 L126.246 460.691 Q127.265 460.344 128.283 460.182 Q129.302 459.997 130.32 459.997 Q136.107 459.997 139.487 463.168 Q142.867 466.339 142.867 471.756 Q142.867 477.334 139.394 480.436 Q135.922 483.515 129.603 483.515 Q127.427 483.515 125.158 483.145 Q122.913 482.774 120.506 482.034 L120.506 477.334 Q122.589 478.469 124.811 479.024 Q127.033 479.58 129.51 479.58 Q133.515 479.58 135.853 477.473 Q138.191 475.367 138.191 471.756 Q138.191 468.145 135.853 466.038 Q133.515 463.932 129.51 463.932 Q127.635 463.932 125.76 464.348 Q123.908 464.765 121.964 465.645 L121.964 448.284 Z\" fill=\"#000000\" fill-rule=\"nonzero\" fill-opacity=\"1\" /><path clip-path=\"url(#clip360)\" d=\"M90.8067 163.027 L109.163 163.027 L109.163 166.963 L95.0891 166.963 L95.0891 175.435 Q96.1076 175.088 97.1261 174.925 Q98.1447 174.74 99.1632 174.74 Q104.95 174.74 108.33 177.912 Q111.709 181.083 111.709 186.5 Q111.709 192.078 108.237 195.18 Q104.765 198.259 98.4456 198.259 Q96.2697 198.259 94.0012 197.888 Q91.7558 197.518 89.3484 196.777 L89.3484 192.078 Q91.4317 193.212 93.6539 193.768 Q95.8761 194.324 98.353 194.324 Q102.358 194.324 104.696 192.217 Q107.033 190.111 107.033 186.5 Q107.033 182.888 104.696 180.782 Q102.358 178.675 98.353 178.675 Q96.478 178.675 94.603 179.092 Q92.7512 179.509 90.8067 180.388 L90.8067 163.027 Z\" fill=\"#000000\" fill-rule=\"nonzero\" fill-opacity=\"1\" /><path clip-path=\"url(#clip360)\" d=\"M130.922 166.106 Q127.311 166.106 125.482 169.671 Q123.677 173.213 123.677 180.342 Q123.677 187.449 125.482 191.013 Q127.311 194.555 130.922 194.555 Q134.556 194.555 136.362 191.013 Q138.191 187.449 138.191 180.342 Q138.191 173.213 136.362 169.671 Q134.556 166.106 130.922 166.106 M130.922 162.402 Q136.732 162.402 139.788 167.009 Q142.867 171.592 142.867 180.342 Q142.867 189.069 139.788 193.675 Q136.732 198.259 130.922 198.259 Q125.112 198.259 122.033 193.675 Q118.978 189.069 118.978 180.342 Q118.978 171.592 122.033 167.009 Q125.112 162.402 130.922 162.402 Z\" fill=\"#000000\" fill-rule=\"nonzero\" fill-opacity=\"1\" /><circle clip-path=\"url(#clip362)\" cx=\"240.392\" cy=\"657.536\" r=\"14.4\" fill=\"#009af9\" fill-rule=\"evenodd\" fill-opacity=\"1\" stroke=\"#000000\" stroke-opacity=\"1\" stroke-width=\"3.2\"/>\n",
       "<circle clip-path=\"url(#clip362)\" cx=\"261.107\" cy=\"784.573\" r=\"14.4\" fill=\"#009af9\" fill-rule=\"evenodd\" fill-opacity=\"1\" stroke=\"#000000\" stroke-opacity=\"1\" stroke-width=\"3.2\"/>\n",
       "<circle clip-path=\"url(#clip362)\" cx=\"281.823\" cy=\"752.952\" r=\"14.4\" fill=\"#009af9\" fill-rule=\"evenodd\" fill-opacity=\"1\" stroke=\"#000000\" stroke-opacity=\"1\" stroke-width=\"3.2\"/>\n",
       "<circle clip-path=\"url(#clip362)\" cx=\"302.538\" cy=\"753.361\" r=\"14.4\" fill=\"#009af9\" fill-rule=\"evenodd\" fill-opacity=\"1\" stroke=\"#000000\" stroke-opacity=\"1\" stroke-width=\"3.2\"/>\n",
       "<circle clip-path=\"url(#clip362)\" cx=\"323.254\" cy=\"830.706\" r=\"14.4\" fill=\"#009af9\" fill-rule=\"evenodd\" fill-opacity=\"1\" stroke=\"#000000\" stroke-opacity=\"1\" stroke-width=\"3.2\"/>\n",
       "<circle clip-path=\"url(#clip362)\" cx=\"343.97\" cy=\"685.147\" r=\"14.4\" fill=\"#009af9\" fill-rule=\"evenodd\" fill-opacity=\"1\" stroke=\"#000000\" stroke-opacity=\"1\" stroke-width=\"3.2\"/>\n",
       "<circle clip-path=\"url(#clip362)\" cx=\"364.685\" cy=\"810.058\" r=\"14.4\" fill=\"#009af9\" fill-rule=\"evenodd\" fill-opacity=\"1\" stroke=\"#000000\" stroke-opacity=\"1\" stroke-width=\"3.2\"/>\n",
       "<circle clip-path=\"url(#clip362)\" cx=\"385.401\" cy=\"756.738\" r=\"14.4\" fill=\"#009af9\" fill-rule=\"evenodd\" fill-opacity=\"1\" stroke=\"#000000\" stroke-opacity=\"1\" stroke-width=\"3.2\"/>\n",
       "<circle clip-path=\"url(#clip362)\" cx=\"406.116\" cy=\"777.646\" r=\"14.4\" fill=\"#009af9\" fill-rule=\"evenodd\" fill-opacity=\"1\" stroke=\"#000000\" stroke-opacity=\"1\" stroke-width=\"3.2\"/>\n",
       "<circle clip-path=\"url(#clip362)\" cx=\"426.832\" cy=\"729.533\" r=\"14.4\" fill=\"#009af9\" fill-rule=\"evenodd\" fill-opacity=\"1\" stroke=\"#000000\" stroke-opacity=\"1\" stroke-width=\"3.2\"/>\n",
       "<circle clip-path=\"url(#clip362)\" cx=\"447.547\" cy=\"721.148\" r=\"14.4\" fill=\"#009af9\" fill-rule=\"evenodd\" fill-opacity=\"1\" stroke=\"#000000\" stroke-opacity=\"1\" stroke-width=\"3.2\"/>\n",
       "<circle clip-path=\"url(#clip362)\" cx=\"468.263\" cy=\"763.338\" r=\"14.4\" fill=\"#009af9\" fill-rule=\"evenodd\" fill-opacity=\"1\" stroke=\"#000000\" stroke-opacity=\"1\" stroke-width=\"3.2\"/>\n",
       "<circle clip-path=\"url(#clip362)\" cx=\"488.978\" cy=\"715.343\" r=\"14.4\" fill=\"#009af9\" fill-rule=\"evenodd\" fill-opacity=\"1\" stroke=\"#000000\" stroke-opacity=\"1\" stroke-width=\"3.2\"/>\n",
       "<circle clip-path=\"url(#clip362)\" cx=\"509.694\" cy=\"808.006\" r=\"14.4\" fill=\"#009af9\" fill-rule=\"evenodd\" fill-opacity=\"1\" stroke=\"#000000\" stroke-opacity=\"1\" stroke-width=\"3.2\"/>\n",
       "<circle clip-path=\"url(#clip362)\" cx=\"530.409\" cy=\"745.048\" r=\"14.4\" fill=\"#009af9\" fill-rule=\"evenodd\" fill-opacity=\"1\" stroke=\"#000000\" stroke-opacity=\"1\" stroke-width=\"3.2\"/>\n",
       "<circle clip-path=\"url(#clip362)\" cx=\"551.125\" cy=\"850.54\" r=\"14.4\" fill=\"#009af9\" fill-rule=\"evenodd\" fill-opacity=\"1\" stroke=\"#000000\" stroke-opacity=\"1\" stroke-width=\"3.2\"/>\n",
       "<circle clip-path=\"url(#clip362)\" cx=\"571.841\" cy=\"856.757\" r=\"14.4\" fill=\"#009af9\" fill-rule=\"evenodd\" fill-opacity=\"1\" stroke=\"#000000\" stroke-opacity=\"1\" stroke-width=\"3.2\"/>\n",
       "<circle clip-path=\"url(#clip362)\" cx=\"592.556\" cy=\"730.114\" r=\"14.4\" fill=\"#009af9\" fill-rule=\"evenodd\" fill-opacity=\"1\" stroke=\"#000000\" stroke-opacity=\"1\" stroke-width=\"3.2\"/>\n",
       "<circle clip-path=\"url(#clip362)\" cx=\"613.272\" cy=\"750.637\" r=\"14.4\" fill=\"#009af9\" fill-rule=\"evenodd\" fill-opacity=\"1\" stroke=\"#000000\" stroke-opacity=\"1\" stroke-width=\"3.2\"/>\n",
       "<circle clip-path=\"url(#clip362)\" cx=\"633.987\" cy=\"751.743\" r=\"14.4\" fill=\"#009af9\" fill-rule=\"evenodd\" fill-opacity=\"1\" stroke=\"#000000\" stroke-opacity=\"1\" stroke-width=\"3.2\"/>\n",
       "<circle clip-path=\"url(#clip362)\" cx=\"654.703\" cy=\"769.636\" r=\"14.4\" fill=\"#009af9\" fill-rule=\"evenodd\" fill-opacity=\"1\" stroke=\"#000000\" stroke-opacity=\"1\" stroke-width=\"3.2\"/>\n",
       "<circle clip-path=\"url(#clip362)\" cx=\"675.418\" cy=\"787.994\" r=\"14.4\" fill=\"#009af9\" fill-rule=\"evenodd\" fill-opacity=\"1\" stroke=\"#000000\" stroke-opacity=\"1\" stroke-width=\"3.2\"/>\n",
       "<circle clip-path=\"url(#clip362)\" cx=\"696.134\" cy=\"684.343\" r=\"14.4\" fill=\"#009af9\" fill-rule=\"evenodd\" fill-opacity=\"1\" stroke=\"#000000\" stroke-opacity=\"1\" stroke-width=\"3.2\"/>\n",
       "<circle clip-path=\"url(#clip362)\" cx=\"716.849\" cy=\"694.186\" r=\"14.4\" fill=\"#009af9\" fill-rule=\"evenodd\" fill-opacity=\"1\" stroke=\"#000000\" stroke-opacity=\"1\" stroke-width=\"3.2\"/>\n",
       "<circle clip-path=\"url(#clip362)\" cx=\"737.565\" cy=\"705.852\" r=\"14.4\" fill=\"#009af9\" fill-rule=\"evenodd\" fill-opacity=\"1\" stroke=\"#000000\" stroke-opacity=\"1\" stroke-width=\"3.2\"/>\n",
       "<circle clip-path=\"url(#clip362)\" cx=\"758.28\" cy=\"728.17\" r=\"14.4\" fill=\"#009af9\" fill-rule=\"evenodd\" fill-opacity=\"1\" stroke=\"#000000\" stroke-opacity=\"1\" stroke-width=\"3.2\"/>\n",
       "<circle clip-path=\"url(#clip362)\" cx=\"778.996\" cy=\"760.517\" r=\"14.4\" fill=\"#009af9\" fill-rule=\"evenodd\" fill-opacity=\"1\" stroke=\"#000000\" stroke-opacity=\"1\" stroke-width=\"3.2\"/>\n",
       "<circle clip-path=\"url(#clip362)\" cx=\"799.712\" cy=\"773.74\" r=\"14.4\" fill=\"#009af9\" fill-rule=\"evenodd\" fill-opacity=\"1\" stroke=\"#000000\" stroke-opacity=\"1\" stroke-width=\"3.2\"/>\n",
       "<circle clip-path=\"url(#clip362)\" cx=\"820.427\" cy=\"684.341\" r=\"14.4\" fill=\"#009af9\" fill-rule=\"evenodd\" fill-opacity=\"1\" stroke=\"#000000\" stroke-opacity=\"1\" stroke-width=\"3.2\"/>\n",
       "<circle clip-path=\"url(#clip362)\" cx=\"841.143\" cy=\"802.217\" r=\"14.4\" fill=\"#009af9\" fill-rule=\"evenodd\" fill-opacity=\"1\" stroke=\"#000000\" stroke-opacity=\"1\" stroke-width=\"3.2\"/>\n",
       "<circle clip-path=\"url(#clip362)\" cx=\"861.858\" cy=\"713.632\" r=\"14.4\" fill=\"#009af9\" fill-rule=\"evenodd\" fill-opacity=\"1\" stroke=\"#000000\" stroke-opacity=\"1\" stroke-width=\"3.2\"/>\n",
       "<circle clip-path=\"url(#clip362)\" cx=\"882.574\" cy=\"754.692\" r=\"14.4\" fill=\"#009af9\" fill-rule=\"evenodd\" fill-opacity=\"1\" stroke=\"#000000\" stroke-opacity=\"1\" stroke-width=\"3.2\"/>\n",
       "<circle clip-path=\"url(#clip362)\" cx=\"903.289\" cy=\"786.962\" r=\"14.4\" fill=\"#009af9\" fill-rule=\"evenodd\" fill-opacity=\"1\" stroke=\"#000000\" stroke-opacity=\"1\" stroke-width=\"3.2\"/>\n",
       "<circle clip-path=\"url(#clip362)\" cx=\"924.005\" cy=\"743.809\" r=\"14.4\" fill=\"#009af9\" fill-rule=\"evenodd\" fill-opacity=\"1\" stroke=\"#000000\" stroke-opacity=\"1\" stroke-width=\"3.2\"/>\n",
       "<circle clip-path=\"url(#clip362)\" cx=\"944.72\" cy=\"744.07\" r=\"14.4\" fill=\"#009af9\" fill-rule=\"evenodd\" fill-opacity=\"1\" stroke=\"#000000\" stroke-opacity=\"1\" stroke-width=\"3.2\"/>\n",
       "<circle clip-path=\"url(#clip362)\" cx=\"965.436\" cy=\"826.159\" r=\"14.4\" fill=\"#009af9\" fill-rule=\"evenodd\" fill-opacity=\"1\" stroke=\"#000000\" stroke-opacity=\"1\" stroke-width=\"3.2\"/>\n",
       "<circle clip-path=\"url(#clip362)\" cx=\"986.151\" cy=\"741.273\" r=\"14.4\" fill=\"#009af9\" fill-rule=\"evenodd\" fill-opacity=\"1\" stroke=\"#000000\" stroke-opacity=\"1\" stroke-width=\"3.2\"/>\n",
       "<circle clip-path=\"url(#clip362)\" cx=\"1006.87\" cy=\"797.399\" r=\"14.4\" fill=\"#009af9\" fill-rule=\"evenodd\" fill-opacity=\"1\" stroke=\"#000000\" stroke-opacity=\"1\" stroke-width=\"3.2\"/>\n",
       "<circle clip-path=\"url(#clip362)\" cx=\"1027.58\" cy=\"719.175\" r=\"14.4\" fill=\"#009af9\" fill-rule=\"evenodd\" fill-opacity=\"1\" stroke=\"#000000\" stroke-opacity=\"1\" stroke-width=\"3.2\"/>\n",
       "<circle clip-path=\"url(#clip362)\" cx=\"1048.3\" cy=\"791.004\" r=\"14.4\" fill=\"#009af9\" fill-rule=\"evenodd\" fill-opacity=\"1\" stroke=\"#000000\" stroke-opacity=\"1\" stroke-width=\"3.2\"/>\n",
       "<circle clip-path=\"url(#clip362)\" cx=\"1069.01\" cy=\"805.526\" r=\"14.4\" fill=\"#009af9\" fill-rule=\"evenodd\" fill-opacity=\"1\" stroke=\"#000000\" stroke-opacity=\"1\" stroke-width=\"3.2\"/>\n",
       "<circle clip-path=\"url(#clip362)\" cx=\"1089.73\" cy=\"721.804\" r=\"14.4\" fill=\"#009af9\" fill-rule=\"evenodd\" fill-opacity=\"1\" stroke=\"#000000\" stroke-opacity=\"1\" stroke-width=\"3.2\"/>\n",
       "<circle clip-path=\"url(#clip362)\" cx=\"1110.44\" cy=\"727.675\" r=\"14.4\" fill=\"#009af9\" fill-rule=\"evenodd\" fill-opacity=\"1\" stroke=\"#000000\" stroke-opacity=\"1\" stroke-width=\"3.2\"/>\n",
       "<circle clip-path=\"url(#clip362)\" cx=\"1131.16\" cy=\"799.295\" r=\"14.4\" fill=\"#009af9\" fill-rule=\"evenodd\" fill-opacity=\"1\" stroke=\"#000000\" stroke-opacity=\"1\" stroke-width=\"3.2\"/>\n",
       "<circle clip-path=\"url(#clip362)\" cx=\"1151.88\" cy=\"823.795\" r=\"14.4\" fill=\"#009af9\" fill-rule=\"evenodd\" fill-opacity=\"1\" stroke=\"#000000\" stroke-opacity=\"1\" stroke-width=\"3.2\"/>\n",
       "<circle clip-path=\"url(#clip362)\" cx=\"1172.59\" cy=\"750.417\" r=\"14.4\" fill=\"#009af9\" fill-rule=\"evenodd\" fill-opacity=\"1\" stroke=\"#000000\" stroke-opacity=\"1\" stroke-width=\"3.2\"/>\n",
       "<circle clip-path=\"url(#clip362)\" cx=\"1193.31\" cy=\"744.682\" r=\"14.4\" fill=\"#009af9\" fill-rule=\"evenodd\" fill-opacity=\"1\" stroke=\"#000000\" stroke-opacity=\"1\" stroke-width=\"3.2\"/>\n",
       "<circle clip-path=\"url(#clip362)\" cx=\"1214.02\" cy=\"757.664\" r=\"14.4\" fill=\"#009af9\" fill-rule=\"evenodd\" fill-opacity=\"1\" stroke=\"#000000\" stroke-opacity=\"1\" stroke-width=\"3.2\"/>\n",
       "<circle clip-path=\"url(#clip362)\" cx=\"1234.74\" cy=\"797.815\" r=\"14.4\" fill=\"#009af9\" fill-rule=\"evenodd\" fill-opacity=\"1\" stroke=\"#000000\" stroke-opacity=\"1\" stroke-width=\"3.2\"/>\n",
       "<circle clip-path=\"url(#clip362)\" cx=\"1255.45\" cy=\"738.142\" r=\"14.4\" fill=\"#009af9\" fill-rule=\"evenodd\" fill-opacity=\"1\" stroke=\"#000000\" stroke-opacity=\"1\" stroke-width=\"3.2\"/>\n",
       "<circle clip-path=\"url(#clip362)\" cx=\"1276.17\" cy=\"813.231\" r=\"14.4\" fill=\"#009af9\" fill-rule=\"evenodd\" fill-opacity=\"1\" stroke=\"#000000\" stroke-opacity=\"1\" stroke-width=\"3.2\"/>\n",
       "<circle clip-path=\"url(#clip362)\" cx=\"1296.88\" cy=\"350.486\" r=\"14.4\" fill=\"#009af9\" fill-rule=\"evenodd\" fill-opacity=\"1\" stroke=\"#000000\" stroke-opacity=\"1\" stroke-width=\"3.2\"/>\n",
       "<circle clip-path=\"url(#clip362)\" cx=\"1317.6\" cy=\"775.138\" r=\"14.4\" fill=\"#009af9\" fill-rule=\"evenodd\" fill-opacity=\"1\" stroke=\"#000000\" stroke-opacity=\"1\" stroke-width=\"3.2\"/>\n",
       "<circle clip-path=\"url(#clip362)\" cx=\"1338.32\" cy=\"734.008\" r=\"14.4\" fill=\"#009af9\" fill-rule=\"evenodd\" fill-opacity=\"1\" stroke=\"#000000\" stroke-opacity=\"1\" stroke-width=\"3.2\"/>\n",
       "<circle clip-path=\"url(#clip362)\" cx=\"1359.03\" cy=\"943.795\" r=\"14.4\" fill=\"#009af9\" fill-rule=\"evenodd\" fill-opacity=\"1\" stroke=\"#000000\" stroke-opacity=\"1\" stroke-width=\"3.2\"/>\n",
       "<circle clip-path=\"url(#clip362)\" cx=\"1379.75\" cy=\"809.2\" r=\"14.4\" fill=\"#009af9\" fill-rule=\"evenodd\" fill-opacity=\"1\" stroke=\"#000000\" stroke-opacity=\"1\" stroke-width=\"3.2\"/>\n",
       "<circle clip-path=\"url(#clip362)\" cx=\"1400.46\" cy=\"1144.15\" r=\"14.4\" fill=\"#009af9\" fill-rule=\"evenodd\" fill-opacity=\"1\" stroke=\"#000000\" stroke-opacity=\"1\" stroke-width=\"3.2\"/>\n",
       "<circle clip-path=\"url(#clip362)\" cx=\"1421.18\" cy=\"1131.02\" r=\"14.4\" fill=\"#009af9\" fill-rule=\"evenodd\" fill-opacity=\"1\" stroke=\"#000000\" stroke-opacity=\"1\" stroke-width=\"3.2\"/>\n",
       "<circle clip-path=\"url(#clip362)\" cx=\"1441.89\" cy=\"352.492\" r=\"14.4\" fill=\"#009af9\" fill-rule=\"evenodd\" fill-opacity=\"1\" stroke=\"#000000\" stroke-opacity=\"1\" stroke-width=\"3.2\"/>\n",
       "<circle clip-path=\"url(#clip362)\" cx=\"1462.61\" cy=\"913.977\" r=\"14.4\" fill=\"#009af9\" fill-rule=\"evenodd\" fill-opacity=\"1\" stroke=\"#000000\" stroke-opacity=\"1\" stroke-width=\"3.2\"/>\n",
       "<circle clip-path=\"url(#clip362)\" cx=\"1483.32\" cy=\"699.06\" r=\"14.4\" fill=\"#009af9\" fill-rule=\"evenodd\" fill-opacity=\"1\" stroke=\"#000000\" stroke-opacity=\"1\" stroke-width=\"3.2\"/>\n",
       "<circle clip-path=\"url(#clip362)\" cx=\"1504.04\" cy=\"919.487\" r=\"14.4\" fill=\"#009af9\" fill-rule=\"evenodd\" fill-opacity=\"1\" stroke=\"#000000\" stroke-opacity=\"1\" stroke-width=\"3.2\"/>\n",
       "<circle clip-path=\"url(#clip362)\" cx=\"1524.76\" cy=\"549.642\" r=\"14.4\" fill=\"#009af9\" fill-rule=\"evenodd\" fill-opacity=\"1\" stroke=\"#000000\" stroke-opacity=\"1\" stroke-width=\"3.2\"/>\n",
       "<circle clip-path=\"url(#clip362)\" cx=\"1545.47\" cy=\"472.043\" r=\"14.4\" fill=\"#009af9\" fill-rule=\"evenodd\" fill-opacity=\"1\" stroke=\"#000000\" stroke-opacity=\"1\" stroke-width=\"3.2\"/>\n",
       "<circle clip-path=\"url(#clip362)\" cx=\"1566.19\" cy=\"1229.69\" r=\"14.4\" fill=\"#009af9\" fill-rule=\"evenodd\" fill-opacity=\"1\" stroke=\"#000000\" stroke-opacity=\"1\" stroke-width=\"3.2\"/>\n",
       "<circle clip-path=\"url(#clip362)\" cx=\"1586.9\" cy=\"1031.97\" r=\"14.4\" fill=\"#009af9\" fill-rule=\"evenodd\" fill-opacity=\"1\" stroke=\"#000000\" stroke-opacity=\"1\" stroke-width=\"3.2\"/>\n",
       "<circle clip-path=\"url(#clip362)\" cx=\"1607.62\" cy=\"1167.41\" r=\"14.4\" fill=\"#009af9\" fill-rule=\"evenodd\" fill-opacity=\"1\" stroke=\"#000000\" stroke-opacity=\"1\" stroke-width=\"3.2\"/>\n",
       "<circle clip-path=\"url(#clip362)\" cx=\"1628.33\" cy=\"87.9763\" r=\"14.4\" fill=\"#009af9\" fill-rule=\"evenodd\" fill-opacity=\"1\" stroke=\"#000000\" stroke-opacity=\"1\" stroke-width=\"3.2\"/>\n",
       "<circle clip-path=\"url(#clip362)\" cx=\"1649.05\" cy=\"655.673\" r=\"14.4\" fill=\"#009af9\" fill-rule=\"evenodd\" fill-opacity=\"1\" stroke=\"#000000\" stroke-opacity=\"1\" stroke-width=\"3.2\"/>\n",
       "<circle clip-path=\"url(#clip362)\" cx=\"1669.76\" cy=\"806.609\" r=\"14.4\" fill=\"#009af9\" fill-rule=\"evenodd\" fill-opacity=\"1\" stroke=\"#000000\" stroke-opacity=\"1\" stroke-width=\"3.2\"/>\n",
       "<circle clip-path=\"url(#clip362)\" cx=\"1690.48\" cy=\"795.763\" r=\"14.4\" fill=\"#009af9\" fill-rule=\"evenodd\" fill-opacity=\"1\" stroke=\"#000000\" stroke-opacity=\"1\" stroke-width=\"3.2\"/>\n",
       "<circle clip-path=\"url(#clip362)\" cx=\"1711.2\" cy=\"782.079\" r=\"14.4\" fill=\"#009af9\" fill-rule=\"evenodd\" fill-opacity=\"1\" stroke=\"#000000\" stroke-opacity=\"1\" stroke-width=\"3.2\"/>\n",
       "<circle clip-path=\"url(#clip362)\" cx=\"1731.91\" cy=\"628.112\" r=\"14.4\" fill=\"#009af9\" fill-rule=\"evenodd\" fill-opacity=\"1\" stroke=\"#000000\" stroke-opacity=\"1\" stroke-width=\"3.2\"/>\n",
       "<circle clip-path=\"url(#clip362)\" cx=\"1752.63\" cy=\"871.825\" r=\"14.4\" fill=\"#009af9\" fill-rule=\"evenodd\" fill-opacity=\"1\" stroke=\"#000000\" stroke-opacity=\"1\" stroke-width=\"3.2\"/>\n",
       "<circle clip-path=\"url(#clip362)\" cx=\"1773.34\" cy=\"1195.66\" r=\"14.4\" fill=\"#009af9\" fill-rule=\"evenodd\" fill-opacity=\"1\" stroke=\"#000000\" stroke-opacity=\"1\" stroke-width=\"3.2\"/>\n",
       "<circle clip-path=\"url(#clip362)\" cx=\"1794.06\" cy=\"875.489\" r=\"14.4\" fill=\"#009af9\" fill-rule=\"evenodd\" fill-opacity=\"1\" stroke=\"#000000\" stroke-opacity=\"1\" stroke-width=\"3.2\"/>\n",
       "<circle clip-path=\"url(#clip362)\" cx=\"1814.77\" cy=\"752.938\" r=\"14.4\" fill=\"#009af9\" fill-rule=\"evenodd\" fill-opacity=\"1\" stroke=\"#000000\" stroke-opacity=\"1\" stroke-width=\"3.2\"/>\n",
       "<circle clip-path=\"url(#clip362)\" cx=\"1835.49\" cy=\"568.933\" r=\"14.4\" fill=\"#009af9\" fill-rule=\"evenodd\" fill-opacity=\"1\" stroke=\"#000000\" stroke-opacity=\"1\" stroke-width=\"3.2\"/>\n",
       "<circle clip-path=\"url(#clip362)\" cx=\"1856.2\" cy=\"468.204\" r=\"14.4\" fill=\"#009af9\" fill-rule=\"evenodd\" fill-opacity=\"1\" stroke=\"#000000\" stroke-opacity=\"1\" stroke-width=\"3.2\"/>\n",
       "<circle clip-path=\"url(#clip362)\" cx=\"1876.92\" cy=\"787.851\" r=\"14.4\" fill=\"#009af9\" fill-rule=\"evenodd\" fill-opacity=\"1\" stroke=\"#000000\" stroke-opacity=\"1\" stroke-width=\"3.2\"/>\n",
       "<circle clip-path=\"url(#clip362)\" cx=\"1897.64\" cy=\"855.163\" r=\"14.4\" fill=\"#009af9\" fill-rule=\"evenodd\" fill-opacity=\"1\" stroke=\"#000000\" stroke-opacity=\"1\" stroke-width=\"3.2\"/>\n",
       "<circle clip-path=\"url(#clip362)\" cx=\"1918.35\" cy=\"730.905\" r=\"14.4\" fill=\"#009af9\" fill-rule=\"evenodd\" fill-opacity=\"1\" stroke=\"#000000\" stroke-opacity=\"1\" stroke-width=\"3.2\"/>\n",
       "<circle clip-path=\"url(#clip362)\" cx=\"1939.07\" cy=\"1182.73\" r=\"14.4\" fill=\"#009af9\" fill-rule=\"evenodd\" fill-opacity=\"1\" stroke=\"#000000\" stroke-opacity=\"1\" stroke-width=\"3.2\"/>\n",
       "<circle clip-path=\"url(#clip362)\" cx=\"1959.78\" cy=\"656.795\" r=\"14.4\" fill=\"#009af9\" fill-rule=\"evenodd\" fill-opacity=\"1\" stroke=\"#000000\" stroke-opacity=\"1\" stroke-width=\"3.2\"/>\n",
       "<circle clip-path=\"url(#clip362)\" cx=\"1980.5\" cy=\"876.455\" r=\"14.4\" fill=\"#009af9\" fill-rule=\"evenodd\" fill-opacity=\"1\" stroke=\"#000000\" stroke-opacity=\"1\" stroke-width=\"3.2\"/>\n",
       "<circle clip-path=\"url(#clip362)\" cx=\"2001.21\" cy=\"1020.14\" r=\"14.4\" fill=\"#009af9\" fill-rule=\"evenodd\" fill-opacity=\"1\" stroke=\"#000000\" stroke-opacity=\"1\" stroke-width=\"3.2\"/>\n",
       "<circle clip-path=\"url(#clip362)\" cx=\"2021.93\" cy=\"735.457\" r=\"14.4\" fill=\"#009af9\" fill-rule=\"evenodd\" fill-opacity=\"1\" stroke=\"#000000\" stroke-opacity=\"1\" stroke-width=\"3.2\"/>\n",
       "<circle clip-path=\"url(#clip362)\" cx=\"2042.64\" cy=\"830.477\" r=\"14.4\" fill=\"#009af9\" fill-rule=\"evenodd\" fill-opacity=\"1\" stroke=\"#000000\" stroke-opacity=\"1\" stroke-width=\"3.2\"/>\n",
       "<circle clip-path=\"url(#clip362)\" cx=\"2063.36\" cy=\"756.661\" r=\"14.4\" fill=\"#009af9\" fill-rule=\"evenodd\" fill-opacity=\"1\" stroke=\"#000000\" stroke-opacity=\"1\" stroke-width=\"3.2\"/>\n",
       "<circle clip-path=\"url(#clip362)\" cx=\"2084.08\" cy=\"477.219\" r=\"14.4\" fill=\"#009af9\" fill-rule=\"evenodd\" fill-opacity=\"1\" stroke=\"#000000\" stroke-opacity=\"1\" stroke-width=\"3.2\"/>\n",
       "<circle clip-path=\"url(#clip362)\" cx=\"2104.79\" cy=\"350.665\" r=\"14.4\" fill=\"#009af9\" fill-rule=\"evenodd\" fill-opacity=\"1\" stroke=\"#000000\" stroke-opacity=\"1\" stroke-width=\"3.2\"/>\n",
       "<circle clip-path=\"url(#clip362)\" cx=\"2125.51\" cy=\"818.388\" r=\"14.4\" fill=\"#009af9\" fill-rule=\"evenodd\" fill-opacity=\"1\" stroke=\"#000000\" stroke-opacity=\"1\" stroke-width=\"3.2\"/>\n",
       "<circle clip-path=\"url(#clip362)\" cx=\"2146.22\" cy=\"972.146\" r=\"14.4\" fill=\"#009af9\" fill-rule=\"evenodd\" fill-opacity=\"1\" stroke=\"#000000\" stroke-opacity=\"1\" stroke-width=\"3.2\"/>\n",
       "<circle clip-path=\"url(#clip362)\" cx=\"2166.94\" cy=\"757.644\" r=\"14.4\" fill=\"#009af9\" fill-rule=\"evenodd\" fill-opacity=\"1\" stroke=\"#000000\" stroke-opacity=\"1\" stroke-width=\"3.2\"/>\n",
       "<circle clip-path=\"url(#clip362)\" cx=\"2187.65\" cy=\"882.551\" r=\"14.4\" fill=\"#009af9\" fill-rule=\"evenodd\" fill-opacity=\"1\" stroke=\"#000000\" stroke-opacity=\"1\" stroke-width=\"3.2\"/>\n",
       "<circle clip-path=\"url(#clip362)\" cx=\"2208.37\" cy=\"847.369\" r=\"14.4\" fill=\"#009af9\" fill-rule=\"evenodd\" fill-opacity=\"1\" stroke=\"#000000\" stroke-opacity=\"1\" stroke-width=\"3.2\"/>\n",
       "<circle clip-path=\"url(#clip362)\" cx=\"2229.08\" cy=\"1397.62\" r=\"14.4\" fill=\"#009af9\" fill-rule=\"evenodd\" fill-opacity=\"1\" stroke=\"#000000\" stroke-opacity=\"1\" stroke-width=\"3.2\"/>\n",
       "<circle clip-path=\"url(#clip362)\" cx=\"2249.8\" cy=\"781.481\" r=\"14.4\" fill=\"#009af9\" fill-rule=\"evenodd\" fill-opacity=\"1\" stroke=\"#000000\" stroke-opacity=\"1\" stroke-width=\"3.2\"/>\n",
       "<circle clip-path=\"url(#clip362)\" cx=\"2270.52\" cy=\"1445.72\" r=\"14.4\" fill=\"#009af9\" fill-rule=\"evenodd\" fill-opacity=\"1\" stroke=\"#000000\" stroke-opacity=\"1\" stroke-width=\"3.2\"/>\n",
       "<circle clip-path=\"url(#clip362)\" cx=\"2291.23\" cy=\"744.722\" r=\"14.4\" fill=\"#009af9\" fill-rule=\"evenodd\" fill-opacity=\"1\" stroke=\"#000000\" stroke-opacity=\"1\" stroke-width=\"3.2\"/>\n",
       "<path clip-path=\"url(#clip360)\" d=\"M251.33 198.898 L521.149 198.898 L521.149 95.2176 L251.33 95.2176  Z\" fill=\"#ffffff\" fill-rule=\"evenodd\" fill-opacity=\"1\"/>\n",
       "<polyline clip-path=\"url(#clip360)\" style=\"stroke:#000000; stroke-linecap:round; stroke-linejoin:round; stroke-width:4; stroke-opacity:1; fill:none\" points=\"251.33,198.898 521.149,198.898 521.149,95.2176 251.33,95.2176 251.33,198.898 \"/>\n",
       "<circle clip-path=\"url(#clip360)\" cx=\"347.947\" cy=\"147.058\" r=\"20.48\" fill=\"#009af9\" fill-rule=\"evenodd\" fill-opacity=\"1\" stroke=\"#000000\" stroke-opacity=\"1\" stroke-width=\"4.55111\"/>\n",
       "<path clip-path=\"url(#clip360)\" d=\"M458.407 166.745 Q456.601 171.375 454.888 172.787 Q453.175 174.199 450.305 174.199 L446.902 174.199 L446.902 170.634 L449.402 170.634 Q451.161 170.634 452.134 169.8 Q453.106 168.967 454.286 165.865 L455.05 163.921 L444.564 138.412 L449.078 138.412 L457.18 158.689 L465.282 138.412 L469.796 138.412 L458.407 166.745 Z\" fill=\"#000000\" fill-rule=\"nonzero\" fill-opacity=\"1\" /><path clip-path=\"url(#clip360)\" d=\"M477.087 160.402 L484.726 160.402 L484.726 134.037 L476.416 135.703 L476.416 131.444 L484.68 129.778 L489.356 129.778 L489.356 160.402 L496.994 160.402 L496.994 164.338 L477.087 164.338 L477.087 160.402 Z\" fill=\"#000000\" fill-rule=\"nonzero\" fill-opacity=\"1\" /></svg>\n"
      ],
      "text/html": [
       "<?xml version=\"1.0\" encoding=\"utf-8\"?>\n",
       "<svg xmlns=\"http://www.w3.org/2000/svg\" xmlns:xlink=\"http://www.w3.org/1999/xlink\" width=\"600\" height=\"400\" viewBox=\"0 0 2400 1600\">\n",
       "<defs>\n",
       "  <clipPath id=\"clip410\">\n",
       "    <rect x=\"0\" y=\"0\" width=\"2400\" height=\"1600\"/>\n",
       "  </clipPath>\n",
       "</defs>\n",
       "<path clip-path=\"url(#clip410)\" d=\"M0 1600 L2400 1600 L2400 0 L0 0  Z\" fill=\"#ffffff\" fill-rule=\"evenodd\" fill-opacity=\"1\"/>\n",
       "<defs>\n",
       "  <clipPath id=\"clip411\">\n",
       "    <rect x=\"480\" y=\"0\" width=\"1681\" height=\"1600\"/>\n",
       "  </clipPath>\n",
       "</defs>\n",
       "<path clip-path=\"url(#clip410)\" d=\"M178.867 1486.45 L2352.76 1486.45 L2352.76 47.2441 L178.867 47.2441  Z\" fill=\"#ffffff\" fill-rule=\"evenodd\" fill-opacity=\"1\"/>\n",
       "<defs>\n",
       "  <clipPath id=\"clip412\">\n",
       "    <rect x=\"178\" y=\"47\" width=\"2175\" height=\"1440\"/>\n",
       "  </clipPath>\n",
       "</defs>\n",
       "<polyline clip-path=\"url(#clip412)\" style=\"stroke:#000000; stroke-linecap:round; stroke-linejoin:round; stroke-width:2; stroke-opacity:0.1; fill:none\" points=\"219.676,1486.45 219.676,47.2441 \"/>\n",
       "<polyline clip-path=\"url(#clip412)\" style=\"stroke:#000000; stroke-linecap:round; stroke-linejoin:round; stroke-width:2; stroke-opacity:0.1; fill:none\" points=\"737.565,1486.45 737.565,47.2441 \"/>\n",
       "<polyline clip-path=\"url(#clip412)\" style=\"stroke:#000000; stroke-linecap:round; stroke-linejoin:round; stroke-width:2; stroke-opacity:0.1; fill:none\" points=\"1255.45,1486.45 1255.45,47.2441 \"/>\n",
       "<polyline clip-path=\"url(#clip412)\" style=\"stroke:#000000; stroke-linecap:round; stroke-linejoin:round; stroke-width:2; stroke-opacity:0.1; fill:none\" points=\"1773.34,1486.45 1773.34,47.2441 \"/>\n",
       "<polyline clip-path=\"url(#clip412)\" style=\"stroke:#000000; stroke-linecap:round; stroke-linejoin:round; stroke-width:2; stroke-opacity:0.1; fill:none\" points=\"2291.23,1486.45 2291.23,47.2441 \"/>\n",
       "<polyline clip-path=\"url(#clip410)\" style=\"stroke:#000000; stroke-linecap:round; stroke-linejoin:round; stroke-width:4; stroke-opacity:1; fill:none\" points=\"178.867,1486.45 2352.76,1486.45 \"/>\n",
       "<polyline clip-path=\"url(#clip410)\" style=\"stroke:#000000; stroke-linecap:round; stroke-linejoin:round; stroke-width:4; stroke-opacity:1; fill:none\" points=\"219.676,1486.45 219.676,1467.55 \"/>\n",
       "<polyline clip-path=\"url(#clip410)\" style=\"stroke:#000000; stroke-linecap:round; stroke-linejoin:round; stroke-width:4; stroke-opacity:1; fill:none\" points=\"737.565,1486.45 737.565,1467.55 \"/>\n",
       "<polyline clip-path=\"url(#clip410)\" style=\"stroke:#000000; stroke-linecap:round; stroke-linejoin:round; stroke-width:4; stroke-opacity:1; fill:none\" points=\"1255.45,1486.45 1255.45,1467.55 \"/>\n",
       "<polyline clip-path=\"url(#clip410)\" style=\"stroke:#000000; stroke-linecap:round; stroke-linejoin:round; stroke-width:4; stroke-opacity:1; fill:none\" points=\"1773.34,1486.45 1773.34,1467.55 \"/>\n",
       "<polyline clip-path=\"url(#clip410)\" style=\"stroke:#000000; stroke-linecap:round; stroke-linejoin:round; stroke-width:4; stroke-opacity:1; fill:none\" points=\"2291.23,1486.45 2291.23,1467.55 \"/>\n",
       "<path clip-path=\"url(#clip410)\" d=\"M219.676 1517.37 Q216.065 1517.37 214.236 1520.93 Q212.431 1524.47 212.431 1531.6 Q212.431 1538.71 214.236 1542.27 Q216.065 1545.82 219.676 1545.82 Q223.31 1545.82 225.116 1542.27 Q226.945 1538.71 226.945 1531.6 Q226.945 1524.47 225.116 1520.93 Q223.31 1517.37 219.676 1517.37 M219.676 1513.66 Q225.486 1513.66 228.542 1518.27 Q231.621 1522.85 231.621 1531.6 Q231.621 1540.33 228.542 1544.94 Q225.486 1549.52 219.676 1549.52 Q213.866 1549.52 210.787 1544.94 Q207.732 1540.33 207.732 1531.6 Q207.732 1522.85 210.787 1518.27 Q213.866 1513.66 219.676 1513.66 Z\" fill=\"#000000\" fill-rule=\"nonzero\" fill-opacity=\"1\" /><path clip-path=\"url(#clip410)\" d=\"M716.836 1544.91 L733.155 1544.91 L733.155 1548.85 L711.211 1548.85 L711.211 1544.91 Q713.873 1542.16 718.456 1537.53 Q723.063 1532.88 724.243 1531.53 Q726.489 1529.01 727.368 1527.27 Q728.271 1525.51 728.271 1523.82 Q728.271 1521.07 726.327 1519.33 Q724.405 1517.6 721.303 1517.6 Q719.104 1517.6 716.651 1518.36 Q714.22 1519.13 711.442 1520.68 L711.442 1515.95 Q714.266 1514.82 716.72 1514.24 Q719.174 1513.66 721.211 1513.66 Q726.581 1513.66 729.776 1516.35 Q732.97 1519.03 732.97 1523.52 Q732.97 1525.65 732.16 1527.57 Q731.373 1529.47 729.266 1532.07 Q728.688 1532.74 725.586 1535.95 Q722.484 1539.15 716.836 1544.91 Z\" fill=\"#000000\" fill-rule=\"nonzero\" fill-opacity=\"1\" /><path clip-path=\"url(#clip410)\" d=\"M743.016 1514.29 L761.373 1514.29 L761.373 1518.22 L747.299 1518.22 L747.299 1526.7 Q748.317 1526.35 749.336 1526.19 Q750.354 1526 751.373 1526 Q757.16 1526 760.539 1529.17 Q763.919 1532.34 763.919 1537.76 Q763.919 1543.34 760.447 1546.44 Q756.974 1549.52 750.655 1549.52 Q748.479 1549.52 746.211 1549.15 Q743.965 1548.78 741.558 1548.04 L741.558 1543.34 Q743.641 1544.47 745.863 1545.03 Q748.086 1545.58 750.562 1545.58 Q754.567 1545.58 756.905 1543.48 Q759.243 1541.37 759.243 1537.76 Q759.243 1534.15 756.905 1532.04 Q754.567 1529.94 750.562 1529.94 Q748.688 1529.94 746.813 1530.35 Q744.961 1530.77 743.016 1531.65 L743.016 1514.29 Z\" fill=\"#000000\" fill-rule=\"nonzero\" fill-opacity=\"1\" /><path clip-path=\"url(#clip410)\" d=\"M1230.15 1514.29 L1248.51 1514.29 L1248.51 1518.22 L1234.44 1518.22 L1234.44 1526.7 Q1235.45 1526.35 1236.47 1526.19 Q1237.49 1526 1238.51 1526 Q1244.3 1526 1247.68 1529.17 Q1251.06 1532.34 1251.06 1537.76 Q1251.06 1543.34 1247.58 1546.44 Q1244.11 1549.52 1237.79 1549.52 Q1235.62 1549.52 1233.35 1549.15 Q1231.1 1548.78 1228.69 1548.04 L1228.69 1543.34 Q1230.78 1544.47 1233 1545.03 Q1235.22 1545.58 1237.7 1545.58 Q1241.7 1545.58 1244.04 1543.48 Q1246.38 1541.37 1246.38 1537.76 Q1246.38 1534.15 1244.04 1532.04 Q1241.7 1529.94 1237.7 1529.94 Q1235.82 1529.94 1233.95 1530.35 Q1232.1 1530.77 1230.15 1531.65 L1230.15 1514.29 Z\" fill=\"#000000\" fill-rule=\"nonzero\" fill-opacity=\"1\" /><path clip-path=\"url(#clip410)\" d=\"M1270.27 1517.37 Q1266.66 1517.37 1264.83 1520.93 Q1263.02 1524.47 1263.02 1531.6 Q1263.02 1538.71 1264.83 1542.27 Q1266.66 1545.82 1270.27 1545.82 Q1273.9 1545.82 1275.71 1542.27 Q1277.54 1538.71 1277.54 1531.6 Q1277.54 1524.47 1275.71 1520.93 Q1273.9 1517.37 1270.27 1517.37 M1270.27 1513.66 Q1276.08 1513.66 1279.13 1518.27 Q1282.21 1522.85 1282.21 1531.6 Q1282.21 1540.33 1279.13 1544.94 Q1276.08 1549.52 1270.27 1549.52 Q1264.46 1549.52 1261.38 1544.94 Q1258.32 1540.33 1258.32 1531.6 Q1258.32 1522.85 1261.38 1518.27 Q1264.46 1513.66 1270.27 1513.66 Z\" fill=\"#000000\" fill-rule=\"nonzero\" fill-opacity=\"1\" /><path clip-path=\"url(#clip410)\" d=\"M1747.2 1514.29 L1769.42 1514.29 L1769.42 1516.28 L1756.87 1548.85 L1751.99 1548.85 L1763.79 1518.22 L1747.2 1518.22 L1747.2 1514.29 Z\" fill=\"#000000\" fill-rule=\"nonzero\" fill-opacity=\"1\" /><path clip-path=\"url(#clip410)\" d=\"M1778.59 1514.29 L1796.94 1514.29 L1796.94 1518.22 L1782.87 1518.22 L1782.87 1526.7 Q1783.89 1526.35 1784.9 1526.19 Q1785.92 1526 1786.94 1526 Q1792.73 1526 1796.11 1529.17 Q1799.49 1532.34 1799.49 1537.76 Q1799.49 1543.34 1796.02 1546.44 Q1792.54 1549.52 1786.22 1549.52 Q1784.05 1549.52 1781.78 1549.15 Q1779.53 1548.78 1777.13 1548.04 L1777.13 1543.34 Q1779.21 1544.47 1781.43 1545.03 Q1783.65 1545.58 1786.13 1545.58 Q1790.14 1545.58 1792.47 1543.48 Q1794.81 1541.37 1794.81 1537.76 Q1794.81 1534.15 1792.47 1532.04 Q1790.14 1529.94 1786.13 1529.94 Q1784.26 1529.94 1782.38 1530.35 Q1780.53 1530.77 1778.59 1531.65 L1778.59 1514.29 Z\" fill=\"#000000\" fill-rule=\"nonzero\" fill-opacity=\"1\" /><path clip-path=\"url(#clip410)\" d=\"M2250.84 1544.91 L2258.48 1544.91 L2258.48 1518.55 L2250.17 1520.21 L2250.17 1515.95 L2258.43 1514.29 L2263.11 1514.29 L2263.11 1544.91 L2270.74 1544.91 L2270.74 1548.85 L2250.84 1548.85 L2250.84 1544.91 Z\" fill=\"#000000\" fill-rule=\"nonzero\" fill-opacity=\"1\" /><path clip-path=\"url(#clip410)\" d=\"M2290.19 1517.37 Q2286.58 1517.37 2284.75 1520.93 Q2282.94 1524.47 2282.94 1531.6 Q2282.94 1538.71 2284.75 1542.27 Q2286.58 1545.82 2290.19 1545.82 Q2293.82 1545.82 2295.63 1542.27 Q2297.46 1538.71 2297.46 1531.6 Q2297.46 1524.47 2295.63 1520.93 Q2293.82 1517.37 2290.19 1517.37 M2290.19 1513.66 Q2296 1513.66 2299.05 1518.27 Q2302.13 1522.85 2302.13 1531.6 Q2302.13 1540.33 2299.05 1544.94 Q2296 1549.52 2290.19 1549.52 Q2284.38 1549.52 2281.3 1544.94 Q2278.24 1540.33 2278.24 1531.6 Q2278.24 1522.85 2281.3 1518.27 Q2284.38 1513.66 2290.19 1513.66 Z\" fill=\"#000000\" fill-rule=\"nonzero\" fill-opacity=\"1\" /><path clip-path=\"url(#clip410)\" d=\"M2320.35 1517.37 Q2316.74 1517.37 2314.91 1520.93 Q2313.11 1524.47 2313.11 1531.6 Q2313.11 1538.71 2314.91 1542.27 Q2316.74 1545.82 2320.35 1545.82 Q2323.99 1545.82 2325.79 1542.27 Q2327.62 1538.71 2327.62 1531.6 Q2327.62 1524.47 2325.79 1520.93 Q2323.99 1517.37 2320.35 1517.37 M2320.35 1513.66 Q2326.16 1513.66 2329.22 1518.27 Q2332.3 1522.85 2332.3 1531.6 Q2332.3 1540.33 2329.22 1544.94 Q2326.16 1549.52 2320.35 1549.52 Q2314.54 1549.52 2311.46 1544.94 Q2308.41 1540.33 2308.41 1531.6 Q2308.41 1522.85 2311.46 1518.27 Q2314.54 1513.66 2320.35 1513.66 Z\" fill=\"#000000\" fill-rule=\"nonzero\" fill-opacity=\"1\" /><polyline clip-path=\"url(#clip412)\" style=\"stroke:#000000; stroke-linecap:round; stroke-linejoin:round; stroke-width:2; stroke-opacity:0.1; fill:none\" points=\"178.867,1321.33 2352.76,1321.33 \"/>\n",
       "<polyline clip-path=\"url(#clip412)\" style=\"stroke:#000000; stroke-linecap:round; stroke-linejoin:round; stroke-width:2; stroke-opacity:0.1; fill:none\" points=\"178.867,1036.08 2352.76,1036.08 \"/>\n",
       "<polyline clip-path=\"url(#clip412)\" style=\"stroke:#000000; stroke-linecap:round; stroke-linejoin:round; stroke-width:2; stroke-opacity:0.1; fill:none\" points=\"178.867,750.82 2352.76,750.82 \"/>\n",
       "<polyline clip-path=\"url(#clip412)\" style=\"stroke:#000000; stroke-linecap:round; stroke-linejoin:round; stroke-width:2; stroke-opacity:0.1; fill:none\" points=\"178.867,465.564 2352.76,465.564 \"/>\n",
       "<polyline clip-path=\"url(#clip412)\" style=\"stroke:#000000; stroke-linecap:round; stroke-linejoin:round; stroke-width:2; stroke-opacity:0.1; fill:none\" points=\"178.867,180.307 2352.76,180.307 \"/>\n",
       "<polyline clip-path=\"url(#clip410)\" style=\"stroke:#000000; stroke-linecap:round; stroke-linejoin:round; stroke-width:4; stroke-opacity:1; fill:none\" points=\"178.867,1486.45 178.867,47.2441 \"/>\n",
       "<polyline clip-path=\"url(#clip410)\" style=\"stroke:#000000; stroke-linecap:round; stroke-linejoin:round; stroke-width:4; stroke-opacity:1; fill:none\" points=\"178.867,1321.33 197.764,1321.33 \"/>\n",
       "<polyline clip-path=\"url(#clip410)\" style=\"stroke:#000000; stroke-linecap:round; stroke-linejoin:round; stroke-width:4; stroke-opacity:1; fill:none\" points=\"178.867,1036.08 197.764,1036.08 \"/>\n",
       "<polyline clip-path=\"url(#clip410)\" style=\"stroke:#000000; stroke-linecap:round; stroke-linejoin:round; stroke-width:4; stroke-opacity:1; fill:none\" points=\"178.867,750.82 197.764,750.82 \"/>\n",
       "<polyline clip-path=\"url(#clip410)\" style=\"stroke:#000000; stroke-linecap:round; stroke-linejoin:round; stroke-width:4; stroke-opacity:1; fill:none\" points=\"178.867,465.564 197.764,465.564 \"/>\n",
       "<polyline clip-path=\"url(#clip410)\" style=\"stroke:#000000; stroke-linecap:round; stroke-linejoin:round; stroke-width:4; stroke-opacity:1; fill:none\" points=\"178.867,180.307 197.764,180.307 \"/>\n",
       "<path clip-path=\"url(#clip410)\" d=\"M50.9921 1321.78 L80.6679 1321.78 L80.6679 1325.72 L50.9921 1325.72 L50.9921 1321.78 Z\" fill=\"#000000\" fill-rule=\"nonzero\" fill-opacity=\"1\" /><path clip-path=\"url(#clip410)\" d=\"M90.8067 1304.05 L109.163 1304.05 L109.163 1307.99 L95.0891 1307.99 L95.0891 1316.46 Q96.1076 1316.11 97.1261 1315.95 Q98.1447 1315.77 99.1632 1315.77 Q104.95 1315.77 108.33 1318.94 Q111.709 1322.11 111.709 1327.52 Q111.709 1333.1 108.237 1336.21 Q104.765 1339.28 98.4456 1339.28 Q96.2697 1339.28 94.0012 1338.91 Q91.7558 1338.54 89.3484 1337.8 L89.3484 1333.1 Q91.4317 1334.24 93.6539 1334.79 Q95.8761 1335.35 98.353 1335.35 Q102.358 1335.35 104.696 1333.24 Q107.033 1331.14 107.033 1327.52 Q107.033 1323.91 104.696 1321.81 Q102.358 1319.7 98.353 1319.7 Q96.478 1319.7 94.603 1320.12 Q92.7512 1320.53 90.8067 1321.41 L90.8067 1304.05 Z\" fill=\"#000000\" fill-rule=\"nonzero\" fill-opacity=\"1\" /><path clip-path=\"url(#clip410)\" d=\"M130.922 1307.13 Q127.311 1307.13 125.482 1310.7 Q123.677 1314.24 123.677 1321.37 Q123.677 1328.47 125.482 1332.04 Q127.311 1335.58 130.922 1335.58 Q134.556 1335.58 136.362 1332.04 Q138.191 1328.47 138.191 1321.37 Q138.191 1314.24 136.362 1310.7 Q134.556 1307.13 130.922 1307.13 M130.922 1303.43 Q136.732 1303.43 139.788 1308.03 Q142.867 1312.62 142.867 1321.37 Q142.867 1330.09 139.788 1334.7 Q136.732 1339.28 130.922 1339.28 Q125.112 1339.28 122.033 1334.7 Q118.978 1330.09 118.978 1321.37 Q118.978 1312.62 122.033 1308.03 Q125.112 1303.43 130.922 1303.43 Z\" fill=\"#000000\" fill-rule=\"nonzero\" fill-opacity=\"1\" /><path clip-path=\"url(#clip410)\" d=\"M51.9875 1036.53 L81.6633 1036.53 L81.6633 1040.46 L51.9875 1040.46 L51.9875 1036.53 Z\" fill=\"#000000\" fill-rule=\"nonzero\" fill-opacity=\"1\" /><path clip-path=\"url(#clip410)\" d=\"M95.7836 1049.42 L112.103 1049.42 L112.103 1053.36 L90.1586 1053.36 L90.1586 1049.42 Q92.8206 1046.67 97.4039 1042.04 Q102.01 1037.38 103.191 1036.04 Q105.436 1033.52 106.316 1031.78 Q107.219 1030.02 107.219 1028.33 Q107.219 1025.58 105.274 1023.84 Q103.353 1022.11 100.251 1022.11 Q98.0521 1022.11 95.5984 1022.87 Q93.1678 1023.63 90.3901 1025.19 L90.3901 1020.46 Q93.2141 1019.33 95.6678 1018.75 Q98.1215 1018.17 100.159 1018.17 Q105.529 1018.17 108.723 1020.86 Q111.918 1023.54 111.918 1028.03 Q111.918 1030.16 111.108 1032.08 Q110.321 1033.98 108.214 1036.57 Q107.635 1037.25 104.534 1040.46 Q101.432 1043.66 95.7836 1049.42 Z\" fill=\"#000000\" fill-rule=\"nonzero\" fill-opacity=\"1\" /><path clip-path=\"url(#clip410)\" d=\"M121.964 1018.8 L140.32 1018.8 L140.32 1022.73 L126.246 1022.73 L126.246 1031.2 Q127.265 1030.86 128.283 1030.69 Q129.302 1030.51 130.32 1030.51 Q136.107 1030.51 139.487 1033.68 Q142.867 1036.85 142.867 1042.27 Q142.867 1047.85 139.394 1050.95 Q135.922 1054.03 129.603 1054.03 Q127.427 1054.03 125.158 1053.66 Q122.913 1053.29 120.506 1052.55 L120.506 1047.85 Q122.589 1048.98 124.811 1049.54 Q127.033 1050.09 129.51 1050.09 Q133.515 1050.09 135.853 1047.99 Q138.191 1045.88 138.191 1042.27 Q138.191 1038.66 135.853 1036.55 Q133.515 1034.44 129.51 1034.44 Q127.635 1034.44 125.76 1034.86 Q123.908 1035.28 121.964 1036.16 L121.964 1018.8 Z\" fill=\"#000000\" fill-rule=\"nonzero\" fill-opacity=\"1\" /><path clip-path=\"url(#clip410)\" d=\"M130.922 736.619 Q127.311 736.619 125.482 740.184 Q123.677 743.725 123.677 750.855 Q123.677 757.961 125.482 761.526 Q127.311 765.068 130.922 765.068 Q134.556 765.068 136.362 761.526 Q138.191 757.961 138.191 750.855 Q138.191 743.725 136.362 740.184 Q134.556 736.619 130.922 736.619 M130.922 732.915 Q136.732 732.915 139.788 737.521 Q142.867 742.105 142.867 750.855 Q142.867 759.582 139.788 764.188 Q136.732 768.771 130.922 768.771 Q125.112 768.771 122.033 764.188 Q118.978 759.582 118.978 750.855 Q118.978 742.105 122.033 737.521 Q125.112 732.915 130.922 732.915 Z\" fill=\"#000000\" fill-rule=\"nonzero\" fill-opacity=\"1\" /><path clip-path=\"url(#clip410)\" d=\"M95.7836 478.909 L112.103 478.909 L112.103 482.844 L90.1586 482.844 L90.1586 478.909 Q92.8206 476.154 97.4039 471.524 Q102.01 466.872 103.191 465.529 Q105.436 463.006 106.316 461.27 Q107.219 459.511 107.219 457.821 Q107.219 455.066 105.274 453.33 Q103.353 451.594 100.251 451.594 Q98.0521 451.594 95.5984 452.358 Q93.1678 453.122 90.3901 454.673 L90.3901 449.95 Q93.2141 448.816 95.6678 448.237 Q98.1215 447.659 100.159 447.659 Q105.529 447.659 108.723 450.344 Q111.918 453.029 111.918 457.52 Q111.918 459.649 111.108 461.571 Q110.321 463.469 108.214 466.061 Q107.635 466.733 104.534 469.95 Q101.432 473.145 95.7836 478.909 Z\" fill=\"#000000\" fill-rule=\"nonzero\" fill-opacity=\"1\" /><path clip-path=\"url(#clip410)\" d=\"M121.964 448.284 L140.32 448.284 L140.32 452.219 L126.246 452.219 L126.246 460.691 Q127.265 460.344 128.283 460.182 Q129.302 459.997 130.32 459.997 Q136.107 459.997 139.487 463.168 Q142.867 466.339 142.867 471.756 Q142.867 477.334 139.394 480.436 Q135.922 483.515 129.603 483.515 Q127.427 483.515 125.158 483.145 Q122.913 482.774 120.506 482.034 L120.506 477.334 Q122.589 478.469 124.811 479.024 Q127.033 479.58 129.51 479.58 Q133.515 479.58 135.853 477.473 Q138.191 475.367 138.191 471.756 Q138.191 468.145 135.853 466.038 Q133.515 463.932 129.51 463.932 Q127.635 463.932 125.76 464.348 Q123.908 464.765 121.964 465.645 L121.964 448.284 Z\" fill=\"#000000\" fill-rule=\"nonzero\" fill-opacity=\"1\" /><path clip-path=\"url(#clip410)\" d=\"M90.8067 163.027 L109.163 163.027 L109.163 166.963 L95.0891 166.963 L95.0891 175.435 Q96.1076 175.088 97.1261 174.925 Q98.1447 174.74 99.1632 174.74 Q104.95 174.74 108.33 177.912 Q111.709 181.083 111.709 186.5 Q111.709 192.078 108.237 195.18 Q104.765 198.259 98.4456 198.259 Q96.2697 198.259 94.0012 197.888 Q91.7558 197.518 89.3484 196.777 L89.3484 192.078 Q91.4317 193.212 93.6539 193.768 Q95.8761 194.324 98.353 194.324 Q102.358 194.324 104.696 192.217 Q107.033 190.111 107.033 186.5 Q107.033 182.888 104.696 180.782 Q102.358 178.675 98.353 178.675 Q96.478 178.675 94.603 179.092 Q92.7512 179.509 90.8067 180.388 L90.8067 163.027 Z\" fill=\"#000000\" fill-rule=\"nonzero\" fill-opacity=\"1\" /><path clip-path=\"url(#clip410)\" d=\"M130.922 166.106 Q127.311 166.106 125.482 169.671 Q123.677 173.213 123.677 180.342 Q123.677 187.449 125.482 191.013 Q127.311 194.555 130.922 194.555 Q134.556 194.555 136.362 191.013 Q138.191 187.449 138.191 180.342 Q138.191 173.213 136.362 169.671 Q134.556 166.106 130.922 166.106 M130.922 162.402 Q136.732 162.402 139.788 167.009 Q142.867 171.592 142.867 180.342 Q142.867 189.069 139.788 193.675 Q136.732 198.259 130.922 198.259 Q125.112 198.259 122.033 193.675 Q118.978 189.069 118.978 180.342 Q118.978 171.592 122.033 167.009 Q125.112 162.402 130.922 162.402 Z\" fill=\"#000000\" fill-rule=\"nonzero\" fill-opacity=\"1\" /><circle clip-path=\"url(#clip412)\" cx=\"240.392\" cy=\"657.536\" r=\"14.4\" fill=\"#009af9\" fill-rule=\"evenodd\" fill-opacity=\"1\" stroke=\"#000000\" stroke-opacity=\"1\" stroke-width=\"3.2\"/>\n",
       "<circle clip-path=\"url(#clip412)\" cx=\"261.107\" cy=\"784.573\" r=\"14.4\" fill=\"#009af9\" fill-rule=\"evenodd\" fill-opacity=\"1\" stroke=\"#000000\" stroke-opacity=\"1\" stroke-width=\"3.2\"/>\n",
       "<circle clip-path=\"url(#clip412)\" cx=\"281.823\" cy=\"752.952\" r=\"14.4\" fill=\"#009af9\" fill-rule=\"evenodd\" fill-opacity=\"1\" stroke=\"#000000\" stroke-opacity=\"1\" stroke-width=\"3.2\"/>\n",
       "<circle clip-path=\"url(#clip412)\" cx=\"302.538\" cy=\"753.361\" r=\"14.4\" fill=\"#009af9\" fill-rule=\"evenodd\" fill-opacity=\"1\" stroke=\"#000000\" stroke-opacity=\"1\" stroke-width=\"3.2\"/>\n",
       "<circle clip-path=\"url(#clip412)\" cx=\"323.254\" cy=\"830.706\" r=\"14.4\" fill=\"#009af9\" fill-rule=\"evenodd\" fill-opacity=\"1\" stroke=\"#000000\" stroke-opacity=\"1\" stroke-width=\"3.2\"/>\n",
       "<circle clip-path=\"url(#clip412)\" cx=\"343.97\" cy=\"685.147\" r=\"14.4\" fill=\"#009af9\" fill-rule=\"evenodd\" fill-opacity=\"1\" stroke=\"#000000\" stroke-opacity=\"1\" stroke-width=\"3.2\"/>\n",
       "<circle clip-path=\"url(#clip412)\" cx=\"364.685\" cy=\"810.058\" r=\"14.4\" fill=\"#009af9\" fill-rule=\"evenodd\" fill-opacity=\"1\" stroke=\"#000000\" stroke-opacity=\"1\" stroke-width=\"3.2\"/>\n",
       "<circle clip-path=\"url(#clip412)\" cx=\"385.401\" cy=\"756.738\" r=\"14.4\" fill=\"#009af9\" fill-rule=\"evenodd\" fill-opacity=\"1\" stroke=\"#000000\" stroke-opacity=\"1\" stroke-width=\"3.2\"/>\n",
       "<circle clip-path=\"url(#clip412)\" cx=\"406.116\" cy=\"777.646\" r=\"14.4\" fill=\"#009af9\" fill-rule=\"evenodd\" fill-opacity=\"1\" stroke=\"#000000\" stroke-opacity=\"1\" stroke-width=\"3.2\"/>\n",
       "<circle clip-path=\"url(#clip412)\" cx=\"426.832\" cy=\"729.533\" r=\"14.4\" fill=\"#009af9\" fill-rule=\"evenodd\" fill-opacity=\"1\" stroke=\"#000000\" stroke-opacity=\"1\" stroke-width=\"3.2\"/>\n",
       "<circle clip-path=\"url(#clip412)\" cx=\"447.547\" cy=\"721.148\" r=\"14.4\" fill=\"#009af9\" fill-rule=\"evenodd\" fill-opacity=\"1\" stroke=\"#000000\" stroke-opacity=\"1\" stroke-width=\"3.2\"/>\n",
       "<circle clip-path=\"url(#clip412)\" cx=\"468.263\" cy=\"763.338\" r=\"14.4\" fill=\"#009af9\" fill-rule=\"evenodd\" fill-opacity=\"1\" stroke=\"#000000\" stroke-opacity=\"1\" stroke-width=\"3.2\"/>\n",
       "<circle clip-path=\"url(#clip412)\" cx=\"488.978\" cy=\"715.343\" r=\"14.4\" fill=\"#009af9\" fill-rule=\"evenodd\" fill-opacity=\"1\" stroke=\"#000000\" stroke-opacity=\"1\" stroke-width=\"3.2\"/>\n",
       "<circle clip-path=\"url(#clip412)\" cx=\"509.694\" cy=\"808.006\" r=\"14.4\" fill=\"#009af9\" fill-rule=\"evenodd\" fill-opacity=\"1\" stroke=\"#000000\" stroke-opacity=\"1\" stroke-width=\"3.2\"/>\n",
       "<circle clip-path=\"url(#clip412)\" cx=\"530.409\" cy=\"745.048\" r=\"14.4\" fill=\"#009af9\" fill-rule=\"evenodd\" fill-opacity=\"1\" stroke=\"#000000\" stroke-opacity=\"1\" stroke-width=\"3.2\"/>\n",
       "<circle clip-path=\"url(#clip412)\" cx=\"551.125\" cy=\"850.54\" r=\"14.4\" fill=\"#009af9\" fill-rule=\"evenodd\" fill-opacity=\"1\" stroke=\"#000000\" stroke-opacity=\"1\" stroke-width=\"3.2\"/>\n",
       "<circle clip-path=\"url(#clip412)\" cx=\"571.841\" cy=\"856.757\" r=\"14.4\" fill=\"#009af9\" fill-rule=\"evenodd\" fill-opacity=\"1\" stroke=\"#000000\" stroke-opacity=\"1\" stroke-width=\"3.2\"/>\n",
       "<circle clip-path=\"url(#clip412)\" cx=\"592.556\" cy=\"730.114\" r=\"14.4\" fill=\"#009af9\" fill-rule=\"evenodd\" fill-opacity=\"1\" stroke=\"#000000\" stroke-opacity=\"1\" stroke-width=\"3.2\"/>\n",
       "<circle clip-path=\"url(#clip412)\" cx=\"613.272\" cy=\"750.637\" r=\"14.4\" fill=\"#009af9\" fill-rule=\"evenodd\" fill-opacity=\"1\" stroke=\"#000000\" stroke-opacity=\"1\" stroke-width=\"3.2\"/>\n",
       "<circle clip-path=\"url(#clip412)\" cx=\"633.987\" cy=\"751.743\" r=\"14.4\" fill=\"#009af9\" fill-rule=\"evenodd\" fill-opacity=\"1\" stroke=\"#000000\" stroke-opacity=\"1\" stroke-width=\"3.2\"/>\n",
       "<circle clip-path=\"url(#clip412)\" cx=\"654.703\" cy=\"769.636\" r=\"14.4\" fill=\"#009af9\" fill-rule=\"evenodd\" fill-opacity=\"1\" stroke=\"#000000\" stroke-opacity=\"1\" stroke-width=\"3.2\"/>\n",
       "<circle clip-path=\"url(#clip412)\" cx=\"675.418\" cy=\"787.994\" r=\"14.4\" fill=\"#009af9\" fill-rule=\"evenodd\" fill-opacity=\"1\" stroke=\"#000000\" stroke-opacity=\"1\" stroke-width=\"3.2\"/>\n",
       "<circle clip-path=\"url(#clip412)\" cx=\"696.134\" cy=\"684.343\" r=\"14.4\" fill=\"#009af9\" fill-rule=\"evenodd\" fill-opacity=\"1\" stroke=\"#000000\" stroke-opacity=\"1\" stroke-width=\"3.2\"/>\n",
       "<circle clip-path=\"url(#clip412)\" cx=\"716.849\" cy=\"694.186\" r=\"14.4\" fill=\"#009af9\" fill-rule=\"evenodd\" fill-opacity=\"1\" stroke=\"#000000\" stroke-opacity=\"1\" stroke-width=\"3.2\"/>\n",
       "<circle clip-path=\"url(#clip412)\" cx=\"737.565\" cy=\"705.852\" r=\"14.4\" fill=\"#009af9\" fill-rule=\"evenodd\" fill-opacity=\"1\" stroke=\"#000000\" stroke-opacity=\"1\" stroke-width=\"3.2\"/>\n",
       "<circle clip-path=\"url(#clip412)\" cx=\"758.28\" cy=\"728.17\" r=\"14.4\" fill=\"#009af9\" fill-rule=\"evenodd\" fill-opacity=\"1\" stroke=\"#000000\" stroke-opacity=\"1\" stroke-width=\"3.2\"/>\n",
       "<circle clip-path=\"url(#clip412)\" cx=\"778.996\" cy=\"760.517\" r=\"14.4\" fill=\"#009af9\" fill-rule=\"evenodd\" fill-opacity=\"1\" stroke=\"#000000\" stroke-opacity=\"1\" stroke-width=\"3.2\"/>\n",
       "<circle clip-path=\"url(#clip412)\" cx=\"799.712\" cy=\"773.74\" r=\"14.4\" fill=\"#009af9\" fill-rule=\"evenodd\" fill-opacity=\"1\" stroke=\"#000000\" stroke-opacity=\"1\" stroke-width=\"3.2\"/>\n",
       "<circle clip-path=\"url(#clip412)\" cx=\"820.427\" cy=\"684.341\" r=\"14.4\" fill=\"#009af9\" fill-rule=\"evenodd\" fill-opacity=\"1\" stroke=\"#000000\" stroke-opacity=\"1\" stroke-width=\"3.2\"/>\n",
       "<circle clip-path=\"url(#clip412)\" cx=\"841.143\" cy=\"802.217\" r=\"14.4\" fill=\"#009af9\" fill-rule=\"evenodd\" fill-opacity=\"1\" stroke=\"#000000\" stroke-opacity=\"1\" stroke-width=\"3.2\"/>\n",
       "<circle clip-path=\"url(#clip412)\" cx=\"861.858\" cy=\"713.632\" r=\"14.4\" fill=\"#009af9\" fill-rule=\"evenodd\" fill-opacity=\"1\" stroke=\"#000000\" stroke-opacity=\"1\" stroke-width=\"3.2\"/>\n",
       "<circle clip-path=\"url(#clip412)\" cx=\"882.574\" cy=\"754.692\" r=\"14.4\" fill=\"#009af9\" fill-rule=\"evenodd\" fill-opacity=\"1\" stroke=\"#000000\" stroke-opacity=\"1\" stroke-width=\"3.2\"/>\n",
       "<circle clip-path=\"url(#clip412)\" cx=\"903.289\" cy=\"786.962\" r=\"14.4\" fill=\"#009af9\" fill-rule=\"evenodd\" fill-opacity=\"1\" stroke=\"#000000\" stroke-opacity=\"1\" stroke-width=\"3.2\"/>\n",
       "<circle clip-path=\"url(#clip412)\" cx=\"924.005\" cy=\"743.809\" r=\"14.4\" fill=\"#009af9\" fill-rule=\"evenodd\" fill-opacity=\"1\" stroke=\"#000000\" stroke-opacity=\"1\" stroke-width=\"3.2\"/>\n",
       "<circle clip-path=\"url(#clip412)\" cx=\"944.72\" cy=\"744.07\" r=\"14.4\" fill=\"#009af9\" fill-rule=\"evenodd\" fill-opacity=\"1\" stroke=\"#000000\" stroke-opacity=\"1\" stroke-width=\"3.2\"/>\n",
       "<circle clip-path=\"url(#clip412)\" cx=\"965.436\" cy=\"826.159\" r=\"14.4\" fill=\"#009af9\" fill-rule=\"evenodd\" fill-opacity=\"1\" stroke=\"#000000\" stroke-opacity=\"1\" stroke-width=\"3.2\"/>\n",
       "<circle clip-path=\"url(#clip412)\" cx=\"986.151\" cy=\"741.273\" r=\"14.4\" fill=\"#009af9\" fill-rule=\"evenodd\" fill-opacity=\"1\" stroke=\"#000000\" stroke-opacity=\"1\" stroke-width=\"3.2\"/>\n",
       "<circle clip-path=\"url(#clip412)\" cx=\"1006.87\" cy=\"797.399\" r=\"14.4\" fill=\"#009af9\" fill-rule=\"evenodd\" fill-opacity=\"1\" stroke=\"#000000\" stroke-opacity=\"1\" stroke-width=\"3.2\"/>\n",
       "<circle clip-path=\"url(#clip412)\" cx=\"1027.58\" cy=\"719.175\" r=\"14.4\" fill=\"#009af9\" fill-rule=\"evenodd\" fill-opacity=\"1\" stroke=\"#000000\" stroke-opacity=\"1\" stroke-width=\"3.2\"/>\n",
       "<circle clip-path=\"url(#clip412)\" cx=\"1048.3\" cy=\"791.004\" r=\"14.4\" fill=\"#009af9\" fill-rule=\"evenodd\" fill-opacity=\"1\" stroke=\"#000000\" stroke-opacity=\"1\" stroke-width=\"3.2\"/>\n",
       "<circle clip-path=\"url(#clip412)\" cx=\"1069.01\" cy=\"805.526\" r=\"14.4\" fill=\"#009af9\" fill-rule=\"evenodd\" fill-opacity=\"1\" stroke=\"#000000\" stroke-opacity=\"1\" stroke-width=\"3.2\"/>\n",
       "<circle clip-path=\"url(#clip412)\" cx=\"1089.73\" cy=\"721.804\" r=\"14.4\" fill=\"#009af9\" fill-rule=\"evenodd\" fill-opacity=\"1\" stroke=\"#000000\" stroke-opacity=\"1\" stroke-width=\"3.2\"/>\n",
       "<circle clip-path=\"url(#clip412)\" cx=\"1110.44\" cy=\"727.675\" r=\"14.4\" fill=\"#009af9\" fill-rule=\"evenodd\" fill-opacity=\"1\" stroke=\"#000000\" stroke-opacity=\"1\" stroke-width=\"3.2\"/>\n",
       "<circle clip-path=\"url(#clip412)\" cx=\"1131.16\" cy=\"799.295\" r=\"14.4\" fill=\"#009af9\" fill-rule=\"evenodd\" fill-opacity=\"1\" stroke=\"#000000\" stroke-opacity=\"1\" stroke-width=\"3.2\"/>\n",
       "<circle clip-path=\"url(#clip412)\" cx=\"1151.88\" cy=\"823.795\" r=\"14.4\" fill=\"#009af9\" fill-rule=\"evenodd\" fill-opacity=\"1\" stroke=\"#000000\" stroke-opacity=\"1\" stroke-width=\"3.2\"/>\n",
       "<circle clip-path=\"url(#clip412)\" cx=\"1172.59\" cy=\"750.417\" r=\"14.4\" fill=\"#009af9\" fill-rule=\"evenodd\" fill-opacity=\"1\" stroke=\"#000000\" stroke-opacity=\"1\" stroke-width=\"3.2\"/>\n",
       "<circle clip-path=\"url(#clip412)\" cx=\"1193.31\" cy=\"744.682\" r=\"14.4\" fill=\"#009af9\" fill-rule=\"evenodd\" fill-opacity=\"1\" stroke=\"#000000\" stroke-opacity=\"1\" stroke-width=\"3.2\"/>\n",
       "<circle clip-path=\"url(#clip412)\" cx=\"1214.02\" cy=\"757.664\" r=\"14.4\" fill=\"#009af9\" fill-rule=\"evenodd\" fill-opacity=\"1\" stroke=\"#000000\" stroke-opacity=\"1\" stroke-width=\"3.2\"/>\n",
       "<circle clip-path=\"url(#clip412)\" cx=\"1234.74\" cy=\"797.815\" r=\"14.4\" fill=\"#009af9\" fill-rule=\"evenodd\" fill-opacity=\"1\" stroke=\"#000000\" stroke-opacity=\"1\" stroke-width=\"3.2\"/>\n",
       "<circle clip-path=\"url(#clip412)\" cx=\"1255.45\" cy=\"738.142\" r=\"14.4\" fill=\"#009af9\" fill-rule=\"evenodd\" fill-opacity=\"1\" stroke=\"#000000\" stroke-opacity=\"1\" stroke-width=\"3.2\"/>\n",
       "<circle clip-path=\"url(#clip412)\" cx=\"1276.17\" cy=\"813.231\" r=\"14.4\" fill=\"#009af9\" fill-rule=\"evenodd\" fill-opacity=\"1\" stroke=\"#000000\" stroke-opacity=\"1\" stroke-width=\"3.2\"/>\n",
       "<circle clip-path=\"url(#clip412)\" cx=\"1296.88\" cy=\"350.486\" r=\"14.4\" fill=\"#009af9\" fill-rule=\"evenodd\" fill-opacity=\"1\" stroke=\"#000000\" stroke-opacity=\"1\" stroke-width=\"3.2\"/>\n",
       "<circle clip-path=\"url(#clip412)\" cx=\"1317.6\" cy=\"775.138\" r=\"14.4\" fill=\"#009af9\" fill-rule=\"evenodd\" fill-opacity=\"1\" stroke=\"#000000\" stroke-opacity=\"1\" stroke-width=\"3.2\"/>\n",
       "<circle clip-path=\"url(#clip412)\" cx=\"1338.32\" cy=\"734.008\" r=\"14.4\" fill=\"#009af9\" fill-rule=\"evenodd\" fill-opacity=\"1\" stroke=\"#000000\" stroke-opacity=\"1\" stroke-width=\"3.2\"/>\n",
       "<circle clip-path=\"url(#clip412)\" cx=\"1359.03\" cy=\"943.795\" r=\"14.4\" fill=\"#009af9\" fill-rule=\"evenodd\" fill-opacity=\"1\" stroke=\"#000000\" stroke-opacity=\"1\" stroke-width=\"3.2\"/>\n",
       "<circle clip-path=\"url(#clip412)\" cx=\"1379.75\" cy=\"809.2\" r=\"14.4\" fill=\"#009af9\" fill-rule=\"evenodd\" fill-opacity=\"1\" stroke=\"#000000\" stroke-opacity=\"1\" stroke-width=\"3.2\"/>\n",
       "<circle clip-path=\"url(#clip412)\" cx=\"1400.46\" cy=\"1144.15\" r=\"14.4\" fill=\"#009af9\" fill-rule=\"evenodd\" fill-opacity=\"1\" stroke=\"#000000\" stroke-opacity=\"1\" stroke-width=\"3.2\"/>\n",
       "<circle clip-path=\"url(#clip412)\" cx=\"1421.18\" cy=\"1131.02\" r=\"14.4\" fill=\"#009af9\" fill-rule=\"evenodd\" fill-opacity=\"1\" stroke=\"#000000\" stroke-opacity=\"1\" stroke-width=\"3.2\"/>\n",
       "<circle clip-path=\"url(#clip412)\" cx=\"1441.89\" cy=\"352.492\" r=\"14.4\" fill=\"#009af9\" fill-rule=\"evenodd\" fill-opacity=\"1\" stroke=\"#000000\" stroke-opacity=\"1\" stroke-width=\"3.2\"/>\n",
       "<circle clip-path=\"url(#clip412)\" cx=\"1462.61\" cy=\"913.977\" r=\"14.4\" fill=\"#009af9\" fill-rule=\"evenodd\" fill-opacity=\"1\" stroke=\"#000000\" stroke-opacity=\"1\" stroke-width=\"3.2\"/>\n",
       "<circle clip-path=\"url(#clip412)\" cx=\"1483.32\" cy=\"699.06\" r=\"14.4\" fill=\"#009af9\" fill-rule=\"evenodd\" fill-opacity=\"1\" stroke=\"#000000\" stroke-opacity=\"1\" stroke-width=\"3.2\"/>\n",
       "<circle clip-path=\"url(#clip412)\" cx=\"1504.04\" cy=\"919.487\" r=\"14.4\" fill=\"#009af9\" fill-rule=\"evenodd\" fill-opacity=\"1\" stroke=\"#000000\" stroke-opacity=\"1\" stroke-width=\"3.2\"/>\n",
       "<circle clip-path=\"url(#clip412)\" cx=\"1524.76\" cy=\"549.642\" r=\"14.4\" fill=\"#009af9\" fill-rule=\"evenodd\" fill-opacity=\"1\" stroke=\"#000000\" stroke-opacity=\"1\" stroke-width=\"3.2\"/>\n",
       "<circle clip-path=\"url(#clip412)\" cx=\"1545.47\" cy=\"472.043\" r=\"14.4\" fill=\"#009af9\" fill-rule=\"evenodd\" fill-opacity=\"1\" stroke=\"#000000\" stroke-opacity=\"1\" stroke-width=\"3.2\"/>\n",
       "<circle clip-path=\"url(#clip412)\" cx=\"1566.19\" cy=\"1229.69\" r=\"14.4\" fill=\"#009af9\" fill-rule=\"evenodd\" fill-opacity=\"1\" stroke=\"#000000\" stroke-opacity=\"1\" stroke-width=\"3.2\"/>\n",
       "<circle clip-path=\"url(#clip412)\" cx=\"1586.9\" cy=\"1031.97\" r=\"14.4\" fill=\"#009af9\" fill-rule=\"evenodd\" fill-opacity=\"1\" stroke=\"#000000\" stroke-opacity=\"1\" stroke-width=\"3.2\"/>\n",
       "<circle clip-path=\"url(#clip412)\" cx=\"1607.62\" cy=\"1167.41\" r=\"14.4\" fill=\"#009af9\" fill-rule=\"evenodd\" fill-opacity=\"1\" stroke=\"#000000\" stroke-opacity=\"1\" stroke-width=\"3.2\"/>\n",
       "<circle clip-path=\"url(#clip412)\" cx=\"1628.33\" cy=\"87.9763\" r=\"14.4\" fill=\"#009af9\" fill-rule=\"evenodd\" fill-opacity=\"1\" stroke=\"#000000\" stroke-opacity=\"1\" stroke-width=\"3.2\"/>\n",
       "<circle clip-path=\"url(#clip412)\" cx=\"1649.05\" cy=\"655.673\" r=\"14.4\" fill=\"#009af9\" fill-rule=\"evenodd\" fill-opacity=\"1\" stroke=\"#000000\" stroke-opacity=\"1\" stroke-width=\"3.2\"/>\n",
       "<circle clip-path=\"url(#clip412)\" cx=\"1669.76\" cy=\"806.609\" r=\"14.4\" fill=\"#009af9\" fill-rule=\"evenodd\" fill-opacity=\"1\" stroke=\"#000000\" stroke-opacity=\"1\" stroke-width=\"3.2\"/>\n",
       "<circle clip-path=\"url(#clip412)\" cx=\"1690.48\" cy=\"795.763\" r=\"14.4\" fill=\"#009af9\" fill-rule=\"evenodd\" fill-opacity=\"1\" stroke=\"#000000\" stroke-opacity=\"1\" stroke-width=\"3.2\"/>\n",
       "<circle clip-path=\"url(#clip412)\" cx=\"1711.2\" cy=\"782.079\" r=\"14.4\" fill=\"#009af9\" fill-rule=\"evenodd\" fill-opacity=\"1\" stroke=\"#000000\" stroke-opacity=\"1\" stroke-width=\"3.2\"/>\n",
       "<circle clip-path=\"url(#clip412)\" cx=\"1731.91\" cy=\"628.112\" r=\"14.4\" fill=\"#009af9\" fill-rule=\"evenodd\" fill-opacity=\"1\" stroke=\"#000000\" stroke-opacity=\"1\" stroke-width=\"3.2\"/>\n",
       "<circle clip-path=\"url(#clip412)\" cx=\"1752.63\" cy=\"871.825\" r=\"14.4\" fill=\"#009af9\" fill-rule=\"evenodd\" fill-opacity=\"1\" stroke=\"#000000\" stroke-opacity=\"1\" stroke-width=\"3.2\"/>\n",
       "<circle clip-path=\"url(#clip412)\" cx=\"1773.34\" cy=\"1195.66\" r=\"14.4\" fill=\"#009af9\" fill-rule=\"evenodd\" fill-opacity=\"1\" stroke=\"#000000\" stroke-opacity=\"1\" stroke-width=\"3.2\"/>\n",
       "<circle clip-path=\"url(#clip412)\" cx=\"1794.06\" cy=\"875.489\" r=\"14.4\" fill=\"#009af9\" fill-rule=\"evenodd\" fill-opacity=\"1\" stroke=\"#000000\" stroke-opacity=\"1\" stroke-width=\"3.2\"/>\n",
       "<circle clip-path=\"url(#clip412)\" cx=\"1814.77\" cy=\"752.938\" r=\"14.4\" fill=\"#009af9\" fill-rule=\"evenodd\" fill-opacity=\"1\" stroke=\"#000000\" stroke-opacity=\"1\" stroke-width=\"3.2\"/>\n",
       "<circle clip-path=\"url(#clip412)\" cx=\"1835.49\" cy=\"568.933\" r=\"14.4\" fill=\"#009af9\" fill-rule=\"evenodd\" fill-opacity=\"1\" stroke=\"#000000\" stroke-opacity=\"1\" stroke-width=\"3.2\"/>\n",
       "<circle clip-path=\"url(#clip412)\" cx=\"1856.2\" cy=\"468.204\" r=\"14.4\" fill=\"#009af9\" fill-rule=\"evenodd\" fill-opacity=\"1\" stroke=\"#000000\" stroke-opacity=\"1\" stroke-width=\"3.2\"/>\n",
       "<circle clip-path=\"url(#clip412)\" cx=\"1876.92\" cy=\"787.851\" r=\"14.4\" fill=\"#009af9\" fill-rule=\"evenodd\" fill-opacity=\"1\" stroke=\"#000000\" stroke-opacity=\"1\" stroke-width=\"3.2\"/>\n",
       "<circle clip-path=\"url(#clip412)\" cx=\"1897.64\" cy=\"855.163\" r=\"14.4\" fill=\"#009af9\" fill-rule=\"evenodd\" fill-opacity=\"1\" stroke=\"#000000\" stroke-opacity=\"1\" stroke-width=\"3.2\"/>\n",
       "<circle clip-path=\"url(#clip412)\" cx=\"1918.35\" cy=\"730.905\" r=\"14.4\" fill=\"#009af9\" fill-rule=\"evenodd\" fill-opacity=\"1\" stroke=\"#000000\" stroke-opacity=\"1\" stroke-width=\"3.2\"/>\n",
       "<circle clip-path=\"url(#clip412)\" cx=\"1939.07\" cy=\"1182.73\" r=\"14.4\" fill=\"#009af9\" fill-rule=\"evenodd\" fill-opacity=\"1\" stroke=\"#000000\" stroke-opacity=\"1\" stroke-width=\"3.2\"/>\n",
       "<circle clip-path=\"url(#clip412)\" cx=\"1959.78\" cy=\"656.795\" r=\"14.4\" fill=\"#009af9\" fill-rule=\"evenodd\" fill-opacity=\"1\" stroke=\"#000000\" stroke-opacity=\"1\" stroke-width=\"3.2\"/>\n",
       "<circle clip-path=\"url(#clip412)\" cx=\"1980.5\" cy=\"876.455\" r=\"14.4\" fill=\"#009af9\" fill-rule=\"evenodd\" fill-opacity=\"1\" stroke=\"#000000\" stroke-opacity=\"1\" stroke-width=\"3.2\"/>\n",
       "<circle clip-path=\"url(#clip412)\" cx=\"2001.21\" cy=\"1020.14\" r=\"14.4\" fill=\"#009af9\" fill-rule=\"evenodd\" fill-opacity=\"1\" stroke=\"#000000\" stroke-opacity=\"1\" stroke-width=\"3.2\"/>\n",
       "<circle clip-path=\"url(#clip412)\" cx=\"2021.93\" cy=\"735.457\" r=\"14.4\" fill=\"#009af9\" fill-rule=\"evenodd\" fill-opacity=\"1\" stroke=\"#000000\" stroke-opacity=\"1\" stroke-width=\"3.2\"/>\n",
       "<circle clip-path=\"url(#clip412)\" cx=\"2042.64\" cy=\"830.477\" r=\"14.4\" fill=\"#009af9\" fill-rule=\"evenodd\" fill-opacity=\"1\" stroke=\"#000000\" stroke-opacity=\"1\" stroke-width=\"3.2\"/>\n",
       "<circle clip-path=\"url(#clip412)\" cx=\"2063.36\" cy=\"756.661\" r=\"14.4\" fill=\"#009af9\" fill-rule=\"evenodd\" fill-opacity=\"1\" stroke=\"#000000\" stroke-opacity=\"1\" stroke-width=\"3.2\"/>\n",
       "<circle clip-path=\"url(#clip412)\" cx=\"2084.08\" cy=\"477.219\" r=\"14.4\" fill=\"#009af9\" fill-rule=\"evenodd\" fill-opacity=\"1\" stroke=\"#000000\" stroke-opacity=\"1\" stroke-width=\"3.2\"/>\n",
       "<circle clip-path=\"url(#clip412)\" cx=\"2104.79\" cy=\"350.665\" r=\"14.4\" fill=\"#009af9\" fill-rule=\"evenodd\" fill-opacity=\"1\" stroke=\"#000000\" stroke-opacity=\"1\" stroke-width=\"3.2\"/>\n",
       "<circle clip-path=\"url(#clip412)\" cx=\"2125.51\" cy=\"818.388\" r=\"14.4\" fill=\"#009af9\" fill-rule=\"evenodd\" fill-opacity=\"1\" stroke=\"#000000\" stroke-opacity=\"1\" stroke-width=\"3.2\"/>\n",
       "<circle clip-path=\"url(#clip412)\" cx=\"2146.22\" cy=\"972.146\" r=\"14.4\" fill=\"#009af9\" fill-rule=\"evenodd\" fill-opacity=\"1\" stroke=\"#000000\" stroke-opacity=\"1\" stroke-width=\"3.2\"/>\n",
       "<circle clip-path=\"url(#clip412)\" cx=\"2166.94\" cy=\"757.644\" r=\"14.4\" fill=\"#009af9\" fill-rule=\"evenodd\" fill-opacity=\"1\" stroke=\"#000000\" stroke-opacity=\"1\" stroke-width=\"3.2\"/>\n",
       "<circle clip-path=\"url(#clip412)\" cx=\"2187.65\" cy=\"882.551\" r=\"14.4\" fill=\"#009af9\" fill-rule=\"evenodd\" fill-opacity=\"1\" stroke=\"#000000\" stroke-opacity=\"1\" stroke-width=\"3.2\"/>\n",
       "<circle clip-path=\"url(#clip412)\" cx=\"2208.37\" cy=\"847.369\" r=\"14.4\" fill=\"#009af9\" fill-rule=\"evenodd\" fill-opacity=\"1\" stroke=\"#000000\" stroke-opacity=\"1\" stroke-width=\"3.2\"/>\n",
       "<circle clip-path=\"url(#clip412)\" cx=\"2229.08\" cy=\"1397.62\" r=\"14.4\" fill=\"#009af9\" fill-rule=\"evenodd\" fill-opacity=\"1\" stroke=\"#000000\" stroke-opacity=\"1\" stroke-width=\"3.2\"/>\n",
       "<circle clip-path=\"url(#clip412)\" cx=\"2249.8\" cy=\"781.481\" r=\"14.4\" fill=\"#009af9\" fill-rule=\"evenodd\" fill-opacity=\"1\" stroke=\"#000000\" stroke-opacity=\"1\" stroke-width=\"3.2\"/>\n",
       "<circle clip-path=\"url(#clip412)\" cx=\"2270.52\" cy=\"1445.72\" r=\"14.4\" fill=\"#009af9\" fill-rule=\"evenodd\" fill-opacity=\"1\" stroke=\"#000000\" stroke-opacity=\"1\" stroke-width=\"3.2\"/>\n",
       "<circle clip-path=\"url(#clip412)\" cx=\"2291.23\" cy=\"744.722\" r=\"14.4\" fill=\"#009af9\" fill-rule=\"evenodd\" fill-opacity=\"1\" stroke=\"#000000\" stroke-opacity=\"1\" stroke-width=\"3.2\"/>\n",
       "<path clip-path=\"url(#clip410)\" d=\"M251.33 198.898 L521.149 198.898 L521.149 95.2176 L251.33 95.2176  Z\" fill=\"#ffffff\" fill-rule=\"evenodd\" fill-opacity=\"1\"/>\n",
       "<polyline clip-path=\"url(#clip410)\" style=\"stroke:#000000; stroke-linecap:round; stroke-linejoin:round; stroke-width:4; stroke-opacity:1; fill:none\" points=\"251.33,198.898 521.149,198.898 521.149,95.2176 251.33,95.2176 251.33,198.898 \"/>\n",
       "<circle clip-path=\"url(#clip410)\" cx=\"347.947\" cy=\"147.058\" r=\"20.48\" fill=\"#009af9\" fill-rule=\"evenodd\" fill-opacity=\"1\" stroke=\"#000000\" stroke-opacity=\"1\" stroke-width=\"4.55111\"/>\n",
       "<path clip-path=\"url(#clip410)\" d=\"M458.407 166.745 Q456.601 171.375 454.888 172.787 Q453.175 174.199 450.305 174.199 L446.902 174.199 L446.902 170.634 L449.402 170.634 Q451.161 170.634 452.134 169.8 Q453.106 168.967 454.286 165.865 L455.05 163.921 L444.564 138.412 L449.078 138.412 L457.18 158.689 L465.282 138.412 L469.796 138.412 L458.407 166.745 Z\" fill=\"#000000\" fill-rule=\"nonzero\" fill-opacity=\"1\" /><path clip-path=\"url(#clip410)\" d=\"M477.087 160.402 L484.726 160.402 L484.726 134.037 L476.416 135.703 L476.416 131.444 L484.68 129.778 L489.356 129.778 L489.356 160.402 L496.994 160.402 L496.994 164.338 L477.087 164.338 L477.087 160.402 Z\" fill=\"#000000\" fill-rule=\"nonzero\" fill-opacity=\"1\" /></svg>\n"
      ]
     },
     "execution_count": 47,
     "metadata": {},
     "output_type": "execute_result"
    }
   ],
   "source": [
    "# Exercise 3\n",
    "\n",
    "scatter(eps) # More beautiful"
   ]
  },
  {
   "cell_type": "code",
   "execution_count": 48,
   "metadata": {},
   "outputs": [
    {
     "data": {
      "text/plain": [
       "2-element Vector{Float64}:\n",
       " 497.80863782444976\n",
       "  99.92105564105498"
      ]
     },
     "execution_count": 48,
     "metadata": {},
     "output_type": "execute_result"
    }
   ],
   "source": [
    "# Exercise 4\n",
    "\n",
    "coefficients = inv(X'X)X'wage"
   ]
  },
  {
   "cell_type": "markdown",
   "metadata": {},
   "source": [
    "The estimated coefficient are slightly below the true values in the population."
   ]
  },
  {
   "cell_type": "code",
   "execution_count": 49,
   "metadata": {},
   "outputs": [
    {
     "data": {
      "text/plain": [
       "100-element Vector{Float64}:\n",
       " 0.0\n",
       " 0.0\n",
       " 0.0\n",
       " 0.0\n",
       " 0.0\n",
       " 0.0\n",
       " 0.0\n",
       " 0.0\n",
       " 0.0\n",
       " 0.0\n",
       " 0.0\n",
       " 0.0\n",
       " 0.0\n",
       " ⋮\n",
       " 1.0\n",
       " 1.0\n",
       " 1.0\n",
       " 1.0\n",
       " 1.0\n",
       " 1.0\n",
       " 1.0\n",
       " 1.0\n",
       " 1.0\n",
       " 1.0\n",
       " 1.0\n",
       " 1.0"
      ]
     },
     "execution_count": 49,
     "metadata": {},
     "output_type": "execute_result"
    }
   ],
   "source": [
    "# Exercise 5\n",
    "\n",
    "one = ones(50)\n",
    "\n",
    "zero = zeros(50)\n",
    "\n",
    "male = vcat(one, zero)\n",
    "\n",
    "female = vcat(zero, one)\n"
   ]
  },
  {
   "cell_type": "code",
   "execution_count": 50,
   "metadata": {},
   "outputs": [
    {
     "data": {
      "text/plain": [
       "100×4 Matrix{Float64}:\n",
       " 1.0   2.25301     1.0  0.0\n",
       " 1.0  12.8684      1.0  0.0\n",
       " 1.0   2.29637     1.0  0.0\n",
       " 1.0  14.5066      1.0  0.0\n",
       " 1.0   1.83695     1.0  0.0\n",
       " 1.0   8.38326     1.0  0.0\n",
       " 1.0   7.14579     1.0  0.0\n",
       " 1.0  13.8349      1.0  0.0\n",
       " 1.0  12.2185      1.0  0.0\n",
       " 1.0  10.781       1.0  0.0\n",
       " 1.0  13.2715      1.0  0.0\n",
       " 1.0   3.92905     1.0  0.0\n",
       " 1.0   7.04492     1.0  0.0\n",
       " ⋮                      \n",
       " 1.0   1.80142     0.0  1.0\n",
       " 1.0   8.88994     0.0  1.0\n",
       " 1.0  11.7888      0.0  1.0\n",
       " 1.0  14.3284      0.0  1.0\n",
       " 1.0   0.00927014  0.0  1.0\n",
       " 1.0  14.069       0.0  1.0\n",
       " 1.0   4.5887      0.0  1.0\n",
       " 1.0   1.299       0.0  1.0\n",
       " 1.0  14.3308      0.0  1.0\n",
       " 1.0   0.404402    0.0  1.0\n",
       " 1.0  11.1734      0.0  1.0\n",
       " 1.0   4.01771     0.0  1.0"
      ]
     },
     "execution_count": 50,
     "metadata": {},
     "output_type": "execute_result"
    }
   ],
   "source": [
    "# Exercise 5\n",
    "\n",
    "X = [i educ male female]"
   ]
  },
  {
   "cell_type": "code",
   "execution_count": 51,
   "metadata": {},
   "outputs": [
    {
     "data": {
      "text/plain": [
       "100×3 Matrix{Float64}:\n",
       " 1.0   2.25301     1.0\n",
       " 1.0  12.8684      1.0\n",
       " 1.0   2.29637     1.0\n",
       " 1.0  14.5066      1.0\n",
       " 1.0   1.83695     1.0\n",
       " 1.0   8.38326     1.0\n",
       " 1.0   7.14579     1.0\n",
       " 1.0  13.8349      1.0\n",
       " 1.0  12.2185      1.0\n",
       " 1.0  10.781       1.0\n",
       " 1.0  13.2715      1.0\n",
       " 1.0   3.92905     1.0\n",
       " 1.0   7.04492     1.0\n",
       " ⋮                 \n",
       " 1.0   1.80142     0.0\n",
       " 1.0   8.88994     0.0\n",
       " 1.0  11.7888      0.0\n",
       " 1.0  14.3284      0.0\n",
       " 1.0   0.00927014  0.0\n",
       " 1.0  14.069       0.0\n",
       " 1.0   4.5887      0.0\n",
       " 1.0   1.299       0.0\n",
       " 1.0  14.3308      0.0\n",
       " 1.0   0.404402    0.0\n",
       " 1.0  11.1734      0.0\n",
       " 1.0   4.01771     0.0"
      ]
     },
     "execution_count": 51,
     "metadata": {},
     "output_type": "execute_result"
    }
   ],
   "source": [
    "# Exercise 5\n",
    "\n",
    "X = [i educ male]\n"
   ]
  },
  {
   "cell_type": "code",
   "execution_count": 52,
   "metadata": {},
   "outputs": [
    {
     "data": {
      "text/plain": [
       "3-element Vector{Float64}:\n",
       " 495.8489866107866\n",
       "  99.88692672036608\n",
       "   4.494236778091363"
      ]
     },
     "execution_count": 52,
     "metadata": {},
     "output_type": "execute_result"
    }
   ],
   "source": [
    "# Exercise 5\n",
    "\n",
    "OLS = inv(X'X)X'wage"
   ]
  }
 ],
 "metadata": {
  "kernelspec": {
   "display_name": "Julia 1.10.2",
   "language": "julia",
   "name": "julia-1.10"
  },
  "language_info": {
   "file_extension": ".jl",
   "mimetype": "application/julia",
   "name": "julia",
   "version": "1.10.2"
  }
 },
 "nbformat": 4,
 "nbformat_minor": 4
}
