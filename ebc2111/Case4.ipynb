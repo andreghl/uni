{
 "cells": [
  {
   "cell_type": "markdown",
   "metadata": {},
   "source": [
    "# Case 4"
   ]
  },
  {
   "cell_type": "code",
   "execution_count": 3,
   "metadata": {},
   "outputs": [
    {
     "name": "stdout",
     "output_type": "stream",
     "text": [
      "Done!\n"
     ]
    }
   ],
   "source": [
    "using DataFrames, Distributions, GLM, HypothesisTests, MarketData, Plots, TimeSeries, LinearAlgebra, Random, Statistics\n",
    "println(\"Done!\")"
   ]
  },
  {
   "cell_type": "markdown",
   "metadata": {},
   "source": [
    "The CAPM model of Microsoft [:MSFT] looks as follows:\n",
    "\n",
    "$$\n",
    "\\tag{1}\n",
    "r_{t} = \\alpha + \\beta {rm}_{t} + \\epsilon_{t}\n",
    "$$"
   ]
  },
  {
   "cell_type": "code",
   "execution_count": 5,
   "metadata": {},
   "outputs": [
    {
     "name": "stdout",
     "output_type": "stream",
     "text": [
      "Done!\n"
     ]
    }
   ],
   "source": [
    "start = DateTime(2014, 5, 15)  #DateTime(YYYY, M, DD)\n",
    "finish = DateTime(2024, 5, 15)\n",
    "\n",
    "# Getting the data for Microsoft\n",
    "MSFT = yahoo(:MSFT, YahooOpt(period1 = start, period2 = finish))\n",
    "PtMSFT = MSFT[\"Close\"]\n",
    "RtMSFT = diff(log.(PtMSFT))\n",
    "println(\"Done!\")"
   ]
  },
  {
   "cell_type": "markdown",
   "metadata": {},
   "source": [
    "Q1. Team 2 presents"
   ]
  },
  {
   "cell_type": "code",
   "execution_count": 8,
   "metadata": {},
   "outputs": [
    {
     "data": {
      "text/plain": [
       "2516"
      ]
     },
     "metadata": {},
     "output_type": "display_data"
    }
   ],
   "source": [
    "# Exercise 1\n",
    "\n",
    "n = size(RtMSFT, 1)"
   ]
  },
  {
   "cell_type": "code",
   "execution_count": null,
   "metadata": {},
   "outputs": [],
   "source": [
    "# Exercise 1\n",
    "\n",
    "for i in 1:n\n",
    "    # R"
   ]
  }
 ],
 "metadata": {
  "kernelspec": {
   "display_name": "Julia 1.10.3",
   "language": "julia",
   "name": "julia-1.10"
  },
  "language_info": {
   "file_extension": ".jl",
   "mimetype": "application/julia",
   "name": "julia",
   "version": "1.10.3"
  }
 },
 "nbformat": 4,
 "nbformat_minor": 2
}
